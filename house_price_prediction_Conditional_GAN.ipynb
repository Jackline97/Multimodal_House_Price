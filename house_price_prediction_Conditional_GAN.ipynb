{
 "cells": [
  {
   "cell_type": "code",
   "execution_count": 1,
   "id": "a59112f9",
   "metadata": {},
   "outputs": [],
   "source": [
    "import pandas as pd\n",
    "import random\n",
    "import numpy as np\n",
    "import torch\n",
    "from tensorboardX import SummaryWriter\n",
    "def set_seed(seed):\n",
    "    random.seed(seed)\n",
    "    np.random.seed(seed)\n",
    "    torch.manual_seed(seed)\n",
    "    torch.cuda.manual_seed_all(seed)\n",
    "set_seed(7)"
   ]
  },
  {
   "cell_type": "code",
   "execution_count": 2,
   "id": "eea0a4ae",
   "metadata": {},
   "outputs": [],
   "source": [
    "numerical_data = pd.read_csv('all_after_preprocessingStopwords.csv')"
   ]
  },
  {
   "cell_type": "code",
   "execution_count": 3,
   "id": "16997bb9",
   "metadata": {},
   "outputs": [],
   "source": [
    "from sklearn.preprocessing import MinMaxScaler\n",
    "import numpy as np\n",
    "from transformers import BertTokenizer,BertModel,get_linear_schedule_with_warmup, RobertaTokenizer, RobertaModel\n",
    "from torch.utils.data import Dataset, DataLoader\n",
    "def Data_preprocessing(df):\n",
    "    scaler = MinMaxScaler()\n",
    "    \n",
    "    # Numerical Feature\n",
    "    numerical_features = [\"bedroom\",\"bedroomAboveGrade\",\"bedroomBelowGrade\",\"bathroom\", \"bathroomTotal\",\"bathroomPartial\", \n",
    "                        \"totalParkingSpaces\", \"storeys\", \"maintenanceFees\",  'landSize']\n",
    "    \n",
    "    X_num = df[numerical_features]\n",
    "    X_num = scaler.fit_transform(X_num)\n",
    "    X_num = pd.DataFrame(X_num)\n",
    "    df[\"longitude\"] = df[\"longitude\"] *0.01\n",
    "    df[\"latitude\"] = df[\"latitude\"] *0.01\n",
    "    df[numerical_features] = X_num\n",
    "          \n",
    "    # Boolean Feature\n",
    "    boolean_features=['parkingAttachedGarage',\n",
    "       'parkingUnderground', 'parkingInsideEntry', 'parkingSurfaced',\n",
    "       'parkingOversize', 'parkingGravel', 'parkingGarage', 'parkingShared',\n",
    "       'parkingDetachedGarage', 'parkingCarport', 'parkingInterlocked',\n",
    "       'parkingVisitorParking','amenityClubhouse', 'amenityCarWash', 'amenityMusicRoom',\n",
    "       'amenityStorageLocker', 'amenitySauna', 'amenityPartyRoom',\n",
    "       'amenityRecreationCentre', 'amenityGuestSuite', 'amenityFurnished',\n",
    "       'amenityLaundryFacility', 'amenityExerciseCentre',\n",
    "       'amenityLaundryInSuite', 'amenitySecurity', 'amenityWhirlpool',\n",
    "       'efinishWood', 'efinishBrick', 'efinishHardboard', 'efinishWoodsiding',\n",
    "       'efinishLog', 'efinishMetal', 'efinishSteel', 'efinishStone',\n",
    "       'efinishWoodshingles', 'efinishStucco', 'efinishSiding',\n",
    "       'efinishConcrete', 'efinishShingles', 'efinishAluminumsiding',\n",
    "       'efinishCedarshingles', 'efinishVinyl', 'efinishVinylsiding',\n",
    "       'featurePetNotAllowed', 'AirportNearby',\n",
    "       'GolfNearby', 'MarinaNearby', 'ShoppingNearby', 'WaterNearby',\n",
    "       'WorshipPlaceNearby', 'RecreationNearby', 'PlaygroundNearby',\n",
    "       'PublicTransitNearby', 'ParkNearby', 'SchoolsNearby', 'HospitalNearby',\n",
    "       'HighwayNearby', 'SkiAreaNearby']\n",
    "    \n",
    "    # Category Feature\n",
    "    cate_features = ['city', 'typeBuilding', 'title', 'styleAttach', \n",
    "                   'cooling',  'basementType', 'basementFinish',\n",
    "                   'heatingType1', 'heatingType2', 'heatingEnergy1', 'heatingEnergy2', \n",
    "                   'featureLotSlope', 'featureDriveway', 'featureLotPositionType',\n",
    "       'featureOutdoorAreaType', 'featureOutdoorLandscape',\n",
    "       'featureAdditionalFacility']\n",
    "    \n",
    "    X_category=df[cate_features]\n",
    "    for col in cate_features:\n",
    "        X_category[col] = X_category[col].astype('category')\n",
    "        X_category[col] = X_category[col].cat.codes\n",
    "    df[cate_features] = X_category\n",
    "    \n",
    "    # Label Price\n",
    "    price_range = []\n",
    "    \n",
    "    for price in df[\"price\"]:\n",
    "        if price < 5e5:\n",
    "            price_range.append(0)\n",
    "        elif 5e5<=price < 15e5:\n",
    "            price_range.append(1)\n",
    "        elif 15e5<=price < 25e5:\n",
    "            price_range.append(2)\n",
    "        elif 25e5<=price < 35e5:\n",
    "            price_range.append(3)\n",
    "        elif 35e5<=price < 80e5:\n",
    "            price_range.append(4)\n",
    "        else:\n",
    "            price_range.append(5)\n",
    "            \n",
    "#     df = df.reset_index(drop=True)\n",
    "    df['price_range'] = price_range\n",
    "    df = df.dropna()\n",
    "    return df, boolean_features, cate_features, numerical_features"
   ]
  },
  {
   "cell_type": "code",
   "execution_count": 4,
   "id": "5d9c3043",
   "metadata": {},
   "outputs": [
    {
     "name": "stderr",
     "output_type": "stream",
     "text": [
      "<ipython-input-3-f5456da299cf>:50: SettingWithCopyWarning: \n",
      "A value is trying to be set on a copy of a slice from a DataFrame.\n",
      "Try using .loc[row_indexer,col_indexer] = value instead\n",
      "\n",
      "See the caveats in the documentation: https://pandas.pydata.org/pandas-docs/stable/user_guide/indexing.html#returning-a-view-versus-a-copy\n",
      "  X_category[col] = X_category[col].astype('category')\n",
      "<ipython-input-3-f5456da299cf>:51: SettingWithCopyWarning: \n",
      "A value is trying to be set on a copy of a slice from a DataFrame.\n",
      "Try using .loc[row_indexer,col_indexer] = value instead\n",
      "\n",
      "See the caveats in the documentation: https://pandas.pydata.org/pandas-docs/stable/user_guide/indexing.html#returning-a-view-versus-a-copy\n",
      "  X_category[col] = X_category[col].cat.codes\n"
     ]
    }
   ],
   "source": [
    "from sklearn.model_selection import train_test_split\n",
    "preprocessed_data, boolean_features, cate_features, numerical_features = Data_preprocessing(numerical_data)"
   ]
  },
  {
   "cell_type": "code",
   "execution_count": 5,
   "id": "4dfb658a",
   "metadata": {},
   "outputs": [
    {
     "name": "stdout",
     "output_type": "stream",
     "text": [
      "The number of categorical feature is : 17, boolean feature is : 58, numerical feature is : 10\n"
     ]
    }
   ],
   "source": [
    "cate_num = len(cate_features)\n",
    "bool_num =  len(boolean_features)\n",
    "num_num = len(numerical_features)\n",
    "print('The number of categorical feature is : {}, boolean feature is : {}, numerical feature is : {}'.format(cate_num, bool_num, num_num))"
   ]
  },
  {
   "cell_type": "code",
   "execution_count": 6,
   "id": "d7641da9",
   "metadata": {},
   "outputs": [],
   "source": [
    "class Generate_dataset(Dataset):\n",
    "    def __init__(self, data_df, boolean_features,cate_features, numerical_features):\n",
    "        self.MAX_SEQ_LEN = 128\n",
    "        self.data = data_df\n",
    "        self.boolean = boolean_features\n",
    "        self.cate = cate_features\n",
    "        self.numerical = numerical_features\n",
    "\n",
    "    def __len__(self):\n",
    "        return len(self.data)\n",
    "\n",
    "    def __getitem__(self, idx): \n",
    "        if torch.is_tensor(idx):\n",
    "            idx = idx.tolist()\n",
    "\n",
    "        boolean_feature = torch.tensor(list(self.data.iloc[idx][self.boolean]))\n",
    "        cate_feature = torch.tensor(list(self.data.iloc[idx][self.cate]))\n",
    "        numerical_feature = torch.tensor(list(self.data.iloc[idx][self.numerical]))\n",
    "        description = self.data.iloc[idx]['description']\n",
    "        label = torch.tensor(float(self.data.iloc[idx]['price']))\n",
    "        label_range =  torch.tensor(int(self.data.iloc[idx]['price_range']))\n",
    "        \n",
    "        return {'numerical_feature':numerical_feature, 'cate_feature':cate_feature, 'boolean_feature':boolean_feature, 'label':label, 'label_range':label_range}"
   ]
  },
  {
   "cell_type": "code",
   "execution_count": 7,
   "id": "e28eee0f",
   "metadata": {},
   "outputs": [],
   "source": [
    "X_train, X_test = train_test_split(preprocessed_data, test_size=0.1, random_state=13) \n",
    "X_train = X_train.reset_index(drop=True)\n",
    "X_test = X_test.reset_index(drop=True)"
   ]
  },
  {
   "cell_type": "code",
   "execution_count": 8,
   "id": "3e047320",
   "metadata": {},
   "outputs": [],
   "source": [
    "Train_dataset = Generate_dataset(X_train, boolean_features,cate_features, numerical_features)\n",
    "Test_dataset = Generate_dataset(X_test,boolean_features,cate_features, numerical_features)"
   ]
  },
  {
   "cell_type": "code",
   "execution_count": 9,
   "id": "9308e660",
   "metadata": {},
   "outputs": [],
   "source": [
    "batch_size = 64\n",
    "Train_dataloader = DataLoader(Train_dataset, batch_size = batch_size)\n",
    "Test_dataloader = DataLoader(Test_dataset, batch_size = batch_size)"
   ]
  },
  {
   "cell_type": "code",
   "execution_count": 10,
   "id": "97824775",
   "metadata": {},
   "outputs": [],
   "source": [
    "if torch.cuda.is_available():\n",
    "    device = torch.device('cuda:0')\n",
    "    torch.backends.cudnn.deterministic = True\n",
    "    torch.backends.cudnn.benchmark = False\n",
    "else:\n",
    "    device = torch.device('cpu')"
   ]
  },
  {
   "cell_type": "code",
   "execution_count": 11,
   "id": "89f74fde",
   "metadata": {},
   "outputs": [],
   "source": [
    "class Generator(torch.nn.Module):\n",
    "    def __init__(self):\n",
    "        super().__init__()\n",
    "        self.label_emb = torch.nn.Embedding(6, 10)\n",
    "        self.model = torch.nn.Sequential(\n",
    "            torch.nn.Linear(95, 190),\n",
    "            torch.nn.LeakyReLU(0.2, inplace=True),\n",
    "            torch.nn.Linear(190, 380),            \n",
    "            torch.nn.LeakyReLU(0.2, inplace=True),\n",
    "            torch.nn.Linear(380, 190),\n",
    "            torch.nn.LeakyReLU(0.2, inplace=True),\n",
    "            torch.nn.Linear(190, 85), \n",
    "            torch.nn.Tanh()\n",
    "        )\n",
    "    \n",
    "    def forward(self, z, labels):\n",
    "        z = z.view(z.size(0), 85)\n",
    "        c = self.label_emb(labels)\n",
    "        x = torch.cat([z, c], 1)\n",
    "        out = self.model(x.float())\n",
    "        return out"
   ]
  },
  {
   "cell_type": "code",
   "execution_count": 12,
   "id": "03a61c16",
   "metadata": {},
   "outputs": [],
   "source": [
    "class Discriminator(torch.nn.Module):\n",
    "    def __init__(self):\n",
    "        super().__init__()\n",
    "        self.label_emb = torch.nn.Embedding(6, 10)\n",
    "        self.model = torch.nn.Sequential(\n",
    "            torch.nn.Linear(95, 190),\n",
    "            torch.nn.LeakyReLU(0.2, inplace=True),\n",
    "            torch.nn.Dropout(0.3),\n",
    "            torch.nn.Linear(190, 95),\n",
    "            torch.nn.LeakyReLU(0.2, inplace=True),\n",
    "            torch.nn.Dropout(0.3),\n",
    "            torch.nn.Linear(95, 1),\n",
    "            torch.nn.Sigmoid()\n",
    "        )\n",
    "        \n",
    "    def forward(self, x, labels):\n",
    "        x = x.view(x.size(0), 85)\n",
    "        c = self.label_emb(labels)\n",
    "        x = torch.cat([x, c], 1)\n",
    "        out = self.model(x.float())\n",
    "        return out.squeeze()"
   ]
  },
  {
   "cell_type": "code",
   "execution_count": 13,
   "id": "2a90412c",
   "metadata": {},
   "outputs": [],
   "source": [
    "generator = Generator().to(device)\n",
    "discriminator = Discriminator().to(device)"
   ]
  },
  {
   "cell_type": "code",
   "execution_count": 14,
   "id": "d2416953",
   "metadata": {},
   "outputs": [],
   "source": [
    "criterion = torch.nn.BCELoss()\n",
    "d_optimizer = torch.optim.Adam(discriminator.parameters(), lr=1e-4)\n",
    "g_optimizer = torch.optim.Adam(generator.parameters(), lr=5e-4)"
   ]
  },
  {
   "cell_type": "code",
   "execution_count": 15,
   "id": "3b6c1bc5",
   "metadata": {},
   "outputs": [],
   "source": [
    "def generator_train_step(batch_size, discriminator, generator, g_optimizer, criterion):\n",
    "    g_optimizer.zero_grad()\n",
    "    z = Variable(torch.randn(batch_size, 85)).to(device)\n",
    "    fake_labels = Variable(torch.LongTensor(np.random.randint(0, 6, batch_size))).to(device)\n",
    "    fake_images = generator(z, fake_labels)\n",
    "    validity = discriminator(fake_images, fake_labels)\n",
    "    g_loss = criterion(validity, Variable(torch.ones(batch_size)).to(device))\n",
    "    g_loss.backward()\n",
    "    g_optimizer.step()\n",
    "    return g_loss.item()"
   ]
  },
  {
   "cell_type": "code",
   "execution_count": 16,
   "id": "c6e0eedb",
   "metadata": {},
   "outputs": [],
   "source": [
    "def discriminator_train_step(batch_size, discriminator, generator, d_optimizer, criterion, real_images, labels):\n",
    "    d_optimizer.zero_grad()\n",
    "\n",
    "    # train with real images\n",
    "    real_validity = discriminator(real_images, labels)\n",
    "    real_loss = criterion(real_validity, Variable(torch.ones(batch_size)).to(device))\n",
    "    \n",
    "    # train with fake images\n",
    "    z = Variable(torch.randn(batch_size, 85)).to(device)\n",
    "    fake_labels = Variable(torch.LongTensor(np.random.randint(0, 6, batch_size))).to(device)\n",
    "    fake_images = generator(z, fake_labels)\n",
    "    fake_validity = discriminator(fake_images, fake_labels)\n",
    "    fake_loss = criterion(fake_validity, Variable(torch.zeros(batch_size)).to(device))\n",
    "    \n",
    "    d_loss = real_loss + fake_loss\n",
    "    d_loss.backward()\n",
    "    d_optimizer.step()\n",
    "    return d_loss.item()"
   ]
  },
  {
   "cell_type": "code",
   "execution_count": 17,
   "id": "1212b8b2",
   "metadata": {},
   "outputs": [
    {
     "name": "stderr",
     "output_type": "stream",
     "text": [
      "\r",
      "0it [00:00, ?it/s]"
     ]
    },
    {
     "name": "stdout",
     "output_type": "stream",
     "text": [
      "Starting epoch 0... "
     ]
    },
    {
     "name": "stderr",
     "output_type": "stream",
     "text": [
      "<ipython-input-6-1bce34b6507c>:16: DeprecationWarning: In future, it will be an error for 'np.bool_' scalars to be interpreted as an index\n",
      "  boolean_feature = torch.tensor(list(self.data.iloc[idx][self.boolean]))\n",
      "145it [01:02,  2.33it/s]\n",
      "0it [00:00, ?it/s]"
     ]
    },
    {
     "name": "stdout",
     "output_type": "stream",
     "text": [
      "Starting epoch 1... "
     ]
    },
    {
     "name": "stderr",
     "output_type": "stream",
     "text": [
      "145it [01:01,  2.36it/s]\n",
      "0it [00:00, ?it/s]"
     ]
    },
    {
     "name": "stdout",
     "output_type": "stream",
     "text": [
      "Starting epoch 2... "
     ]
    },
    {
     "name": "stderr",
     "output_type": "stream",
     "text": [
      "145it [01:00,  2.40it/s]\n",
      "0it [00:00, ?it/s]"
     ]
    },
    {
     "name": "stdout",
     "output_type": "stream",
     "text": [
      "Starting epoch 3... "
     ]
    },
    {
     "name": "stderr",
     "output_type": "stream",
     "text": [
      "145it [01:00,  2.39it/s]\n",
      "0it [00:00, ?it/s]"
     ]
    },
    {
     "name": "stdout",
     "output_type": "stream",
     "text": [
      "Starting epoch 4... "
     ]
    },
    {
     "name": "stderr",
     "output_type": "stream",
     "text": [
      "145it [01:01,  2.36it/s]\n",
      "0it [00:00, ?it/s]"
     ]
    },
    {
     "name": "stdout",
     "output_type": "stream",
     "text": [
      "Starting epoch 5... "
     ]
    },
    {
     "name": "stderr",
     "output_type": "stream",
     "text": [
      "145it [01:02,  2.31it/s]\n",
      "0it [00:00, ?it/s]"
     ]
    },
    {
     "name": "stdout",
     "output_type": "stream",
     "text": [
      "Starting epoch 6... "
     ]
    },
    {
     "name": "stderr",
     "output_type": "stream",
     "text": [
      "145it [01:00,  2.39it/s]\n",
      "0it [00:00, ?it/s]"
     ]
    },
    {
     "name": "stdout",
     "output_type": "stream",
     "text": [
      "Starting epoch 7... "
     ]
    },
    {
     "name": "stderr",
     "output_type": "stream",
     "text": [
      "145it [01:00,  2.40it/s]\n",
      "0it [00:00, ?it/s]"
     ]
    },
    {
     "name": "stdout",
     "output_type": "stream",
     "text": [
      "Starting epoch 8... "
     ]
    },
    {
     "name": "stderr",
     "output_type": "stream",
     "text": [
      "145it [01:00,  2.39it/s]\n",
      "0it [00:00, ?it/s]"
     ]
    },
    {
     "name": "stdout",
     "output_type": "stream",
     "text": [
      "Starting epoch 9... "
     ]
    },
    {
     "name": "stderr",
     "output_type": "stream",
     "text": [
      "145it [01:04,  2.24it/s]\n",
      "0it [00:00, ?it/s]"
     ]
    },
    {
     "name": "stdout",
     "output_type": "stream",
     "text": [
      "Starting epoch 10... "
     ]
    },
    {
     "name": "stderr",
     "output_type": "stream",
     "text": [
      "145it [01:03,  2.27it/s]\n",
      "0it [00:00, ?it/s]"
     ]
    },
    {
     "name": "stdout",
     "output_type": "stream",
     "text": [
      "Starting epoch 11... "
     ]
    },
    {
     "name": "stderr",
     "output_type": "stream",
     "text": [
      "145it [01:01,  2.36it/s]\n",
      "0it [00:00, ?it/s]"
     ]
    },
    {
     "name": "stdout",
     "output_type": "stream",
     "text": [
      "Starting epoch 12... "
     ]
    },
    {
     "name": "stderr",
     "output_type": "stream",
     "text": [
      "145it [01:00,  2.41it/s]\n",
      "0it [00:00, ?it/s]"
     ]
    },
    {
     "name": "stdout",
     "output_type": "stream",
     "text": [
      "Starting epoch 13... "
     ]
    },
    {
     "name": "stderr",
     "output_type": "stream",
     "text": [
      "145it [01:01,  2.34it/s]\n",
      "0it [00:00, ?it/s]"
     ]
    },
    {
     "name": "stdout",
     "output_type": "stream",
     "text": [
      "Starting epoch 14... "
     ]
    },
    {
     "name": "stderr",
     "output_type": "stream",
     "text": [
      "145it [01:02,  2.34it/s]\n",
      "0it [00:00, ?it/s]"
     ]
    },
    {
     "name": "stdout",
     "output_type": "stream",
     "text": [
      "Starting epoch 15... "
     ]
    },
    {
     "name": "stderr",
     "output_type": "stream",
     "text": [
      "145it [01:00,  2.39it/s]\n",
      "0it [00:00, ?it/s]"
     ]
    },
    {
     "name": "stdout",
     "output_type": "stream",
     "text": [
      "Starting epoch 16... "
     ]
    },
    {
     "name": "stderr",
     "output_type": "stream",
     "text": [
      "145it [00:59,  2.45it/s]\n",
      "0it [00:00, ?it/s]"
     ]
    },
    {
     "name": "stdout",
     "output_type": "stream",
     "text": [
      "Starting epoch 17... "
     ]
    },
    {
     "name": "stderr",
     "output_type": "stream",
     "text": [
      "145it [01:03,  2.27it/s]\n",
      "0it [00:00, ?it/s]"
     ]
    },
    {
     "name": "stdout",
     "output_type": "stream",
     "text": [
      "Starting epoch 18... "
     ]
    },
    {
     "name": "stderr",
     "output_type": "stream",
     "text": [
      "145it [01:04,  2.25it/s]\n",
      "0it [00:00, ?it/s]"
     ]
    },
    {
     "name": "stdout",
     "output_type": "stream",
     "text": [
      "Starting epoch 19... "
     ]
    },
    {
     "name": "stderr",
     "output_type": "stream",
     "text": [
      "145it [01:02,  2.32it/s]\n",
      "0it [00:00, ?it/s]"
     ]
    },
    {
     "name": "stdout",
     "output_type": "stream",
     "text": [
      "Starting epoch 20... "
     ]
    },
    {
     "name": "stderr",
     "output_type": "stream",
     "text": [
      "145it [01:02,  2.34it/s]\n",
      "0it [00:00, ?it/s]"
     ]
    },
    {
     "name": "stdout",
     "output_type": "stream",
     "text": [
      "Starting epoch 21... "
     ]
    },
    {
     "name": "stderr",
     "output_type": "stream",
     "text": [
      "145it [01:03,  2.28it/s]\n",
      "0it [00:00, ?it/s]"
     ]
    },
    {
     "name": "stdout",
     "output_type": "stream",
     "text": [
      "Starting epoch 22... "
     ]
    },
    {
     "name": "stderr",
     "output_type": "stream",
     "text": [
      "145it [01:00,  2.39it/s]\n",
      "0it [00:00, ?it/s]"
     ]
    },
    {
     "name": "stdout",
     "output_type": "stream",
     "text": [
      "Starting epoch 23... "
     ]
    },
    {
     "name": "stderr",
     "output_type": "stream",
     "text": [
      "145it [00:59,  2.44it/s]\n",
      "0it [00:00, ?it/s]"
     ]
    },
    {
     "name": "stdout",
     "output_type": "stream",
     "text": [
      "Starting epoch 24... "
     ]
    },
    {
     "name": "stderr",
     "output_type": "stream",
     "text": [
      "145it [01:02,  2.30it/s]\n",
      "0it [00:00, ?it/s]"
     ]
    },
    {
     "name": "stdout",
     "output_type": "stream",
     "text": [
      "Starting epoch 25... "
     ]
    },
    {
     "name": "stderr",
     "output_type": "stream",
     "text": [
      "145it [01:01,  2.36it/s]\n",
      "0it [00:00, ?it/s]"
     ]
    },
    {
     "name": "stdout",
     "output_type": "stream",
     "text": [
      "Starting epoch 26... "
     ]
    },
    {
     "name": "stderr",
     "output_type": "stream",
     "text": [
      "145it [01:05,  2.21it/s]\n",
      "0it [00:00, ?it/s]"
     ]
    },
    {
     "name": "stdout",
     "output_type": "stream",
     "text": [
      "Starting epoch 27... "
     ]
    },
    {
     "name": "stderr",
     "output_type": "stream",
     "text": [
      "145it [01:01,  2.37it/s]\n",
      "0it [00:00, ?it/s]"
     ]
    },
    {
     "name": "stdout",
     "output_type": "stream",
     "text": [
      "Starting epoch 28... "
     ]
    },
    {
     "name": "stderr",
     "output_type": "stream",
     "text": [
      "145it [01:02,  2.33it/s]\n",
      "0it [00:00, ?it/s]"
     ]
    },
    {
     "name": "stdout",
     "output_type": "stream",
     "text": [
      "Starting epoch 29... "
     ]
    },
    {
     "name": "stderr",
     "output_type": "stream",
     "text": [
      "145it [00:58,  2.46it/s]\n",
      "0it [00:00, ?it/s]"
     ]
    },
    {
     "name": "stdout",
     "output_type": "stream",
     "text": [
      "Starting epoch 30... "
     ]
    },
    {
     "name": "stderr",
     "output_type": "stream",
     "text": [
      "145it [01:02,  2.31it/s]\n",
      "0it [00:00, ?it/s]"
     ]
    },
    {
     "name": "stdout",
     "output_type": "stream",
     "text": [
      "Starting epoch 31... "
     ]
    },
    {
     "name": "stderr",
     "output_type": "stream",
     "text": [
      "145it [01:00,  2.39it/s]\n",
      "0it [00:00, ?it/s]"
     ]
    },
    {
     "name": "stdout",
     "output_type": "stream",
     "text": [
      "Starting epoch 32... "
     ]
    },
    {
     "name": "stderr",
     "output_type": "stream",
     "text": [
      "145it [01:00,  2.39it/s]\n",
      "0it [00:00, ?it/s]"
     ]
    },
    {
     "name": "stdout",
     "output_type": "stream",
     "text": [
      "Starting epoch 33... "
     ]
    },
    {
     "name": "stderr",
     "output_type": "stream",
     "text": [
      "145it [00:59,  2.44it/s]\n",
      "0it [00:00, ?it/s]"
     ]
    },
    {
     "name": "stdout",
     "output_type": "stream",
     "text": [
      "Starting epoch 34... "
     ]
    },
    {
     "name": "stderr",
     "output_type": "stream",
     "text": [
      "145it [01:00,  2.41it/s]\n",
      "0it [00:00, ?it/s]"
     ]
    },
    {
     "name": "stdout",
     "output_type": "stream",
     "text": [
      "Starting epoch 35... "
     ]
    },
    {
     "name": "stderr",
     "output_type": "stream",
     "text": [
      "145it [00:59,  2.42it/s]\n",
      "0it [00:00, ?it/s]"
     ]
    },
    {
     "name": "stdout",
     "output_type": "stream",
     "text": [
      "Starting epoch 36... "
     ]
    },
    {
     "name": "stderr",
     "output_type": "stream",
     "text": [
      "145it [01:00,  2.40it/s]\n",
      "0it [00:00, ?it/s]"
     ]
    },
    {
     "name": "stdout",
     "output_type": "stream",
     "text": [
      "Starting epoch 37... "
     ]
    },
    {
     "name": "stderr",
     "output_type": "stream",
     "text": [
      "145it [01:02,  2.33it/s]\n",
      "0it [00:00, ?it/s]"
     ]
    },
    {
     "name": "stdout",
     "output_type": "stream",
     "text": [
      "Starting epoch 38... "
     ]
    },
    {
     "name": "stderr",
     "output_type": "stream",
     "text": [
      "145it [26:26, 10.94s/it] \n",
      "1it [00:00,  7.01it/s]"
     ]
    },
    {
     "name": "stdout",
     "output_type": "stream",
     "text": [
      "Starting epoch 39... "
     ]
    },
    {
     "name": "stderr",
     "output_type": "stream",
     "text": [
      "145it [00:18,  7.65it/s]\n",
      "1it [00:00,  7.83it/s]"
     ]
    },
    {
     "name": "stdout",
     "output_type": "stream",
     "text": [
      "Starting epoch 40... "
     ]
    },
    {
     "name": "stderr",
     "output_type": "stream",
     "text": [
      "145it [00:18,  7.70it/s]\n",
      "1it [00:00,  7.06it/s]"
     ]
    },
    {
     "name": "stdout",
     "output_type": "stream",
     "text": [
      "Starting epoch 41... "
     ]
    },
    {
     "name": "stderr",
     "output_type": "stream",
     "text": [
      "145it [00:19,  7.45it/s]\n",
      "1it [00:00,  7.54it/s]"
     ]
    },
    {
     "name": "stdout",
     "output_type": "stream",
     "text": [
      "Starting epoch 42... "
     ]
    },
    {
     "name": "stderr",
     "output_type": "stream",
     "text": [
      "145it [00:19,  7.54it/s]\n",
      "1it [00:00,  7.48it/s]"
     ]
    },
    {
     "name": "stdout",
     "output_type": "stream",
     "text": [
      "Starting epoch 43... "
     ]
    },
    {
     "name": "stderr",
     "output_type": "stream",
     "text": [
      "145it [00:39,  3.64it/s]\n",
      "0it [00:00, ?it/s]"
     ]
    },
    {
     "name": "stdout",
     "output_type": "stream",
     "text": [
      "Starting epoch 44... "
     ]
    },
    {
     "name": "stderr",
     "output_type": "stream",
     "text": [
      "145it [01:02,  2.31it/s]\n",
      "0it [00:00, ?it/s]"
     ]
    },
    {
     "name": "stdout",
     "output_type": "stream",
     "text": [
      "Starting epoch 45... "
     ]
    },
    {
     "name": "stderr",
     "output_type": "stream",
     "text": [
      "145it [01:03,  2.29it/s]\n",
      "0it [00:00, ?it/s]"
     ]
    },
    {
     "name": "stdout",
     "output_type": "stream",
     "text": [
      "Starting epoch 46... "
     ]
    },
    {
     "name": "stderr",
     "output_type": "stream",
     "text": [
      "145it [01:00,  2.41it/s]\n",
      "0it [00:00, ?it/s]"
     ]
    },
    {
     "name": "stdout",
     "output_type": "stream",
     "text": [
      "Starting epoch 47... "
     ]
    },
    {
     "name": "stderr",
     "output_type": "stream",
     "text": [
      "145it [01:00,  2.40it/s]\n",
      "0it [00:00, ?it/s]"
     ]
    },
    {
     "name": "stdout",
     "output_type": "stream",
     "text": [
      "Starting epoch 48... "
     ]
    },
    {
     "name": "stderr",
     "output_type": "stream",
     "text": [
      "145it [01:00,  2.39it/s]\n",
      "0it [00:00, ?it/s]"
     ]
    },
    {
     "name": "stdout",
     "output_type": "stream",
     "text": [
      "Starting epoch 49... "
     ]
    },
    {
     "name": "stderr",
     "output_type": "stream",
     "text": [
      "145it [00:59,  2.43it/s]\n"
     ]
    }
   ],
   "source": [
    "from torch.autograd import Variable\n",
    "from tqdm import tqdm\n",
    "writer = SummaryWriter()\n",
    "num_epochs = 50\n",
    "n_critic = 1\n",
    "display_step = 50\n",
    "d_loss_all = []\n",
    "g_loss_all = []\n",
    "for epoch in range(num_epochs):\n",
    "    print('Starting epoch {}...'.format(epoch), end=' ')\n",
    "    for i, data in tqdm(enumerate(Train_dataloader)):\n",
    "        step = epoch * len(Train_dataloader) + i + 1\n",
    "        \n",
    "        real_images = torch.cat((data['numerical_feature'], data['cate_feature'], data['boolean_feature']), dim = -1).to(device)\n",
    "        labels = data['label_range'].to(device)\n",
    "        generator.train() \n",
    "        d_loss = 0\n",
    "        for _ in range(n_critic):\n",
    "            d_loss = discriminator_train_step(len(real_images), discriminator,\n",
    "                                              generator, d_optimizer, criterion,\n",
    "                                              real_images, labels)\n",
    "        g_loss = generator_train_step(batch_size, discriminator, generator, g_optimizer, criterion)\n",
    "        g_loss_all.append(g_loss)\n",
    "        d_loss_all.append(d_loss / n_critic)\n",
    "        writer.add_scalars('scalars', {'g_loss': g_loss, 'd_loss': (d_loss / n_critic)}, step)  \n",
    "#     print('Done!')"
   ]
  },
  {
   "cell_type": "code",
   "execution_count": 18,
   "id": "a49147fe",
   "metadata": {
    "scrolled": true
   },
   "outputs": [
    {
     "data": {
      "image/png": "[encoded data removed]",
      "text/plain": [
       "<Figure size 432x288 with 1 Axes>"
      ]
     },
     "metadata": {
      "needs_background": "light"
     },
     "output_type": "display_data"
    }
   ],
   "source": [
    "import matplotlib.pyplot as plt\n",
    "\n",
    "plt.plot(range(len(g_loss_all)),g_loss_all, label = 'G')\n",
    "plt.plot(range(len(d_loss_all)),d_loss_all, label = 'D')\n",
    "plt.legend()\n",
    "plt.show()"
   ]
  },
  {
   "cell_type": "code",
   "execution_count": 23,
   "id": "d3a181f7",
   "metadata": {},
   "outputs": [],
   "source": [
    "def generate_digit(generator, digit):\n",
    "    z = Variable(torch.randn(1, 85)).cuda()\n",
    "    label = torch.LongTensor([digit]).cuda()\n",
    "    res = generator(z, label).data.cpu()\n",
    "    return res"
   ]
  },
  {
   "cell_type": "code",
   "execution_count": 24,
   "id": "d4e0c4b7",
   "metadata": {},
   "outputs": [
    {
     "name": "stdout",
     "output_type": "stream",
     "text": [
      "tensor([[ 1.2078,  0.4072, -0.9258, -0.5508, -0.4287, -0.9009,  1.6090, -0.9375,\n",
      "         -1.1909,  0.4488,  1.1478, -0.2309,  1.6217, -0.5767, -0.4095, -0.5136,\n",
      "          0.5343,  0.1418, -0.3465,  0.2850, -0.7525,  1.3930,  0.1178,  0.9939,\n",
      "          1.2734, -0.2707,  0.0507, -0.2507,  0.2944, -0.6278, -1.9295, -0.4616,\n",
      "          0.6243, -0.5223, -0.6716,  0.2630,  0.1682,  0.4599, -0.4506, -0.4612,\n",
      "         -0.8433, -1.4537, -1.1187, -0.3316,  0.3775, -1.4688,  1.1789,  1.4299,\n",
      "         -0.6119,  0.0393, -0.1937, -0.6453,  0.3555, -0.3404, -2.3617, -1.3288,\n",
      "         -0.0480,  0.3660, -0.6354,  1.0839, -0.6650,  2.4299,  1.3050,  0.4760,\n",
      "         -0.3944, -0.8595,  0.9133, -0.2038, -0.6334, -1.1944,  0.8256,  1.0809,\n",
      "         -0.3963,  0.1628,  1.0090, -1.6068,  0.4202, -0.5998,  0.0722,  1.1313,\n",
      "         -0.9784,  0.6131, -0.0823,  0.3840,  0.1771]], device='cuda:0')\n"
     ]
    },
    {
     "data": {
      "text/plain": [
       "tensor([[-1., -1., -1.,  1.,  1., -1., -1., -1.,  1.,  1.,  1.,  1.,  1.,  1.,\n",
       "          1.,  1.,  1.,  1.,  1.,  1.,  1.,  1.,  1.,  1.,  1.,  1.,  1., -1.,\n",
       "          1., -1., -1.,  1., -1.,  1., -1., -1.,  1., -1.,  1.,  1., -1., -1.,\n",
       "          1., -1., -1.,  1.,  1.,  1., -1., -1., -1.,  1., -1., -1.,  1.,  1.,\n",
       "         -1., -1.,  1.,  1.,  1., -1.,  1., -1., -1., -1., -1.,  1.,  1.,  1.,\n",
       "          1., -1.,  1., -1.,  1.,  1., -1.,  1.,  1.,  1., -1.,  1.,  1.,  1.,\n",
       "          1.]])"
      ]
     },
     "execution_count": 24,
     "metadata": {},
     "output_type": "execute_result"
    }
   ],
   "source": [
    "generate_digit(generator, 1)"
   ]
  },
  {
   "cell_type": "code",
   "execution_count": null,
   "id": "a7aabe18",
   "metadata": {},
   "outputs": [],
   "source": []
  }
 ],
 "metadata": {
  "kernelspec": {
   "display_name": "Python 3",
   "language": "python",
   "name": "python3"
  },
  "language_info": {
   "codemirror_mode": {
    "name": "ipython",
    "version": 3
   },
   "file_extension": ".py",
   "mimetype": "text/x-python",
   "name": "python",
   "nbconvert_exporter": "python",
   "pygments_lexer": "ipython3",
   "version": "3.8.3"
  }
 },
 "nbformat": 4,
 "nbformat_minor": 5
}
