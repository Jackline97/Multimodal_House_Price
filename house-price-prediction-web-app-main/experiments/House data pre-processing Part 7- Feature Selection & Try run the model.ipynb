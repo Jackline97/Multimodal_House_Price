{
 "cells": [
  {
   "cell_type": "code",
   "execution_count": 6,
   "metadata": {},
   "outputs": [],
   "source": [
    "import pandas as pd\n",
    "import os\n",
    "\n",
    "project_folder=\"C:/Users/hanson/OneDrive/Grad/Grad Project/data_realtorCA/\"\n",
    "output_folder=project_folder+\"output\"\n",
    "\n",
    "df=pd.read_csv(output_folder+\"/\"+\"all_after_preprocessing6.csv\")"
   ]
  },
  {
   "cell_type": "code",
   "execution_count": 7,
   "metadata": {
    "scrolled": true
   },
   "outputs": [
    {
     "data": {
      "text/html": [
       "<div>\n",
       "<style scoped>\n",
       "    .dataframe tbody tr th:only-of-type {\n",
       "        vertical-align: middle;\n",
       "    }\n",
       "\n",
       "    .dataframe tbody tr th {\n",
       "        vertical-align: top;\n",
       "    }\n",
       "\n",
       "    .dataframe thead th {\n",
       "        text-align: right;\n",
       "    }\n",
       "</style>\n",
       "<table border=\"1\" class=\"dataframe\">\n",
       "  <thead>\n",
       "    <tr style=\"text-align: right;\">\n",
       "      <th></th>\n",
       "      <th>MLS</th>\n",
       "      <th>price</th>\n",
       "      <th>city</th>\n",
       "      <th>communityName</th>\n",
       "      <th>address</th>\n",
       "      <th>postal</th>\n",
       "      <th>description</th>\n",
       "      <th>typeBuilding</th>\n",
       "      <th>title</th>\n",
       "      <th>bedroomAboveGrade</th>\n",
       "      <th>...</th>\n",
       "      <th>GolfNearby</th>\n",
       "      <th>HospitalNearby</th>\n",
       "      <th>PlaygroundNearby</th>\n",
       "      <th>ShoppingNearby</th>\n",
       "      <th>PublicTransitNearby</th>\n",
       "      <th>HighwayNearby</th>\n",
       "      <th>bedroom</th>\n",
       "      <th>bathroom</th>\n",
       "      <th>longitude</th>\n",
       "      <th>latitude</th>\n",
       "    </tr>\n",
       "  </thead>\n",
       "  <tbody>\n",
       "    <tr>\n",
       "      <th>0</th>\n",
       "      <td>W5238356</td>\n",
       "      <td>958800</td>\n",
       "      <td>Brampton</td>\n",
       "      <td>Sandringham-Wellington</td>\n",
       "      <td>232 BRUSSELS AVEBrampton</td>\n",
       "      <td>L6Z0G1</td>\n",
       "      <td>Beautiful, Bright &amp; Spacious Home In The Heart...</td>\n",
       "      <td>House</td>\n",
       "      <td>Freehold</td>\n",
       "      <td>4</td>\n",
       "      <td>...</td>\n",
       "      <td>False</td>\n",
       "      <td>True</td>\n",
       "      <td>False</td>\n",
       "      <td>False</td>\n",
       "      <td>True</td>\n",
       "      <td>False</td>\n",
       "      <td>5</td>\n",
       "      <td>4.0</td>\n",
       "      <td>-79.7953</td>\n",
       "      <td>43.7328</td>\n",
       "    </tr>\n",
       "    <tr>\n",
       "      <th>1</th>\n",
       "      <td>W5226917</td>\n",
       "      <td>970000</td>\n",
       "      <td>Brampton</td>\n",
       "      <td>Downtown Brampton</td>\n",
       "      <td>#LOT 12 -57 MCMURCHY AVE SBrampton</td>\n",
       "      <td>L6Y1Y6</td>\n",
       "      <td>This Is An Assignment Sale !!!Sunfield Communi...</td>\n",
       "      <td>Row / Townhouse</td>\n",
       "      <td>Condominium</td>\n",
       "      <td>3</td>\n",
       "      <td>...</td>\n",
       "      <td>False</td>\n",
       "      <td>True</td>\n",
       "      <td>False</td>\n",
       "      <td>False</td>\n",
       "      <td>True</td>\n",
       "      <td>False</td>\n",
       "      <td>3</td>\n",
       "      <td>4.0</td>\n",
       "      <td>-79.7876</td>\n",
       "      <td>43.6249</td>\n",
       "    </tr>\n",
       "    <tr>\n",
       "      <th>2</th>\n",
       "      <td>W5226514</td>\n",
       "      <td>1249900</td>\n",
       "      <td>Brampton</td>\n",
       "      <td>Fletcher's Creek South</td>\n",
       "      <td>208 ROLLINGWOOD DRBrampton</td>\n",
       "      <td>L6Y5J6</td>\n",
       "      <td>Location-Location- Border Of Mississauga, 4 Be...</td>\n",
       "      <td>House</td>\n",
       "      <td>Freehold</td>\n",
       "      <td>4</td>\n",
       "      <td>...</td>\n",
       "      <td>False</td>\n",
       "      <td>False</td>\n",
       "      <td>False</td>\n",
       "      <td>False</td>\n",
       "      <td>True</td>\n",
       "      <td>False</td>\n",
       "      <td>7</td>\n",
       "      <td>4.0</td>\n",
       "      <td>-79.7876</td>\n",
       "      <td>43.6249</td>\n",
       "    </tr>\n",
       "    <tr>\n",
       "      <th>3</th>\n",
       "      <td>W5234770</td>\n",
       "      <td>1249900</td>\n",
       "      <td>Brampton</td>\n",
       "      <td>Fletcher's West</td>\n",
       "      <td>92 MOFFATT AVEBrampton</td>\n",
       "      <td>L6Y4K8</td>\n",
       "      <td>Premium Corner Lot(4 Bdrms+2 Bdrms Finished Le...</td>\n",
       "      <td>House</td>\n",
       "      <td>Freehold</td>\n",
       "      <td>4</td>\n",
       "      <td>...</td>\n",
       "      <td>False</td>\n",
       "      <td>False</td>\n",
       "      <td>False</td>\n",
       "      <td>False</td>\n",
       "      <td>True</td>\n",
       "      <td>False</td>\n",
       "      <td>6</td>\n",
       "      <td>4.0</td>\n",
       "      <td>-79.7876</td>\n",
       "      <td>43.6249</td>\n",
       "    </tr>\n",
       "    <tr>\n",
       "      <th>4</th>\n",
       "      <td>W5234047</td>\n",
       "      <td>1249900</td>\n",
       "      <td>Brampton</td>\n",
       "      <td>Fletcher's West</td>\n",
       "      <td>85 WHITE TAIL CRESBrampton</td>\n",
       "      <td>L6Y5C1</td>\n",
       "      <td>Beautiful Detached House With 4 Bedrooms And 4...</td>\n",
       "      <td>House</td>\n",
       "      <td>Freehold</td>\n",
       "      <td>4</td>\n",
       "      <td>...</td>\n",
       "      <td>False</td>\n",
       "      <td>False</td>\n",
       "      <td>False</td>\n",
       "      <td>False</td>\n",
       "      <td>False</td>\n",
       "      <td>False</td>\n",
       "      <td>4</td>\n",
       "      <td>4.0</td>\n",
       "      <td>-79.7876</td>\n",
       "      <td>43.6249</td>\n",
       "    </tr>\n",
       "  </tbody>\n",
       "</table>\n",
       "<p>5 rows × 94 columns</p>\n",
       "</div>"
      ],
      "text/plain": [
       "        MLS    price      city           communityName  \\\n",
       "0  W5238356   958800  Brampton  Sandringham-Wellington   \n",
       "1  W5226917   970000  Brampton       Downtown Brampton   \n",
       "2  W5226514  1249900  Brampton  Fletcher's Creek South   \n",
       "3  W5234770  1249900  Brampton         Fletcher's West   \n",
       "4  W5234047  1249900  Brampton         Fletcher's West   \n",
       "\n",
       "                              address  postal  \\\n",
       "0            232 BRUSSELS AVEBrampton  L6Z0G1   \n",
       "1  #LOT 12 -57 MCMURCHY AVE SBrampton  L6Y1Y6   \n",
       "2          208 ROLLINGWOOD DRBrampton  L6Y5J6   \n",
       "3              92 MOFFATT AVEBrampton  L6Y4K8   \n",
       "4          85 WHITE TAIL CRESBrampton  L6Y5C1   \n",
       "\n",
       "                                         description     typeBuilding  \\\n",
       "0  Beautiful, Bright & Spacious Home In The Heart...            House   \n",
       "1  This Is An Assignment Sale !!!Sunfield Communi...  Row / Townhouse   \n",
       "2  Location-Location- Border Of Mississauga, 4 Be...            House   \n",
       "3  Premium Corner Lot(4 Bdrms+2 Bdrms Finished Le...            House   \n",
       "4  Beautiful Detached House With 4 Bedrooms And 4...            House   \n",
       "\n",
       "         title  bedroomAboveGrade  ...  GolfNearby  HospitalNearby  \\\n",
       "0     Freehold                  4  ...       False            True   \n",
       "1  Condominium                  3  ...       False            True   \n",
       "2     Freehold                  4  ...       False           False   \n",
       "3     Freehold                  4  ...       False           False   \n",
       "4     Freehold                  4  ...       False           False   \n",
       "\n",
       "   PlaygroundNearby  ShoppingNearby  PublicTransitNearby HighwayNearby  \\\n",
       "0             False           False                 True         False   \n",
       "1             False           False                 True         False   \n",
       "2             False           False                 True         False   \n",
       "3             False           False                 True         False   \n",
       "4             False           False                False         False   \n",
       "\n",
       "   bedroom bathroom longitude  latitude  \n",
       "0        5      4.0  -79.7953   43.7328  \n",
       "1        3      4.0  -79.7876   43.6249  \n",
       "2        7      4.0  -79.7876   43.6249  \n",
       "3        6      4.0  -79.7876   43.6249  \n",
       "4        4      4.0  -79.7876   43.6249  \n",
       "\n",
       "[5 rows x 94 columns]"
      ]
     },
     "execution_count": 7,
     "metadata": {},
     "output_type": "execute_result"
    }
   ],
   "source": [
    "df.head()"
   ]
  },
  {
   "cell_type": "code",
   "execution_count": 8,
   "metadata": {},
   "outputs": [
    {
     "data": {
      "text/plain": [
       "Index(['MLS', 'price', 'city', 'communityName', 'address', 'postal',\n",
       "       'description', 'typeBuilding', 'title', 'bedroomAboveGrade',\n",
       "       'bedroomBelowGrade', 'bathroomTotal', 'bathroomPartial',\n",
       "       'totalParkingSpaces', 'storeys', 'styleAttach', 'maintenanceFees',\n",
       "       'maintenanceManagementCompany', 'cooling', 'parkingGravel',\n",
       "       'parkingGarage', 'parkingCarport', 'parkingAttachedGarage',\n",
       "       'parkingShared', 'parkingDetachedGarage', 'parkingSurfaced',\n",
       "       'parkingOversize', 'parkingInsideEntry', 'parkingUnderground',\n",
       "       'parkingVisitorParking', 'parkingInterlocked', 'landSize',\n",
       "       'basementType', 'basementFinish', 'amenitySecurity',\n",
       "       'amenityStorageLocker', 'amenityLaundryFacility', 'amenityCarWash',\n",
       "       'amenityGuestSuite', 'amenityFurnished', 'amenityPartyRoom',\n",
       "       'amenityLaundryInSuite', 'amenityWhirlpool', 'amenitySauna',\n",
       "       'amenityRecreationCentre', 'amenityClubhouse', 'amenityExerciseCentre',\n",
       "       'amenityMusicRoom', 'heatingType1', 'heatingType2', 'heatingEnergy1',\n",
       "       'heatingEnergy2', 'efinishWood', 'efinishStone',\n",
       "       'efinishAluminumsiding', 'efinishMetal', 'efinishBrick',\n",
       "       'efinishWoodshingles', 'efinishVinylsiding', 'efinishHardboard',\n",
       "       'efinishStucco', 'efinishSiding', 'efinishLog', 'efinishCedarshingles',\n",
       "       'efinishConcrete', 'efinishSteel', 'efinishWoodsiding',\n",
       "       'efinishShingles', 'efinishVinyl', 'featureLotSlope', 'featureDriveway',\n",
       "       'featureLotPositionType', 'featureOutdoorAreaType',\n",
       "       'featureOutdoorLandscape', 'featureAdditionalFacility',\n",
       "       'featurePetNotAllowed', 'MarinaNearby', 'RecreationNearby',\n",
       "       'AirportNearby', 'ParkNearby', 'SchoolsNearby', 'SkiAreaNearby',\n",
       "       'WorshipPlaceNearby', 'WaterNearby', 'GolfNearby', 'HospitalNearby',\n",
       "       'PlaygroundNearby', 'ShoppingNearby', 'PublicTransitNearby',\n",
       "       'HighwayNearby', 'bedroom', 'bathroom', 'longitude', 'latitude'],\n",
       "      dtype='object')"
      ]
     },
     "execution_count": 8,
     "metadata": {},
     "output_type": "execute_result"
    }
   ],
   "source": [
    "df.columns"
   ]
  },
  {
   "cell_type": "markdown",
   "metadata": {},
   "source": [
    "## Do feature selection for numerical data (true numerical data)"
   ]
  },
  {
   "cell_type": "markdown",
   "metadata": {},
   "source": [
    "https://towardsdatascience.com/feature-selection-techniques-in-machine-learning-with-python-f24e7da3f36e#:~:text=Feature%20Selection%20is%20the%20process,learn%20based%20on%20irrelevant%20features"
   ]
  },
  {
   "cell_type": "code",
   "execution_count": 9,
   "metadata": {
    "scrolled": true
   },
   "outputs": [
    {
     "data": {
      "text/plain": [
       "670.51    5714\n",
       "510.00      10\n",
       "385.00       9\n",
       "450.00       9\n",
       "425.00       9\n",
       "          ... \n",
       "566.79       1\n",
       "716.26       1\n",
       "511.25       1\n",
       "674.71       1\n",
       "441.99       1\n",
       "Name: maintenanceFees, Length: 3704, dtype: int64"
      ]
     },
     "execution_count": 9,
     "metadata": {},
     "output_type": "execute_result"
    }
   ],
   "source": [
    "df.maintenanceFees.value_counts()"
   ]
  },
  {
   "cell_type": "code",
   "execution_count": 10,
   "metadata": {
    "scrolled": false
   },
   "outputs": [
    {
     "data": {
      "text/plain": [
       "Series([], Name: typeBuilding, dtype: int64)"
      ]
     },
     "execution_count": 10,
     "metadata": {},
     "output_type": "execute_result"
    }
   ],
   "source": [
    "df[df.bedroomAboveGrade==\"NotListed\"].typeBuilding.value_counts()"
   ]
  },
  {
   "cell_type": "code",
   "execution_count": 11,
   "metadata": {},
   "outputs": [],
   "source": [
    "numerical_features=[\"bedroom\",\"bedroomAboveGrade\",\"bedroomBelowGrade\",\"bathroom\", \"bathroomTotal\",\"bathroomPartial\", \"totalParkingSpaces\", \"storeys\", \"maintenanceFees\",  'landSize', 'longitude', \"latitude\"]"
   ]
  },
  {
   "cell_type": "code",
   "execution_count": 12,
   "metadata": {
    "scrolled": false
   },
   "outputs": [
    {
     "data": {
      "text/html": [
       "<div>\n",
       "<style scoped>\n",
       "    .dataframe tbody tr th:only-of-type {\n",
       "        vertical-align: middle;\n",
       "    }\n",
       "\n",
       "    .dataframe tbody tr th {\n",
       "        vertical-align: top;\n",
       "    }\n",
       "\n",
       "    .dataframe thead th {\n",
       "        text-align: right;\n",
       "    }\n",
       "</style>\n",
       "<table border=\"1\" class=\"dataframe\">\n",
       "  <thead>\n",
       "    <tr style=\"text-align: right;\">\n",
       "      <th></th>\n",
       "      <th>bedroom</th>\n",
       "      <th>bedroomAboveGrade</th>\n",
       "      <th>bedroomBelowGrade</th>\n",
       "      <th>bathroom</th>\n",
       "      <th>bathroomTotal</th>\n",
       "      <th>bathroomPartial</th>\n",
       "      <th>totalParkingSpaces</th>\n",
       "      <th>storeys</th>\n",
       "      <th>maintenanceFees</th>\n",
       "      <th>landSize</th>\n",
       "      <th>longitude</th>\n",
       "      <th>latitude</th>\n",
       "    </tr>\n",
       "  </thead>\n",
       "  <tbody>\n",
       "    <tr>\n",
       "      <th>0</th>\n",
       "      <td>5</td>\n",
       "      <td>4</td>\n",
       "      <td>1</td>\n",
       "      <td>4.0</td>\n",
       "      <td>4</td>\n",
       "      <td>0</td>\n",
       "      <td>4</td>\n",
       "      <td>2.0</td>\n",
       "      <td>670.51</td>\n",
       "      <td>2230.1475</td>\n",
       "      <td>-79.7953</td>\n",
       "      <td>43.7328</td>\n",
       "    </tr>\n",
       "    <tr>\n",
       "      <th>1</th>\n",
       "      <td>3</td>\n",
       "      <td>3</td>\n",
       "      <td>0</td>\n",
       "      <td>4.0</td>\n",
       "      <td>4</td>\n",
       "      <td>0</td>\n",
       "      <td>1</td>\n",
       "      <td>3.0</td>\n",
       "      <td>670.51</td>\n",
       "      <td>0.0000</td>\n",
       "      <td>-79.7876</td>\n",
       "      <td>43.6249</td>\n",
       "    </tr>\n",
       "    <tr>\n",
       "      <th>2</th>\n",
       "      <td>7</td>\n",
       "      <td>4</td>\n",
       "      <td>3</td>\n",
       "      <td>4.0</td>\n",
       "      <td>4</td>\n",
       "      <td>0</td>\n",
       "      <td>8</td>\n",
       "      <td>2.0</td>\n",
       "      <td>670.51</td>\n",
       "      <td>4620.0000</td>\n",
       "      <td>-79.7876</td>\n",
       "      <td>43.6249</td>\n",
       "    </tr>\n",
       "    <tr>\n",
       "      <th>3</th>\n",
       "      <td>6</td>\n",
       "      <td>4</td>\n",
       "      <td>2</td>\n",
       "      <td>4.0</td>\n",
       "      <td>4</td>\n",
       "      <td>0</td>\n",
       "      <td>4</td>\n",
       "      <td>2.0</td>\n",
       "      <td>670.51</td>\n",
       "      <td>5063.6808</td>\n",
       "      <td>-79.7876</td>\n",
       "      <td>43.6249</td>\n",
       "    </tr>\n",
       "    <tr>\n",
       "      <th>4</th>\n",
       "      <td>4</td>\n",
       "      <td>4</td>\n",
       "      <td>0</td>\n",
       "      <td>4.0</td>\n",
       "      <td>4</td>\n",
       "      <td>0</td>\n",
       "      <td>4</td>\n",
       "      <td>2.5</td>\n",
       "      <td>670.51</td>\n",
       "      <td>3169.0000</td>\n",
       "      <td>-79.7876</td>\n",
       "      <td>43.6249</td>\n",
       "    </tr>\n",
       "  </tbody>\n",
       "</table>\n",
       "</div>"
      ],
      "text/plain": [
       "   bedroom  bedroomAboveGrade  bedroomBelowGrade  bathroom  bathroomTotal  \\\n",
       "0        5                  4                  1       4.0              4   \n",
       "1        3                  3                  0       4.0              4   \n",
       "2        7                  4                  3       4.0              4   \n",
       "3        6                  4                  2       4.0              4   \n",
       "4        4                  4                  0       4.0              4   \n",
       "\n",
       "   bathroomPartial  totalParkingSpaces  storeys  maintenanceFees   landSize  \\\n",
       "0                0                   4      2.0           670.51  2230.1475   \n",
       "1                0                   1      3.0           670.51     0.0000   \n",
       "2                0                   8      2.0           670.51  4620.0000   \n",
       "3                0                   4      2.0           670.51  5063.6808   \n",
       "4                0                   4      2.5           670.51  3169.0000   \n",
       "\n",
       "   longitude  latitude  \n",
       "0   -79.7953   43.7328  \n",
       "1   -79.7876   43.6249  \n",
       "2   -79.7876   43.6249  \n",
       "3   -79.7876   43.6249  \n",
       "4   -79.7876   43.6249  "
      ]
     },
     "execution_count": 12,
     "metadata": {},
     "output_type": "execute_result"
    }
   ],
   "source": [
    "import pandas as pd\n",
    "import numpy as np\n",
    "from sklearn.feature_selection import SelectKBest\n",
    "from sklearn.feature_selection import chi2\n",
    "X=df[numerical_features]\n",
    "X.head()"
   ]
  },
  {
   "cell_type": "code",
   "execution_count": 13,
   "metadata": {
    "scrolled": false
   },
   "outputs": [
    {
     "name": "stdout",
     "output_type": "stream",
     "text": [
      "12\n"
     ]
    }
   ],
   "source": [
    "print(len(X.columns))"
   ]
  },
  {
   "cell_type": "markdown",
   "metadata": {},
   "source": [
    "## Normalization for price"
   ]
  },
  {
   "cell_type": "code",
   "execution_count": 14,
   "metadata": {},
   "outputs": [],
   "source": [
    "from sklearn.preprocessing import MinMaxScaler\n",
    "scaler = MinMaxScaler()\n",
    "df[\"price\"] = pd.DataFrame(scaler.fit_transform(pd.DataFrame(df[\"price\"])))"
   ]
  },
  {
   "cell_type": "code",
   "execution_count": 15,
   "metadata": {},
   "outputs": [
    {
     "data": {
      "text/plain": [
       "count    10251.000000\n",
       "mean         0.024581\n",
       "std          0.037716\n",
       "min          0.000000\n",
       "25%          0.011063\n",
       "50%          0.015761\n",
       "75%          0.024781\n",
       "max          1.000000\n",
       "Name: price, dtype: float64"
      ]
     },
     "execution_count": 15,
     "metadata": {},
     "output_type": "execute_result"
    }
   ],
   "source": [
    "df.price.describe()"
   ]
  },
  {
   "cell_type": "code",
   "execution_count": 16,
   "metadata": {
    "scrolled": false
   },
   "outputs": [
    {
     "data": {
      "text/plain": [
       "0   0.01780541\n",
       "1   0.01803439\n",
       "2   0.02375690\n",
       "3   0.02375690\n",
       "4   0.02375690\n",
       "Name: price, dtype: float64"
      ]
     },
     "execution_count": 16,
     "metadata": {},
     "output_type": "execute_result"
    }
   ],
   "source": [
    "pd.options.display.float_format = '{:.8f}'.format\n",
    "\n",
    "y = df.iloc[:,1]    #target column, price\n",
    "y.head()"
   ]
  },
  {
   "cell_type": "markdown",
   "metadata": {},
   "source": [
    "## Normalization for numerical data (including longitude and latitude) using MinMaxScaler\n"
   ]
  },
  {
   "cell_type": "code",
   "execution_count": 17,
   "metadata": {
    "scrolled": false
   },
   "outputs": [],
   "source": [
    "from sklearn.preprocessing import MinMaxScaler\n",
    "# recaling the variables (both)\n",
    "X_columns = X.columns\n",
    "scaler = MinMaxScaler()\n",
    "X = scaler.fit_transform(X)\n",
    "\n",
    "# rename columns (since now its an np array)\n",
    "X = pd.DataFrame(X)\n",
    "X.columns = X_columns\n",
    "\n"
   ]
  },
  {
   "cell_type": "markdown",
   "metadata": {},
   "source": [
    "## Normalization for longitude and latitude sepeparately"
   ]
  },
  {
   "cell_type": "code",
   "execution_count": 18,
   "metadata": {},
   "outputs": [],
   "source": [
    "X.drop([\"longitude\", \"latitude\"], axis=1)\n",
    "normed_long= df[\"longitude\"] *0.01\n",
    "normed_lat= df[\"latitude\"] *0.01\n",
    "X=pd.concat([X, normed_long, normed_lat], axis=1)"
   ]
  },
  {
   "cell_type": "code",
   "execution_count": 19,
   "metadata": {
    "scrolled": true
   },
   "outputs": [
    {
     "data": {
      "text/html": [
       "<div>\n",
       "<style scoped>\n",
       "    .dataframe tbody tr th:only-of-type {\n",
       "        vertical-align: middle;\n",
       "    }\n",
       "\n",
       "    .dataframe tbody tr th {\n",
       "        vertical-align: top;\n",
       "    }\n",
       "\n",
       "    .dataframe thead th {\n",
       "        text-align: right;\n",
       "    }\n",
       "</style>\n",
       "<table border=\"1\" class=\"dataframe\">\n",
       "  <thead>\n",
       "    <tr style=\"text-align: right;\">\n",
       "      <th></th>\n",
       "      <th>bedroom</th>\n",
       "      <th>bedroomAboveGrade</th>\n",
       "      <th>bedroomBelowGrade</th>\n",
       "      <th>bathroom</th>\n",
       "      <th>bathroomTotal</th>\n",
       "      <th>bathroomPartial</th>\n",
       "      <th>totalParkingSpaces</th>\n",
       "      <th>storeys</th>\n",
       "      <th>maintenanceFees</th>\n",
       "      <th>landSize</th>\n",
       "      <th>longitude</th>\n",
       "      <th>latitude</th>\n",
       "      <th>longitude</th>\n",
       "      <th>latitude</th>\n",
       "    </tr>\n",
       "  </thead>\n",
       "  <tbody>\n",
       "    <tr>\n",
       "      <th>0</th>\n",
       "      <td>0.27777778</td>\n",
       "      <td>0.44444444</td>\n",
       "      <td>0.11111111</td>\n",
       "      <td>0.16000000</td>\n",
       "      <td>0.16000000</td>\n",
       "      <td>0.00000000</td>\n",
       "      <td>0.01538462</td>\n",
       "      <td>0.50000000</td>\n",
       "      <td>0.06856464</td>\n",
       "      <td>0.00005505</td>\n",
       "      <td>0.05392773</td>\n",
       "      <td>0.16157717</td>\n",
       "      <td>-0.79795300</td>\n",
       "      <td>0.43732800</td>\n",
       "    </tr>\n",
       "    <tr>\n",
       "      <th>1</th>\n",
       "      <td>0.16666667</td>\n",
       "      <td>0.33333333</td>\n",
       "      <td>0.00000000</td>\n",
       "      <td>0.16000000</td>\n",
       "      <td>0.16000000</td>\n",
       "      <td>0.00000000</td>\n",
       "      <td>0.00384615</td>\n",
       "      <td>0.75000000</td>\n",
       "      <td>0.06856464</td>\n",
       "      <td>0.00000000</td>\n",
       "      <td>0.05419651</td>\n",
       "      <td>0.13817559</td>\n",
       "      <td>-0.79787600</td>\n",
       "      <td>0.43624900</td>\n",
       "    </tr>\n",
       "    <tr>\n",
       "      <th>2</th>\n",
       "      <td>0.38888889</td>\n",
       "      <td>0.44444444</td>\n",
       "      <td>0.33333333</td>\n",
       "      <td>0.16000000</td>\n",
       "      <td>0.16000000</td>\n",
       "      <td>0.00000000</td>\n",
       "      <td>0.03076923</td>\n",
       "      <td>0.50000000</td>\n",
       "      <td>0.06856464</td>\n",
       "      <td>0.00011404</td>\n",
       "      <td>0.05419651</td>\n",
       "      <td>0.13817559</td>\n",
       "      <td>-0.79787600</td>\n",
       "      <td>0.43624900</td>\n",
       "    </tr>\n",
       "    <tr>\n",
       "      <th>3</th>\n",
       "      <td>0.33333333</td>\n",
       "      <td>0.44444444</td>\n",
       "      <td>0.22222222</td>\n",
       "      <td>0.16000000</td>\n",
       "      <td>0.16000000</td>\n",
       "      <td>0.00000000</td>\n",
       "      <td>0.01538462</td>\n",
       "      <td>0.50000000</td>\n",
       "      <td>0.06856464</td>\n",
       "      <td>0.00012500</td>\n",
       "      <td>0.05419651</td>\n",
       "      <td>0.13817559</td>\n",
       "      <td>-0.79787600</td>\n",
       "      <td>0.43624900</td>\n",
       "    </tr>\n",
       "    <tr>\n",
       "      <th>4</th>\n",
       "      <td>0.22222222</td>\n",
       "      <td>0.44444444</td>\n",
       "      <td>0.00000000</td>\n",
       "      <td>0.16000000</td>\n",
       "      <td>0.16000000</td>\n",
       "      <td>0.00000000</td>\n",
       "      <td>0.01538462</td>\n",
       "      <td>0.62500000</td>\n",
       "      <td>0.06856464</td>\n",
       "      <td>0.00007823</td>\n",
       "      <td>0.05419651</td>\n",
       "      <td>0.13817559</td>\n",
       "      <td>-0.79787600</td>\n",
       "      <td>0.43624900</td>\n",
       "    </tr>\n",
       "  </tbody>\n",
       "</table>\n",
       "</div>"
      ],
      "text/plain": [
       "     bedroom  bedroomAboveGrade  bedroomBelowGrade   bathroom  bathroomTotal  \\\n",
       "0 0.27777778         0.44444444         0.11111111 0.16000000     0.16000000   \n",
       "1 0.16666667         0.33333333         0.00000000 0.16000000     0.16000000   \n",
       "2 0.38888889         0.44444444         0.33333333 0.16000000     0.16000000   \n",
       "3 0.33333333         0.44444444         0.22222222 0.16000000     0.16000000   \n",
       "4 0.22222222         0.44444444         0.00000000 0.16000000     0.16000000   \n",
       "\n",
       "   bathroomPartial  totalParkingSpaces    storeys  maintenanceFees   landSize  \\\n",
       "0       0.00000000          0.01538462 0.50000000       0.06856464 0.00005505   \n",
       "1       0.00000000          0.00384615 0.75000000       0.06856464 0.00000000   \n",
       "2       0.00000000          0.03076923 0.50000000       0.06856464 0.00011404   \n",
       "3       0.00000000          0.01538462 0.50000000       0.06856464 0.00012500   \n",
       "4       0.00000000          0.01538462 0.62500000       0.06856464 0.00007823   \n",
       "\n",
       "   longitude   latitude   longitude   latitude  \n",
       "0 0.05392773 0.16157717 -0.79795300 0.43732800  \n",
       "1 0.05419651 0.13817559 -0.79787600 0.43624900  \n",
       "2 0.05419651 0.13817559 -0.79787600 0.43624900  \n",
       "3 0.05419651 0.13817559 -0.79787600 0.43624900  \n",
       "4 0.05419651 0.13817559 -0.79787600 0.43624900  "
      ]
     },
     "execution_count": 19,
     "metadata": {},
     "output_type": "execute_result"
    }
   ],
   "source": [
    "X.head()"
   ]
  },
  {
   "cell_type": "code",
   "execution_count": 20,
   "metadata": {},
   "outputs": [],
   "source": [
    "pd.options.display.float_format = '{:.4f}'.format\n",
    "pd.set_option(\"display.max_rows\", 5)\n"
   ]
  },
  {
   "cell_type": "code",
   "execution_count": 21,
   "metadata": {},
   "outputs": [
    {
     "name": "stdout",
     "output_type": "stream",
     "text": [
      "            Specs     Score\n",
      "4   bathroomTotal 1674.9370\n",
      "3        bathroom 1569.7424\n",
      "..            ...       ...\n",
      "11       latitude   32.8685\n",
      "10      longitude   32.2086\n",
      "\n",
      "[12 rows x 2 columns]\n"
     ]
    }
   ],
   "source": [
    "from sklearn.feature_selection import f_regression\n",
    "\n",
    "#apply SelectKBest class to extract top 10 best features\n",
    "bestfeatures = SelectKBest(score_func=f_regression, k=12) #chi2\n",
    "fit = bestfeatures.fit(X,y)\n",
    "dfscores = pd.DataFrame(fit.scores_)\n",
    "dfcolumns = pd.DataFrame(X.columns)\n",
    "#concat two dataframes for better visualization \n",
    "featureScores = pd.concat([dfcolumns,dfscores],axis=1)\n",
    "featureScores.columns = ['Specs','Score']  #naming the dataframe columns\n",
    "print(featureScores.nlargest(12,'Score'))  #print 10 best features\n"
   ]
  },
  {
   "cell_type": "code",
   "execution_count": 22,
   "metadata": {},
   "outputs": [],
   "source": [
    "pd.set_option(\"display.max_rows\", 5)\n"
   ]
  },
  {
   "cell_type": "markdown",
   "metadata": {},
   "source": [
    "## Categorical features: Boolean features"
   ]
  },
  {
   "cell_type": "code",
   "execution_count": 23,
   "metadata": {},
   "outputs": [],
   "source": [
    "boolean_features=['parkingAttachedGarage',\n",
    "       'parkingUnderground', 'parkingInsideEntry', 'parkingSurfaced',\n",
    "       'parkingOversize', 'parkingGravel', 'parkingGarage', 'parkingShared',\n",
    "       'parkingDetachedGarage', 'parkingCarport', 'parkingInterlocked',\n",
    "       'parkingVisitorParking','amenityClubhouse', 'amenityCarWash', 'amenityMusicRoom',\n",
    "       'amenityStorageLocker', 'amenitySauna', 'amenityPartyRoom',\n",
    "       'amenityRecreationCentre', 'amenityGuestSuite', 'amenityFurnished',\n",
    "       'amenityLaundryFacility', 'amenityExerciseCentre',\n",
    "       'amenityLaundryInSuite', 'amenitySecurity', 'amenityWhirlpool',\n",
    "       'efinishWood', 'efinishBrick', 'efinishHardboard', 'efinishWoodsiding',\n",
    "       'efinishLog', 'efinishMetal', 'efinishSteel', 'efinishStone',\n",
    "       'efinishWoodshingles', 'efinishStucco', 'efinishSiding',\n",
    "       'efinishConcrete', 'efinishShingles', 'efinishAluminumsiding',\n",
    "       'efinishCedarshingles', 'efinishVinyl', 'efinishVinylsiding',\n",
    "       'featurePetNotAllowed', 'AirportNearby',\n",
    "       'GolfNearby', 'MarinaNearby', 'ShoppingNearby', 'WaterNearby',\n",
    "       'WorshipPlaceNearby', 'RecreationNearby', 'PlaygroundNearby',\n",
    "       'PublicTransitNearby', 'ParkNearby', 'SchoolsNearby', 'HospitalNearby',\n",
    "       'HighwayNearby', 'SkiAreaNearby']"
   ]
  },
  {
   "cell_type": "code",
   "execution_count": 24,
   "metadata": {},
   "outputs": [],
   "source": [
    "X_cat=df[boolean_features]"
   ]
  },
  {
   "cell_type": "code",
   "execution_count": 25,
   "metadata": {
    "scrolled": true
   },
   "outputs": [
    {
     "name": "stdout",
     "output_type": "stream",
     "text": [
      "58\n"
     ]
    }
   ],
   "source": [
    "print(len(X_cat.columns))"
   ]
  },
  {
   "cell_type": "markdown",
   "metadata": {},
   "source": [
    "#apply SelectKBest class to extract top 10 best features\n",
    "bestfeatures2 = SelectKBest(score_func=chi2, k=58)\n",
    "fit2 = bestfeatures2.fit(X_cat,y)\n",
    "dfscores = pd.DataFrame(fit2.scores_)\n",
    "dfcolumns = pd.DataFrame(X_cat.columns)\n",
    "#concat two dataframes for better visualization \n",
    "featureScores = pd.concat([dfcolumns,dfscores],axis=1)\n",
    "featureScores.columns = ['Specs','Score']  #naming the dataframe columns\n",
    "print(featureScores.nlargest(58,'Score'))  #print 10 best features\n"
   ]
  },
  {
   "cell_type": "markdown",
   "metadata": {},
   "source": [
    "## Use only numerical  to do regression with Gradient Boosting and see"
   ]
  },
  {
   "cell_type": "code",
   "execution_count": 22,
   "metadata": {
    "scrolled": true
   },
   "outputs": [
    {
     "name": "stdout",
     "output_type": "stream",
     "text": [
      "The root mean squared error (RMSE) on test set: 0.0159\n"
     ]
    }
   ],
   "source": [
    "from sklearn import datasets, ensemble\n",
    "from sklearn.metrics import mean_squared_error\n",
    "from sklearn.model_selection import train_test_split\n",
    "import math \n",
    "\n",
    "#divide dataset\n",
    "X_train, X_test, y_train, y_test = train_test_split(\n",
    "    X, y, test_size=0.1, random_state=13)\n",
    "\n",
    "params = {'n_estimators': 1000,\n",
    "          'max_depth': 4,\n",
    "          'min_samples_split': 5,\n",
    "          'learning_rate': 0.01,\n",
    "          'loss': 'ls'}\n",
    "\n",
    "reg = ensemble.GradientBoostingRegressor(**params)\n",
    "reg.fit(X_train, y_train)\n",
    "\n",
    "mse = mean_squared_error(y_test, reg.predict(X_test), squared=False)\n",
    "#rmse=math.sqrt(mse)\n",
    "\n",
    "print(\"The root mean squared error (RMSE) on test set: {:.4f}\".format(mse))"
   ]
  },
  {
   "cell_type": "markdown",
   "metadata": {},
   "source": [
    "## when bedroom columns and bathroom columns are combined respectively"
   ]
  },
  {
   "cell_type": "code",
   "execution_count": 23,
   "metadata": {},
   "outputs": [],
   "source": [
    "X_remove_dup=X[[\"bathroom\", \"totalParkingSpaces\", \"maintenanceFees\", \"bedroom\", \"landSize\", \"storeys\", \"longitude\", \"latitude\"]]"
   ]
  },
  {
   "cell_type": "code",
   "execution_count": 24,
   "metadata": {
    "scrolled": false
   },
   "outputs": [
    {
     "name": "stdout",
     "output_type": "stream",
     "text": [
      "The root mean squared error (RMSE) on test set: 0.0161\n"
     ]
    }
   ],
   "source": [
    "from sklearn import datasets, ensemble\n",
    "from sklearn.metrics import mean_squared_error\n",
    "from sklearn.model_selection import train_test_split\n",
    "import math \n",
    "\n",
    "#divide dataset\n",
    "X_train, X_test, y_train, y_test = train_test_split(\n",
    "    X_remove_dup, y, test_size=0.1, random_state=13)\n",
    "\n",
    "params = {'n_estimators': 1000,\n",
    "          'max_depth': 4,\n",
    "          'min_samples_split': 5,\n",
    "          'learning_rate': 0.01,\n",
    "          'loss': 'ls'}\n",
    "\n",
    "reg = ensemble.GradientBoostingRegressor(**params)\n",
    "reg.fit(X_train, y_train)\n",
    "\n",
    "mse = mean_squared_error(y_test, reg.predict(X_test), squared=False)\n",
    "#rmse=math.sqrt(mse)\n",
    "\n",
    "print(\"The root mean squared error (RMSE) on test set: {:.4f}\".format(mse))"
   ]
  },
  {
   "cell_type": "markdown",
   "metadata": {},
   "source": [
    "## when bedroom and bathroom are seperated as bedroomAboveGrade, bedroomBelowGrade; bathroomTotal, bathroomPartial"
   ]
  },
  {
   "cell_type": "code",
   "execution_count": 31,
   "metadata": {},
   "outputs": [],
   "source": [
    "X_remove_newadd=X[[\"bathroomTotal\", \"bathroomPartial\", \"totalParkingSpaces\", \"maintenanceFees\", \"bedroomAboveGrade\",\"bedroomBelowGrade\", \"landSize\", \"storeys\", \"longitude\", \"latitude\"]]"
   ]
  },
  {
   "cell_type": "code",
   "execution_count": 26,
   "metadata": {},
   "outputs": [
    {
     "name": "stdout",
     "output_type": "stream",
     "text": [
      "The root mean squared error (RMSE) on test set: 0.0155\n"
     ]
    }
   ],
   "source": [
    "from sklearn import datasets, ensemble\n",
    "from sklearn.metrics import mean_squared_error\n",
    "from sklearn.model_selection import train_test_split\n",
    "import math \n",
    "\n",
    "#divide dataset3\n",
    "X_train, X_test, y_train, y_test = train_test_split(\n",
    "    X_remove_newadd, y, test_size=0.1, random_state=13)\n",
    "\n",
    "params = {'n_estimators': 2000,\n",
    "          'max_depth': 4,\n",
    "          'min_samples_split': 5,\n",
    "          'learning_rate': 0.01, #0.01 is the best\n",
    "          'loss': 'huber'}\n",
    "\n",
    "reg = ensemble.GradientBoostingRegressor(**params)\n",
    "reg.fit(X_train, y_train)\n",
    "\n",
    "mse = mean_squared_error(y_test, reg.predict(X_test), squared=False)\n",
    "#rmse=math.sqrt(mse)\n",
    "\n",
    "print(\"The root mean squared error (RMSE) on test set: {:.4f}\".format(mse))"
   ]
  },
  {
   "cell_type": "markdown",
   "metadata": {},
   "source": [
    "## only use top 5 numerical features"
   ]
  },
  {
   "cell_type": "code",
   "execution_count": 27,
   "metadata": {},
   "outputs": [],
   "source": [
    "X_top5nu=X[[\"bathroomTotal\", \"totalParkingSpaces\", \"maintenanceFees\", \"bedroomAboveGrade\", \"landSize\"]]\n"
   ]
  },
  {
   "cell_type": "code",
   "execution_count": 28,
   "metadata": {},
   "outputs": [
    {
     "name": "stdout",
     "output_type": "stream",
     "text": [
      "The root mean squared error (RMSE) on test set: 0.0195\n"
     ]
    }
   ],
   "source": [
    "#divide dataset\n",
    "X_train, X_test, y_train, y_test = train_test_split(\n",
    "    X_top5nu, y, test_size=0.1, random_state=12)\n",
    "\n",
    "params = {'n_estimators': 1000,\n",
    "          'max_depth': 4,\n",
    "          'min_samples_split': 5,\n",
    "          'learning_rate': 0.01,\n",
    "          'loss': 'huber'}\n",
    "\n",
    "reg = ensemble.GradientBoostingRegressor(**params)\n",
    "reg.fit(X_train, y_train)\n",
    "\n",
    "mse = mean_squared_error(y_test, reg.predict(X_test), squared=False)\n",
    "#rmse=math.sqrt(mse)\n",
    "\n",
    "print(\"The root mean squared error (RMSE) on test set: {:.4f}\".format(mse))"
   ]
  },
  {
   "cell_type": "markdown",
   "metadata": {},
   "source": [
    "## Use only boolean features to do regression"
   ]
  },
  {
   "cell_type": "code",
   "execution_count": 29,
   "metadata": {},
   "outputs": [
    {
     "name": "stdout",
     "output_type": "stream",
     "text": [
      "The root mean squared error (RMSE) on test set: 0.0289\n"
     ]
    }
   ],
   "source": [
    "from sklearn import datasets, ensemble\n",
    "from sklearn.metrics import mean_squared_error\n",
    "from sklearn.model_selection import train_test_split\n",
    "import math \n",
    "\n",
    "#divide dataset\n",
    "X_train, X_test, y_train, y_test = train_test_split(\n",
    "    X_cat, y, test_size=0.1, random_state=13)\n",
    "\n",
    "params = {'n_estimators': 500,\n",
    "          'max_depth': 4,\n",
    "          'min_samples_split': 5,\n",
    "          'learning_rate': 0.01,\n",
    "          'loss': 'ls'}\n",
    "\n",
    "reg = ensemble.GradientBoostingRegressor(**params)\n",
    "reg.fit(X_train, y_train)\n",
    "\n",
    "mse = mean_squared_error(y_test, reg.predict(X_test), squared=False)\n",
    "#rmse=math.sqrt(mse)\n",
    "\n",
    "print(\"The root mean squared error (RMSE) on test set: {:.4f}\".format(mse))"
   ]
  },
  {
   "cell_type": "markdown",
   "metadata": {},
   "source": [
    "## Use both numerical and boolean to do  regression"
   ]
  },
  {
   "cell_type": "code",
   "execution_count": 30,
   "metadata": {},
   "outputs": [],
   "source": [
    "num_boo_features=numerical_features+boolean_features"
   ]
  },
  {
   "cell_type": "code",
   "execution_count": 31,
   "metadata": {},
   "outputs": [],
   "source": [
    "X_nb=df[num_boo_features]"
   ]
  },
  {
   "cell_type": "code",
   "execution_count": 32,
   "metadata": {},
   "outputs": [
    {
     "name": "stdout",
     "output_type": "stream",
     "text": [
      "The root mean squared error (RMSE) on test set: 0.0162\n"
     ]
    }
   ],
   "source": [
    "from sklearn import datasets, ensemble\n",
    "from sklearn.metrics import mean_squared_error\n",
    "from sklearn.model_selection import train_test_split\n",
    "import math \n",
    "\n",
    "#divide dataset\n",
    "X_train, X_test, y_train, y_test = train_test_split(\n",
    "    X_nb, y, test_size=0.1, random_state=13)\n",
    "\n",
    "params = {'n_estimators': 1000,\n",
    "          'max_depth': 3,\n",
    "          'min_samples_split': 5,\n",
    "          'learning_rate': 0.01,\n",
    "          'loss': 'ls'}\n",
    "\n",
    "reg = ensemble.GradientBoostingRegressor(**params)\n",
    "reg.fit(X_train, y_train)\n",
    "\n",
    "mse = mean_squared_error(y_test, reg.predict(X_test), squared=False)\n",
    "#rmse=math.sqrt(mse)\n",
    "\n",
    "print(\"The root mean squared error (RMSE) on test set: {:.4f}\".format(mse))"
   ]
  },
  {
   "cell_type": "markdown",
   "metadata": {},
   "source": [
    "## Try XGBoost on numerical features"
   ]
  },
  {
   "cell_type": "code",
   "execution_count": 33,
   "metadata": {
    "scrolled": true
   },
   "outputs": [
    {
     "name": "stderr",
     "output_type": "stream",
     "text": [
      "<ipython-input-33-6eca3d891dc6>:1: SettingWithCopyWarning: \n",
      "A value is trying to be set on a copy of a slice from a DataFrame.\n",
      "Try using .loc[row_indexer,col_indexer] = value instead\n",
      "\n",
      "See the caveats in the documentation: https://pandas.pydata.org/pandas-docs/stable/user_guide/indexing.html#returning-a-view-versus-a-copy\n",
      "  X_nb['bedroomAboveGrade'] = pd.to_numeric(X_nb['bedroomAboveGrade'])\n",
      "<ipython-input-33-6eca3d891dc6>:2: SettingWithCopyWarning: \n",
      "A value is trying to be set on a copy of a slice from a DataFrame.\n",
      "Try using .loc[row_indexer,col_indexer] = value instead\n",
      "\n",
      "See the caveats in the documentation: https://pandas.pydata.org/pandas-docs/stable/user_guide/indexing.html#returning-a-view-versus-a-copy\n",
      "  X_nb['totalParkingSpaces'] = pd.to_numeric(X_nb['totalParkingSpaces'])\n"
     ]
    }
   ],
   "source": [
    "X_nb['bedroomAboveGrade'] = pd.to_numeric(X_nb['bedroomAboveGrade'])\n",
    "X_nb['totalParkingSpaces'] = pd.to_numeric(X_nb['totalParkingSpaces'])\n"
   ]
  },
  {
   "cell_type": "code",
   "execution_count": 34,
   "metadata": {},
   "outputs": [],
   "source": [
    "#divide dataset\n",
    "X_train, X_test, y_train, y_test = train_test_split(\n",
    "    X, y, test_size=0.1, random_state=13)"
   ]
  },
  {
   "cell_type": "code",
   "execution_count": 36,
   "metadata": {},
   "outputs": [],
   "source": [
    "import xgboost"
   ]
  },
  {
   "cell_type": "code",
   "execution_count": 37,
   "metadata": {},
   "outputs": [],
   "source": [
    "model = xgboost.XGBRegressor()"
   ]
  },
  {
   "cell_type": "markdown",
   "metadata": {},
   "source": [
    "model.fit(X_train, y_train)\n",
    "mse = mean_squared_error(y_test, model.predict(X_test), squared=False)\n",
    "print(\"The root mean squared error (RMSE) on test set: {:.4f}\".format(mse))"
   ]
  },
  {
   "cell_type": "markdown",
   "metadata": {},
   "source": [
    "## Convert categorical data with string values into numerical values"
   ]
  },
  {
   "cell_type": "code",
   "execution_count": 26,
   "metadata": {},
   "outputs": [],
   "source": [
    "X_category=df[['city', 'typeBuilding', 'title', 'styleAttach', \n",
    "       'cooling', 'basementType', 'basementFinish',\n",
    "       'heatingType1', 'heatingType2', 'heatingEnergy1', 'heatingEnergy2', 'featureLotSlope', 'featureDriveway', 'featureLotPositionType',\n",
    "       'featureOutdoorAreaType', 'featureOutdoorLandscape',\n",
    "       'featureAdditionalFacility']]"
   ]
  },
  {
   "cell_type": "code",
   "execution_count": 27,
   "metadata": {
    "scrolled": true
   },
   "outputs": [
    {
     "name": "stderr",
     "output_type": "stream",
     "text": [
      "<ipython-input-27-3a5b2f48f5f1>:6: SettingWithCopyWarning: \n",
      "A value is trying to be set on a copy of a slice from a DataFrame.\n",
      "Try using .loc[row_indexer,col_indexer] = value instead\n",
      "\n",
      "See the caveats in the documentation: https://pandas.pydata.org/pandas-docs/stable/user_guide/indexing.html#returning-a-view-versus-a-copy\n",
      "  X_category[col] = X_category[col].astype('category')\n",
      "<ipython-input-27-3a5b2f48f5f1>:7: SettingWithCopyWarning: \n",
      "A value is trying to be set on a copy of a slice from a DataFrame.\n",
      "Try using .loc[row_indexer,col_indexer] = value instead\n",
      "\n",
      "See the caveats in the documentation: https://pandas.pydata.org/pandas-docs/stable/user_guide/indexing.html#returning-a-view-versus-a-copy\n",
      "  X_category[col] = X_category[col].cat.codes\n"
     ]
    }
   ],
   "source": [
    "## convert categorical data to numerical values\n",
    "cate_features=['city', 'typeBuilding', 'title', 'styleAttach', 'cooling',  'basementType', 'basementFinish','heatingType1', 'heatingType2', 'heatingEnergy1', 'heatingEnergy2', 'featureLotSlope', 'featureDriveway', 'featureLotPositionType',\n",
    "       'featureOutdoorAreaType', 'featureOutdoorLandscape',\n",
    "       'featureAdditionalFacility']\n",
    "for col in cate_features:\n",
    "    X_category[col] = X_category[col].astype('category')\n",
    "    X_category[col] = X_category[col].cat.codes"
   ]
  },
  {
   "cell_type": "code",
   "execution_count": 28,
   "metadata": {
    "scrolled": true
   },
   "outputs": [
    {
     "data": {
      "text/html": [
       "<div>\n",
       "<style scoped>\n",
       "    .dataframe tbody tr th:only-of-type {\n",
       "        vertical-align: middle;\n",
       "    }\n",
       "\n",
       "    .dataframe tbody tr th {\n",
       "        vertical-align: top;\n",
       "    }\n",
       "\n",
       "    .dataframe thead th {\n",
       "        text-align: right;\n",
       "    }\n",
       "</style>\n",
       "<table border=\"1\" class=\"dataframe\">\n",
       "  <thead>\n",
       "    <tr style=\"text-align: right;\">\n",
       "      <th></th>\n",
       "      <th>city</th>\n",
       "      <th>typeBuilding</th>\n",
       "      <th>title</th>\n",
       "      <th>styleAttach</th>\n",
       "      <th>cooling</th>\n",
       "      <th>basementType</th>\n",
       "      <th>basementFinish</th>\n",
       "      <th>heatingType1</th>\n",
       "      <th>heatingType2</th>\n",
       "      <th>heatingEnergy1</th>\n",
       "      <th>heatingEnergy2</th>\n",
       "      <th>featureLotSlope</th>\n",
       "      <th>featureDriveway</th>\n",
       "      <th>featureLotPositionType</th>\n",
       "      <th>featureOutdoorAreaType</th>\n",
       "      <th>featureOutdoorLandscape</th>\n",
       "      <th>featureAdditionalFacility</th>\n",
       "    </tr>\n",
       "  </thead>\n",
       "  <tbody>\n",
       "    <tr>\n",
       "      <th>0</th>\n",
       "      <td>0</td>\n",
       "      <td>3</td>\n",
       "      <td>3</td>\n",
       "      <td>3</td>\n",
       "      <td>1</td>\n",
       "      <td>4</td>\n",
       "      <td>0</td>\n",
       "      <td>3</td>\n",
       "      <td>0</td>\n",
       "      <td>2</td>\n",
       "      <td>0</td>\n",
       "      <td>3</td>\n",
       "      <td>4</td>\n",
       "      <td>3</td>\n",
       "      <td>1</td>\n",
       "      <td>3</td>\n",
       "      <td>3</td>\n",
       "    </tr>\n",
       "    <tr>\n",
       "      <th>1</th>\n",
       "      <td>0</td>\n",
       "      <td>8</td>\n",
       "      <td>2</td>\n",
       "      <td>0</td>\n",
       "      <td>1</td>\n",
       "      <td>4</td>\n",
       "      <td>3</td>\n",
       "      <td>3</td>\n",
       "      <td>0</td>\n",
       "      <td>2</td>\n",
       "      <td>0</td>\n",
       "      <td>3</td>\n",
       "      <td>4</td>\n",
       "      <td>3</td>\n",
       "      <td>1</td>\n",
       "      <td>3</td>\n",
       "      <td>3</td>\n",
       "    </tr>\n",
       "    <tr>\n",
       "      <th>2</th>\n",
       "      <td>0</td>\n",
       "      <td>3</td>\n",
       "      <td>3</td>\n",
       "      <td>1</td>\n",
       "      <td>1</td>\n",
       "      <td>4</td>\n",
       "      <td>0</td>\n",
       "      <td>3</td>\n",
       "      <td>0</td>\n",
       "      <td>2</td>\n",
       "      <td>0</td>\n",
       "      <td>3</td>\n",
       "      <td>4</td>\n",
       "      <td>3</td>\n",
       "      <td>1</td>\n",
       "      <td>3</td>\n",
       "      <td>3</td>\n",
       "    </tr>\n",
       "    <tr>\n",
       "      <th>3</th>\n",
       "      <td>0</td>\n",
       "      <td>3</td>\n",
       "      <td>3</td>\n",
       "      <td>1</td>\n",
       "      <td>1</td>\n",
       "      <td>4</td>\n",
       "      <td>0</td>\n",
       "      <td>3</td>\n",
       "      <td>0</td>\n",
       "      <td>2</td>\n",
       "      <td>0</td>\n",
       "      <td>3</td>\n",
       "      <td>4</td>\n",
       "      <td>3</td>\n",
       "      <td>1</td>\n",
       "      <td>3</td>\n",
       "      <td>3</td>\n",
       "    </tr>\n",
       "    <tr>\n",
       "      <th>4</th>\n",
       "      <td>0</td>\n",
       "      <td>3</td>\n",
       "      <td>3</td>\n",
       "      <td>1</td>\n",
       "      <td>1</td>\n",
       "      <td>3</td>\n",
       "      <td>3</td>\n",
       "      <td>3</td>\n",
       "      <td>0</td>\n",
       "      <td>2</td>\n",
       "      <td>0</td>\n",
       "      <td>3</td>\n",
       "      <td>4</td>\n",
       "      <td>3</td>\n",
       "      <td>1</td>\n",
       "      <td>3</td>\n",
       "      <td>3</td>\n",
       "    </tr>\n",
       "  </tbody>\n",
       "</table>\n",
       "</div>"
      ],
      "text/plain": [
       "   city  typeBuilding  title  styleAttach  cooling  basementType  \\\n",
       "0     0             3      3            3        1             4   \n",
       "1     0             8      2            0        1             4   \n",
       "2     0             3      3            1        1             4   \n",
       "3     0             3      3            1        1             4   \n",
       "4     0             3      3            1        1             3   \n",
       "\n",
       "   basementFinish  heatingType1  heatingType2  heatingEnergy1  heatingEnergy2  \\\n",
       "0               0             3             0               2               0   \n",
       "1               3             3             0               2               0   \n",
       "2               0             3             0               2               0   \n",
       "3               0             3             0               2               0   \n",
       "4               3             3             0               2               0   \n",
       "\n",
       "   featureLotSlope  featureDriveway  featureLotPositionType  \\\n",
       "0                3                4                       3   \n",
       "1                3                4                       3   \n",
       "2                3                4                       3   \n",
       "3                3                4                       3   \n",
       "4                3                4                       3   \n",
       "\n",
       "   featureOutdoorAreaType  featureOutdoorLandscape  featureAdditionalFacility  \n",
       "0                       1                        3                          3  \n",
       "1                       1                        3                          3  \n",
       "2                       1                        3                          3  \n",
       "3                       1                        3                          3  \n",
       "4                       1                        3                          3  "
      ]
     },
     "execution_count": 28,
     "metadata": {},
     "output_type": "execute_result"
    }
   ],
   "source": [
    "X_category.head()"
   ]
  },
  {
   "cell_type": "markdown",
   "metadata": {},
   "source": [
    "## Normalize the categorical data "
   ]
  },
  {
   "cell_type": "code",
   "execution_count": 29,
   "metadata": {},
   "outputs": [
    {
     "data": {
      "text/html": [
       "<div>\n",
       "<style scoped>\n",
       "    .dataframe tbody tr th:only-of-type {\n",
       "        vertical-align: middle;\n",
       "    }\n",
       "\n",
       "    .dataframe tbody tr th {\n",
       "        vertical-align: top;\n",
       "    }\n",
       "\n",
       "    .dataframe thead th {\n",
       "        text-align: right;\n",
       "    }\n",
       "</style>\n",
       "<table border=\"1\" class=\"dataframe\">\n",
       "  <thead>\n",
       "    <tr style=\"text-align: right;\">\n",
       "      <th></th>\n",
       "      <th>city</th>\n",
       "      <th>typeBuilding</th>\n",
       "      <th>title</th>\n",
       "      <th>styleAttach</th>\n",
       "      <th>cooling</th>\n",
       "      <th>basementType</th>\n",
       "      <th>basementFinish</th>\n",
       "      <th>heatingType1</th>\n",
       "      <th>heatingType2</th>\n",
       "      <th>heatingEnergy1</th>\n",
       "      <th>heatingEnergy2</th>\n",
       "      <th>featureLotSlope</th>\n",
       "      <th>featureDriveway</th>\n",
       "      <th>featureLotPositionType</th>\n",
       "      <th>featureOutdoorAreaType</th>\n",
       "      <th>featureOutdoorLandscape</th>\n",
       "      <th>featureAdditionalFacility</th>\n",
       "    </tr>\n",
       "  </thead>\n",
       "  <tbody>\n",
       "    <tr>\n",
       "      <th>0</th>\n",
       "      <td>0.0000</td>\n",
       "      <td>0.3000</td>\n",
       "      <td>0.6000</td>\n",
       "      <td>0.4286</td>\n",
       "      <td>0.2000</td>\n",
       "      <td>0.8000</td>\n",
       "      <td>0.0000</td>\n",
       "      <td>0.4286</td>\n",
       "      <td>0.0000</td>\n",
       "      <td>0.4000</td>\n",
       "      <td>0.0000</td>\n",
       "      <td>0.6000</td>\n",
       "      <td>0.6667</td>\n",
       "      <td>1.0000</td>\n",
       "      <td>0.3333</td>\n",
       "      <td>0.2727</td>\n",
       "      <td>0.5000</td>\n",
       "    </tr>\n",
       "    <tr>\n",
       "      <th>1</th>\n",
       "      <td>0.0000</td>\n",
       "      <td>0.8000</td>\n",
       "      <td>0.4000</td>\n",
       "      <td>0.0000</td>\n",
       "      <td>0.2000</td>\n",
       "      <td>0.8000</td>\n",
       "      <td>1.0000</td>\n",
       "      <td>0.4286</td>\n",
       "      <td>0.0000</td>\n",
       "      <td>0.4000</td>\n",
       "      <td>0.0000</td>\n",
       "      <td>0.6000</td>\n",
       "      <td>0.6667</td>\n",
       "      <td>1.0000</td>\n",
       "      <td>0.3333</td>\n",
       "      <td>0.2727</td>\n",
       "      <td>0.5000</td>\n",
       "    </tr>\n",
       "    <tr>\n",
       "      <th>2</th>\n",
       "      <td>0.0000</td>\n",
       "      <td>0.3000</td>\n",
       "      <td>0.6000</td>\n",
       "      <td>0.1429</td>\n",
       "      <td>0.2000</td>\n",
       "      <td>0.8000</td>\n",
       "      <td>0.0000</td>\n",
       "      <td>0.4286</td>\n",
       "      <td>0.0000</td>\n",
       "      <td>0.4000</td>\n",
       "      <td>0.0000</td>\n",
       "      <td>0.6000</td>\n",
       "      <td>0.6667</td>\n",
       "      <td>1.0000</td>\n",
       "      <td>0.3333</td>\n",
       "      <td>0.2727</td>\n",
       "      <td>0.5000</td>\n",
       "    </tr>\n",
       "    <tr>\n",
       "      <th>3</th>\n",
       "      <td>0.0000</td>\n",
       "      <td>0.3000</td>\n",
       "      <td>0.6000</td>\n",
       "      <td>0.1429</td>\n",
       "      <td>0.2000</td>\n",
       "      <td>0.8000</td>\n",
       "      <td>0.0000</td>\n",
       "      <td>0.4286</td>\n",
       "      <td>0.0000</td>\n",
       "      <td>0.4000</td>\n",
       "      <td>0.0000</td>\n",
       "      <td>0.6000</td>\n",
       "      <td>0.6667</td>\n",
       "      <td>1.0000</td>\n",
       "      <td>0.3333</td>\n",
       "      <td>0.2727</td>\n",
       "      <td>0.5000</td>\n",
       "    </tr>\n",
       "    <tr>\n",
       "      <th>4</th>\n",
       "      <td>0.0000</td>\n",
       "      <td>0.3000</td>\n",
       "      <td>0.6000</td>\n",
       "      <td>0.1429</td>\n",
       "      <td>0.2000</td>\n",
       "      <td>0.6000</td>\n",
       "      <td>1.0000</td>\n",
       "      <td>0.4286</td>\n",
       "      <td>0.0000</td>\n",
       "      <td>0.4000</td>\n",
       "      <td>0.0000</td>\n",
       "      <td>0.6000</td>\n",
       "      <td>0.6667</td>\n",
       "      <td>1.0000</td>\n",
       "      <td>0.3333</td>\n",
       "      <td>0.2727</td>\n",
       "      <td>0.5000</td>\n",
       "    </tr>\n",
       "  </tbody>\n",
       "</table>\n",
       "</div>"
      ],
      "text/plain": [
       "    city  typeBuilding  title  styleAttach  cooling  basementType  \\\n",
       "0 0.0000        0.3000 0.6000       0.4286   0.2000        0.8000   \n",
       "1 0.0000        0.8000 0.4000       0.0000   0.2000        0.8000   \n",
       "2 0.0000        0.3000 0.6000       0.1429   0.2000        0.8000   \n",
       "3 0.0000        0.3000 0.6000       0.1429   0.2000        0.8000   \n",
       "4 0.0000        0.3000 0.6000       0.1429   0.2000        0.6000   \n",
       "\n",
       "   basementFinish  heatingType1  heatingType2  heatingEnergy1  heatingEnergy2  \\\n",
       "0          0.0000        0.4286        0.0000          0.4000          0.0000   \n",
       "1          1.0000        0.4286        0.0000          0.4000          0.0000   \n",
       "2          0.0000        0.4286        0.0000          0.4000          0.0000   \n",
       "3          0.0000        0.4286        0.0000          0.4000          0.0000   \n",
       "4          1.0000        0.4286        0.0000          0.4000          0.0000   \n",
       "\n",
       "   featureLotSlope  featureDriveway  featureLotPositionType  \\\n",
       "0           0.6000           0.6667                  1.0000   \n",
       "1           0.6000           0.6667                  1.0000   \n",
       "2           0.6000           0.6667                  1.0000   \n",
       "3           0.6000           0.6667                  1.0000   \n",
       "4           0.6000           0.6667                  1.0000   \n",
       "\n",
       "   featureOutdoorAreaType  featureOutdoorLandscape  featureAdditionalFacility  \n",
       "0                  0.3333                   0.2727                     0.5000  \n",
       "1                  0.3333                   0.2727                     0.5000  \n",
       "2                  0.3333                   0.2727                     0.5000  \n",
       "3                  0.3333                   0.2727                     0.5000  \n",
       "4                  0.3333                   0.2727                     0.5000  "
      ]
     },
     "execution_count": 29,
     "metadata": {},
     "output_type": "execute_result"
    }
   ],
   "source": [
    "from sklearn.preprocessing import MinMaxScaler\n",
    "\n",
    "# recaling the variables (both)\n",
    "X_category_columns = X_category.columns\n",
    "scaler = MinMaxScaler()\n",
    "X_category = scaler.fit_transform(X_category)\n",
    "\n",
    "# rename columns (since now its an np array)\n",
    "X_category = pd.DataFrame(X_category)\n",
    "X_category.columns = X_category_columns\n",
    "\n",
    "X_category.head()"
   ]
  },
  {
   "cell_type": "markdown",
   "metadata": {},
   "source": [
    "## Use only categorical data to predict;"
   ]
  },
  {
   "cell_type": "code",
   "execution_count": 42,
   "metadata": {},
   "outputs": [
    {
     "name": "stdout",
     "output_type": "stream",
     "text": [
      "The root mean squared error (RMSE) on test set: 0.0233\n"
     ]
    }
   ],
   "source": [
    "from sklearn import datasets, ensemble\n",
    "from sklearn.metrics import mean_squared_error\n",
    "from sklearn.model_selection import train_test_split\n",
    "import math \n",
    "\n",
    "#divide dataset\n",
    "X_train, X_test, y_train, y_test = train_test_split(\n",
    "    X_category, y, test_size=0.1, random_state=13)\n",
    "\n",
    "params = {'n_estimators': 1000,\n",
    "          'max_depth': 4,\n",
    "          'min_samples_split': 5,\n",
    "          'learning_rate': 0.01,\n",
    "          'loss': 'ls'}\n",
    "\n",
    "reg = ensemble.GradientBoostingRegressor(**params)\n",
    "reg.fit(X_train, y_train)\n",
    "\n",
    "mse = mean_squared_error(y_test, reg.predict(X_test), squared=False)\n",
    "#rmse=math.sqrt(mse)\n",
    "\n",
    "print(\"The root mean squared error (RMSE) on test set: {:.4f}\".format(mse))"
   ]
  },
  {
   "cell_type": "markdown",
   "metadata": {},
   "source": [
    "## Use numerical, boolean, and categorical data to predict"
   ]
  },
  {
   "cell_type": "code",
   "execution_count": 32,
   "metadata": {
    "scrolled": true
   },
   "outputs": [
    {
     "data": {
      "text/html": [
       "<div>\n",
       "<style scoped>\n",
       "    .dataframe tbody tr th:only-of-type {\n",
       "        vertical-align: middle;\n",
       "    }\n",
       "\n",
       "    .dataframe tbody tr th {\n",
       "        vertical-align: top;\n",
       "    }\n",
       "\n",
       "    .dataframe thead th {\n",
       "        text-align: right;\n",
       "    }\n",
       "</style>\n",
       "<table border=\"1\" class=\"dataframe\">\n",
       "  <thead>\n",
       "    <tr style=\"text-align: right;\">\n",
       "      <th></th>\n",
       "      <th>bathroomTotal</th>\n",
       "      <th>bathroomPartial</th>\n",
       "      <th>totalParkingSpaces</th>\n",
       "      <th>maintenanceFees</th>\n",
       "      <th>bedroomAboveGrade</th>\n",
       "      <th>bedroomBelowGrade</th>\n",
       "      <th>landSize</th>\n",
       "      <th>storeys</th>\n",
       "      <th>longitude</th>\n",
       "      <th>longitude</th>\n",
       "      <th>...</th>\n",
       "      <th>heatingType1</th>\n",
       "      <th>heatingType2</th>\n",
       "      <th>heatingEnergy1</th>\n",
       "      <th>heatingEnergy2</th>\n",
       "      <th>featureLotSlope</th>\n",
       "      <th>featureDriveway</th>\n",
       "      <th>featureLotPositionType</th>\n",
       "      <th>featureOutdoorAreaType</th>\n",
       "      <th>featureOutdoorLandscape</th>\n",
       "      <th>featureAdditionalFacility</th>\n",
       "    </tr>\n",
       "  </thead>\n",
       "  <tbody>\n",
       "    <tr>\n",
       "      <th>0</th>\n",
       "      <td>0.1600</td>\n",
       "      <td>0.0000</td>\n",
       "      <td>0.0154</td>\n",
       "      <td>0.0686</td>\n",
       "      <td>0.4444</td>\n",
       "      <td>0.1111</td>\n",
       "      <td>0.0001</td>\n",
       "      <td>0.5000</td>\n",
       "      <td>0.0539</td>\n",
       "      <td>-0.7980</td>\n",
       "      <td>...</td>\n",
       "      <td>0.4286</td>\n",
       "      <td>0.0000</td>\n",
       "      <td>0.4000</td>\n",
       "      <td>0.0000</td>\n",
       "      <td>0.6000</td>\n",
       "      <td>0.6667</td>\n",
       "      <td>1.0000</td>\n",
       "      <td>0.3333</td>\n",
       "      <td>0.2727</td>\n",
       "      <td>0.5000</td>\n",
       "    </tr>\n",
       "    <tr>\n",
       "      <th>1</th>\n",
       "      <td>0.1600</td>\n",
       "      <td>0.0000</td>\n",
       "      <td>0.0038</td>\n",
       "      <td>0.0686</td>\n",
       "      <td>0.3333</td>\n",
       "      <td>0.0000</td>\n",
       "      <td>0.0000</td>\n",
       "      <td>0.7500</td>\n",
       "      <td>0.0542</td>\n",
       "      <td>-0.7979</td>\n",
       "      <td>...</td>\n",
       "      <td>0.4286</td>\n",
       "      <td>0.0000</td>\n",
       "      <td>0.4000</td>\n",
       "      <td>0.0000</td>\n",
       "      <td>0.6000</td>\n",
       "      <td>0.6667</td>\n",
       "      <td>1.0000</td>\n",
       "      <td>0.3333</td>\n",
       "      <td>0.2727</td>\n",
       "      <td>0.5000</td>\n",
       "    </tr>\n",
       "    <tr>\n",
       "      <th>2</th>\n",
       "      <td>0.1600</td>\n",
       "      <td>0.0000</td>\n",
       "      <td>0.0308</td>\n",
       "      <td>0.0686</td>\n",
       "      <td>0.4444</td>\n",
       "      <td>0.3333</td>\n",
       "      <td>0.0001</td>\n",
       "      <td>0.5000</td>\n",
       "      <td>0.0542</td>\n",
       "      <td>-0.7979</td>\n",
       "      <td>...</td>\n",
       "      <td>0.4286</td>\n",
       "      <td>0.0000</td>\n",
       "      <td>0.4000</td>\n",
       "      <td>0.0000</td>\n",
       "      <td>0.6000</td>\n",
       "      <td>0.6667</td>\n",
       "      <td>1.0000</td>\n",
       "      <td>0.3333</td>\n",
       "      <td>0.2727</td>\n",
       "      <td>0.5000</td>\n",
       "    </tr>\n",
       "    <tr>\n",
       "      <th>3</th>\n",
       "      <td>0.1600</td>\n",
       "      <td>0.0000</td>\n",
       "      <td>0.0154</td>\n",
       "      <td>0.0686</td>\n",
       "      <td>0.4444</td>\n",
       "      <td>0.2222</td>\n",
       "      <td>0.0001</td>\n",
       "      <td>0.5000</td>\n",
       "      <td>0.0542</td>\n",
       "      <td>-0.7979</td>\n",
       "      <td>...</td>\n",
       "      <td>0.4286</td>\n",
       "      <td>0.0000</td>\n",
       "      <td>0.4000</td>\n",
       "      <td>0.0000</td>\n",
       "      <td>0.6000</td>\n",
       "      <td>0.6667</td>\n",
       "      <td>1.0000</td>\n",
       "      <td>0.3333</td>\n",
       "      <td>0.2727</td>\n",
       "      <td>0.5000</td>\n",
       "    </tr>\n",
       "    <tr>\n",
       "      <th>4</th>\n",
       "      <td>0.1600</td>\n",
       "      <td>0.0000</td>\n",
       "      <td>0.0154</td>\n",
       "      <td>0.0686</td>\n",
       "      <td>0.4444</td>\n",
       "      <td>0.0000</td>\n",
       "      <td>0.0001</td>\n",
       "      <td>0.6250</td>\n",
       "      <td>0.0542</td>\n",
       "      <td>-0.7979</td>\n",
       "      <td>...</td>\n",
       "      <td>0.4286</td>\n",
       "      <td>0.0000</td>\n",
       "      <td>0.4000</td>\n",
       "      <td>0.0000</td>\n",
       "      <td>0.6000</td>\n",
       "      <td>0.6667</td>\n",
       "      <td>1.0000</td>\n",
       "      <td>0.3333</td>\n",
       "      <td>0.2727</td>\n",
       "      <td>0.5000</td>\n",
       "    </tr>\n",
       "  </tbody>\n",
       "</table>\n",
       "<p>5 rows × 87 columns</p>\n",
       "</div>"
      ],
      "text/plain": [
       "   bathroomTotal  bathroomPartial  totalParkingSpaces  maintenanceFees  \\\n",
       "0         0.1600           0.0000              0.0154           0.0686   \n",
       "1         0.1600           0.0000              0.0038           0.0686   \n",
       "2         0.1600           0.0000              0.0308           0.0686   \n",
       "3         0.1600           0.0000              0.0154           0.0686   \n",
       "4         0.1600           0.0000              0.0154           0.0686   \n",
       "\n",
       "   bedroomAboveGrade  bedroomBelowGrade  landSize  storeys  longitude  \\\n",
       "0             0.4444             0.1111    0.0001   0.5000     0.0539   \n",
       "1             0.3333             0.0000    0.0000   0.7500     0.0542   \n",
       "2             0.4444             0.3333    0.0001   0.5000     0.0542   \n",
       "3             0.4444             0.2222    0.0001   0.5000     0.0542   \n",
       "4             0.4444             0.0000    0.0001   0.6250     0.0542   \n",
       "\n",
       "   longitude  ...  heatingType1  heatingType2  heatingEnergy1  heatingEnergy2  \\\n",
       "0    -0.7980  ...        0.4286        0.0000          0.4000          0.0000   \n",
       "1    -0.7979  ...        0.4286        0.0000          0.4000          0.0000   \n",
       "2    -0.7979  ...        0.4286        0.0000          0.4000          0.0000   \n",
       "3    -0.7979  ...        0.4286        0.0000          0.4000          0.0000   \n",
       "4    -0.7979  ...        0.4286        0.0000          0.4000          0.0000   \n",
       "\n",
       "   featureLotSlope  featureDriveway  featureLotPositionType  \\\n",
       "0           0.6000           0.6667                  1.0000   \n",
       "1           0.6000           0.6667                  1.0000   \n",
       "2           0.6000           0.6667                  1.0000   \n",
       "3           0.6000           0.6667                  1.0000   \n",
       "4           0.6000           0.6667                  1.0000   \n",
       "\n",
       "   featureOutdoorAreaType  featureOutdoorLandscape  featureAdditionalFacility  \n",
       "0                  0.3333                   0.2727                     0.5000  \n",
       "1                  0.3333                   0.2727                     0.5000  \n",
       "2                  0.3333                   0.2727                     0.5000  \n",
       "3                  0.3333                   0.2727                     0.5000  \n",
       "4                  0.3333                   0.2727                     0.5000  \n",
       "\n",
       "[5 rows x 87 columns]"
      ]
     },
     "execution_count": 32,
     "metadata": {},
     "output_type": "execute_result"
    }
   ],
   "source": [
    "X_result = pd.concat([X_remove_newadd, X_cat, X_category], axis=1)\n",
    "X_result.head()"
   ]
  },
  {
   "cell_type": "code",
   "execution_count": 44,
   "metadata": {
    "scrolled": true
   },
   "outputs": [
    {
     "name": "stdout",
     "output_type": "stream",
     "text": [
      "The root mean squared error (RMSE) on test set: 0.0149\n"
     ]
    }
   ],
   "source": [
    "from sklearn import datasets, ensemble\n",
    "from sklearn.metrics import mean_squared_error\n",
    "from sklearn.model_selection import train_test_split\n",
    "import math \n",
    "\n",
    "#divide dataset\n",
    "X_train, X_test, y_train, y_test = train_test_split(\n",
    "    X_result, y, test_size=0.1, random_state=13)\n",
    "\n",
    "params = {'n_estimators': 1200,\n",
    "          'max_depth': 6,\n",
    "          'min_samples_split': 5,\n",
    "          'learning_rate': 0.01,\n",
    "          'loss': 'ls'}\n",
    "\n",
    "reg = ensemble.GradientBoostingRegressor(**params)\n",
    "reg.fit(X_train, y_train)\n",
    "y_pred=reg.predict(X_test)\n",
    "mse = mean_squared_error(y_test, y_pred, squared=False)\n",
    "#rmse=math.sqrt(mse)\n",
    "\n",
    "print(\"The root mean squared error (RMSE) on test set: {:.4f}\".format(mse))"
   ]
  },
  {
   "cell_type": "code",
   "execution_count": 45,
   "metadata": {
    "scrolled": false
   },
   "outputs": [
    {
     "data": {
      "text/plain": [
       "0.6969620150461151"
      ]
     },
     "execution_count": 45,
     "metadata": {},
     "output_type": "execute_result"
    }
   ],
   "source": [
    "from sklearn.metrics import r2_score\n",
    "r2_score(y_test, y_pred)"
   ]
  },
  {
   "cell_type": "markdown",
   "metadata": {},
   "source": [
    "## Check the training set RMSE"
   ]
  },
  {
   "cell_type": "code",
   "execution_count": 46,
   "metadata": {},
   "outputs": [
    {
     "name": "stdout",
     "output_type": "stream",
     "text": [
      "The root mean squared error (RMSE) on training set: 0.0075\n"
     ]
    }
   ],
   "source": [
    "y_train_pred=reg.predict(X_train)\n",
    "mse = mean_squared_error(y_train, y_train_pred, squared=False)\n",
    "print(\"The root mean squared error (RMSE) on training set: {:.4f}\".format(mse))"
   ]
  },
  {
   "cell_type": "markdown",
   "metadata": {},
   "source": [
    "## Other features that have not been used:"
   ]
  },
  {
   "cell_type": "markdown",
   "metadata": {},
   "source": [
    "precise address;  \n",
    "natural langauge data:  \n",
    " * 'address'  \n",
    " * 'description'  \n",
    " * 'maintenanceManagementCompany'  "
   ]
  },
  {
   "cell_type": "code",
   "execution_count": 34,
   "metadata": {},
   "outputs": [],
   "source": [
    "pd.set_option(\"display.max_rows\", None)\n"
   ]
  },
  {
   "cell_type": "code",
   "execution_count": 37,
   "metadata": {},
   "outputs": [
    {
     "name": "stdout",
     "output_type": "stream",
     "text": [
      "                     Specs     Score\n",
      "0            bathroomTotal 1674.9370\n",
      "2       totalParkingSpaces  601.5534\n",
      "72                   title  514.1833\n",
      "3          maintenanceFees  475.8582\n",
      "4        bedroomAboveGrade  470.7107\n",
      "45            efinishStone  434.7524\n",
      "73             styleAttach  405.8400\n",
      "84  featureOutdoorAreaType  284.7103\n",
      "13      parkingUnderground  272.3988\n",
      "18           parkingGarage  233.5156\n",
      "34   amenityExerciseCentre  192.0079\n",
      "6                 landSize  174.7506\n"
     ]
    }
   ],
   "source": [
    "from sklearn.feature_selection import f_regression\n",
    "\n",
    "#apply SelectKBest class to extract top 10 best features\n",
    "bestfeatures = SelectKBest(score_func=f_regression, k=12) #chi2\n",
    "fit = bestfeatures.fit(X_result,y)\n",
    "dfscores = pd.DataFrame(fit.scores_)\n",
    "dfcolumns = pd.DataFrame(X_result.columns)\n",
    "#concat two dataframes for better visualization \n",
    "featureScores = pd.concat([dfcolumns,dfscores],axis=1)\n",
    "featureScores.columns = ['Specs','Score']  #naming the dataframe columns\n",
    "print(featureScores.nlargest(12,'Score'))  #print 10 best features\n"
   ]
  },
  {
   "cell_type": "code",
   "execution_count": null,
   "metadata": {},
   "outputs": [],
   "source": []
  }
 ],
 "metadata": {
  "kernelspec": {
   "display_name": "Python 3",
   "language": "python",
   "name": "python3"
  },
  "language_info": {
   "codemirror_mode": {
    "name": "ipython",
    "version": 3
   },
   "file_extension": ".py",
   "mimetype": "text/x-python",
   "name": "python",
   "nbconvert_exporter": "python",
   "pygments_lexer": "ipython3",
   "version": "3.8.8"
  }
 },
 "nbformat": 4,
 "nbformat_minor": 4
}
