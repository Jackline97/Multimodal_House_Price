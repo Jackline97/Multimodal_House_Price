{
 "cells": [
  {
   "cell_type": "markdown",
   "id": "c43b133a",
   "metadata": {},
   "source": [
    "## read data"
   ]
  },
  {
   "cell_type": "code",
   "execution_count": 38,
   "id": "bcd81e39",
   "metadata": {},
   "outputs": [],
   "source": [
    "\n",
    "import pandas as pd\n",
    "import os\n",
    "\n",
    "project_folder=\"C:/Users/hanson/OneDrive/Grad/Grad Project/data_realtorCA/\"\n",
    "output_folder=project_folder+\"output\"\n",
    "\n",
    "df=pd.read_csv(output_folder+\"/\"+\"all_after_preprocessing6.csv\")"
   ]
  },
  {
   "cell_type": "markdown",
   "id": "76b395c5",
   "metadata": {},
   "source": [
    "## Normalization of price"
   ]
  },
  {
   "cell_type": "code",
   "execution_count": 39,
   "id": "d3d15a71",
   "metadata": {},
   "outputs": [],
   "source": [
    "from sklearn.preprocessing import MinMaxScaler\n",
    "\n",
    "scaler = MinMaxScaler()\n",
    "labels_price = pd.DataFrame(scaler.fit_transform(pd.DataFrame(df[\"price\"])))"
   ]
  },
  {
   "cell_type": "markdown",
   "id": "da40aa7e",
   "metadata": {},
   "source": [
    "## numerical features"
   ]
  },
  {
   "cell_type": "code",
   "execution_count": 40,
   "id": "b7562680",
   "metadata": {},
   "outputs": [],
   "source": [
    "numerical_features=[\"bedroom\",\"bedroomAboveGrade\",\"bedroomBelowGrade\",\"bathroom\", \"bathroomTotal\",\"bathroomPartial\", \"totalParkingSpaces\", \"storeys\", \"maintenanceFees\",  'landSize', 'longitude', \"latitude\"]"
   ]
  },
  {
   "cell_type": "code",
   "execution_count": 41,
   "id": "133fb023",
   "metadata": {},
   "outputs": [
    {
     "data": {
      "text/html": [
       "<div>\n",
       "<style scoped>\n",
       "    .dataframe tbody tr th:only-of-type {\n",
       "        vertical-align: middle;\n",
       "    }\n",
       "\n",
       "    .dataframe tbody tr th {\n",
       "        vertical-align: top;\n",
       "    }\n",
       "\n",
       "    .dataframe thead th {\n",
       "        text-align: right;\n",
       "    }\n",
       "</style>\n",
       "<table border=\"1\" class=\"dataframe\">\n",
       "  <thead>\n",
       "    <tr style=\"text-align: right;\">\n",
       "      <th></th>\n",
       "      <th>bedroom</th>\n",
       "      <th>bedroomAboveGrade</th>\n",
       "      <th>bedroomBelowGrade</th>\n",
       "      <th>bathroom</th>\n",
       "      <th>bathroomTotal</th>\n",
       "      <th>bathroomPartial</th>\n",
       "      <th>totalParkingSpaces</th>\n",
       "      <th>storeys</th>\n",
       "      <th>maintenanceFees</th>\n",
       "      <th>landSize</th>\n",
       "      <th>longitude</th>\n",
       "      <th>latitude</th>\n",
       "    </tr>\n",
       "  </thead>\n",
       "  <tbody>\n",
       "    <tr>\n",
       "      <th>0</th>\n",
       "      <td>5</td>\n",
       "      <td>4</td>\n",
       "      <td>1</td>\n",
       "      <td>4.0</td>\n",
       "      <td>4</td>\n",
       "      <td>0</td>\n",
       "      <td>4</td>\n",
       "      <td>2.0</td>\n",
       "      <td>670.51</td>\n",
       "      <td>2230.1475</td>\n",
       "      <td>-79.7953</td>\n",
       "      <td>43.7328</td>\n",
       "    </tr>\n",
       "    <tr>\n",
       "      <th>1</th>\n",
       "      <td>3</td>\n",
       "      <td>3</td>\n",
       "      <td>0</td>\n",
       "      <td>4.0</td>\n",
       "      <td>4</td>\n",
       "      <td>0</td>\n",
       "      <td>1</td>\n",
       "      <td>3.0</td>\n",
       "      <td>670.51</td>\n",
       "      <td>0.0000</td>\n",
       "      <td>-79.7876</td>\n",
       "      <td>43.6249</td>\n",
       "    </tr>\n",
       "    <tr>\n",
       "      <th>2</th>\n",
       "      <td>7</td>\n",
       "      <td>4</td>\n",
       "      <td>3</td>\n",
       "      <td>4.0</td>\n",
       "      <td>4</td>\n",
       "      <td>0</td>\n",
       "      <td>8</td>\n",
       "      <td>2.0</td>\n",
       "      <td>670.51</td>\n",
       "      <td>4620.0000</td>\n",
       "      <td>-79.7876</td>\n",
       "      <td>43.6249</td>\n",
       "    </tr>\n",
       "    <tr>\n",
       "      <th>3</th>\n",
       "      <td>6</td>\n",
       "      <td>4</td>\n",
       "      <td>2</td>\n",
       "      <td>4.0</td>\n",
       "      <td>4</td>\n",
       "      <td>0</td>\n",
       "      <td>4</td>\n",
       "      <td>2.0</td>\n",
       "      <td>670.51</td>\n",
       "      <td>5063.6808</td>\n",
       "      <td>-79.7876</td>\n",
       "      <td>43.6249</td>\n",
       "    </tr>\n",
       "    <tr>\n",
       "      <th>4</th>\n",
       "      <td>4</td>\n",
       "      <td>4</td>\n",
       "      <td>0</td>\n",
       "      <td>4.0</td>\n",
       "      <td>4</td>\n",
       "      <td>0</td>\n",
       "      <td>4</td>\n",
       "      <td>2.5</td>\n",
       "      <td>670.51</td>\n",
       "      <td>3169.0000</td>\n",
       "      <td>-79.7876</td>\n",
       "      <td>43.6249</td>\n",
       "    </tr>\n",
       "  </tbody>\n",
       "</table>\n",
       "</div>"
      ],
      "text/plain": [
       "   bedroom  bedroomAboveGrade  bedroomBelowGrade  bathroom  bathroomTotal  \\\n",
       "0        5                  4                  1       4.0              4   \n",
       "1        3                  3                  0       4.0              4   \n",
       "2        7                  4                  3       4.0              4   \n",
       "3        6                  4                  2       4.0              4   \n",
       "4        4                  4                  0       4.0              4   \n",
       "\n",
       "   bathroomPartial  totalParkingSpaces  storeys  maintenanceFees   landSize  \\\n",
       "0                0                   4      2.0           670.51  2230.1475   \n",
       "1                0                   1      3.0           670.51     0.0000   \n",
       "2                0                   8      2.0           670.51  4620.0000   \n",
       "3                0                   4      2.0           670.51  5063.6808   \n",
       "4                0                   4      2.5           670.51  3169.0000   \n",
       "\n",
       "   longitude  latitude  \n",
       "0   -79.7953   43.7328  \n",
       "1   -79.7876   43.6249  \n",
       "2   -79.7876   43.6249  \n",
       "3   -79.7876   43.6249  \n",
       "4   -79.7876   43.6249  "
      ]
     },
     "execution_count": 41,
     "metadata": {},
     "output_type": "execute_result"
    }
   ],
   "source": [
    "import pandas as pd\n",
    "import numpy as np\n",
    "from sklearn.feature_selection import SelectKBest\n",
    "from sklearn.feature_selection import chi2\n",
    "X_num=df[numerical_features]\n",
    "X_num.head()"
   ]
  },
  {
   "cell_type": "markdown",
   "id": "bd34a80c",
   "metadata": {},
   "source": [
    "## Normalization for numerical data (exclude longitude and latitude) using MinMaxScaler\n"
   ]
  },
  {
   "cell_type": "code",
   "execution_count": 42,
   "id": "bf0b6aba",
   "metadata": {},
   "outputs": [],
   "source": [
    "from sklearn.preprocessing import MinMaxScaler\n",
    "# recaling the variables (both)\n",
    "X_num_columns = X_num.columns\n",
    "scaler = MinMaxScaler()\n",
    "X_num = scaler.fit_transform(X_num)\n",
    "\n",
    "# rename columns (since now its an np array)\n",
    "X_num = pd.DataFrame(X_num)\n",
    "X_num.columns = X_num_columns"
   ]
  },
  {
   "cell_type": "markdown",
   "id": "5a73a014",
   "metadata": {},
   "source": [
    "## Normalization for longitude and latitude sepeparately"
   ]
  },
  {
   "cell_type": "code",
   "execution_count": 43,
   "id": "fddd75a5",
   "metadata": {},
   "outputs": [],
   "source": [
    "X_num.drop([\"longitude\", \"latitude\"], axis=1)\n",
    "normed_long= df[\"longitude\"] *0.01\n",
    "normed_lat= df[\"latitude\"] *0.01\n",
    "X_num=pd.concat([X_num, normed_long, normed_lat], axis=1)"
   ]
  },
  {
   "cell_type": "markdown",
   "id": "2487970a",
   "metadata": {},
   "source": [
    "## Boolean features"
   ]
  },
  {
   "cell_type": "code",
   "execution_count": 44,
   "id": "d5f374c6",
   "metadata": {},
   "outputs": [],
   "source": [
    "boolean_features=['parkingAttachedGarage',\n",
    "       'parkingUnderground', 'parkingInsideEntry', 'parkingSurfaced',\n",
    "       'parkingOversize', 'parkingGravel', 'parkingGarage', 'parkingShared',\n",
    "       'parkingDetachedGarage', 'parkingCarport', 'parkingInterlocked',\n",
    "       'parkingVisitorParking','amenityClubhouse', 'amenityCarWash', 'amenityMusicRoom',\n",
    "       'amenityStorageLocker', 'amenitySauna', 'amenityPartyRoom',\n",
    "       'amenityRecreationCentre', 'amenityGuestSuite', 'amenityFurnished',\n",
    "       'amenityLaundryFacility', 'amenityExerciseCentre',\n",
    "       'amenityLaundryInSuite', 'amenitySecurity', 'amenityWhirlpool',\n",
    "       'efinishWood', 'efinishBrick', 'efinishHardboard', 'efinishWoodsiding',\n",
    "       'efinishLog', 'efinishMetal', 'efinishSteel', 'efinishStone',\n",
    "       'efinishWoodshingles', 'efinishStucco', 'efinishSiding',\n",
    "       'efinishConcrete', 'efinishShingles', 'efinishAluminumsiding',\n",
    "       'efinishCedarshingles', 'efinishVinyl', 'efinishVinylsiding',\n",
    "       'featurePetNotAllowed', 'AirportNearby',\n",
    "       'GolfNearby', 'MarinaNearby', 'ShoppingNearby', 'WaterNearby',\n",
    "       'WorshipPlaceNearby', 'RecreationNearby', 'PlaygroundNearby',\n",
    "       'PublicTransitNearby', 'ParkNearby', 'SchoolsNearby', 'HospitalNearby',\n",
    "       'HighwayNearby', 'SkiAreaNearby']\n",
    "\n",
    "X_boo=df[boolean_features]"
   ]
  },
  {
   "cell_type": "markdown",
   "id": "ab3199f2",
   "metadata": {},
   "source": [
    "## Convert categorical data with string values into numerical values"
   ]
  },
  {
   "cell_type": "code",
   "execution_count": 45,
   "id": "be962822",
   "metadata": {},
   "outputs": [],
   "source": [
    "X_category=df[['city', 'typeBuilding', 'title', 'styleAttach', \n",
    "       'cooling', 'basementType', 'basementFinish',\n",
    "       'heatingType1', 'heatingType2', 'heatingEnergy1', 'heatingEnergy2', 'featureLotSlope', 'featureDriveway', 'featureLotPositionType',\n",
    "       'featureOutdoorAreaType', 'featureOutdoorLandscape',\n",
    "       'featureAdditionalFacility']]"
   ]
  },
  {
   "cell_type": "code",
   "execution_count": 46,
   "id": "f016cef2",
   "metadata": {
    "scrolled": true
   },
   "outputs": [
    {
     "name": "stderr",
     "output_type": "stream",
     "text": [
      "<ipython-input-46-3a5b2f48f5f1>:6: SettingWithCopyWarning: \n",
      "A value is trying to be set on a copy of a slice from a DataFrame.\n",
      "Try using .loc[row_indexer,col_indexer] = value instead\n",
      "\n",
      "See the caveats in the documentation: https://pandas.pydata.org/pandas-docs/stable/user_guide/indexing.html#returning-a-view-versus-a-copy\n",
      "  X_category[col] = X_category[col].astype('category')\n",
      "<ipython-input-46-3a5b2f48f5f1>:7: SettingWithCopyWarning: \n",
      "A value is trying to be set on a copy of a slice from a DataFrame.\n",
      "Try using .loc[row_indexer,col_indexer] = value instead\n",
      "\n",
      "See the caveats in the documentation: https://pandas.pydata.org/pandas-docs/stable/user_guide/indexing.html#returning-a-view-versus-a-copy\n",
      "  X_category[col] = X_category[col].cat.codes\n"
     ]
    }
   ],
   "source": [
    "## convert categorical data to numerical values\n",
    "cate_features=['city', 'typeBuilding', 'title', 'styleAttach', 'cooling',  'basementType', 'basementFinish','heatingType1', 'heatingType2', 'heatingEnergy1', 'heatingEnergy2', 'featureLotSlope', 'featureDriveway', 'featureLotPositionType',\n",
    "       'featureOutdoorAreaType', 'featureOutdoorLandscape',\n",
    "       'featureAdditionalFacility']\n",
    "for col in cate_features:\n",
    "    X_category[col] = X_category[col].astype('category')\n",
    "    X_category[col] = X_category[col].cat.codes"
   ]
  },
  {
   "cell_type": "code",
   "execution_count": 47,
   "id": "1681f953",
   "metadata": {
    "scrolled": true
   },
   "outputs": [
    {
     "data": {
      "text/html": [
       "<div>\n",
       "<style scoped>\n",
       "    .dataframe tbody tr th:only-of-type {\n",
       "        vertical-align: middle;\n",
       "    }\n",
       "\n",
       "    .dataframe tbody tr th {\n",
       "        vertical-align: top;\n",
       "    }\n",
       "\n",
       "    .dataframe thead th {\n",
       "        text-align: right;\n",
       "    }\n",
       "</style>\n",
       "<table border=\"1\" class=\"dataframe\">\n",
       "  <thead>\n",
       "    <tr style=\"text-align: right;\">\n",
       "      <th></th>\n",
       "      <th>city</th>\n",
       "      <th>typeBuilding</th>\n",
       "      <th>title</th>\n",
       "      <th>styleAttach</th>\n",
       "      <th>cooling</th>\n",
       "      <th>basementType</th>\n",
       "      <th>basementFinish</th>\n",
       "      <th>heatingType1</th>\n",
       "      <th>heatingType2</th>\n",
       "      <th>heatingEnergy1</th>\n",
       "      <th>heatingEnergy2</th>\n",
       "      <th>featureLotSlope</th>\n",
       "      <th>featureDriveway</th>\n",
       "      <th>featureLotPositionType</th>\n",
       "      <th>featureOutdoorAreaType</th>\n",
       "      <th>featureOutdoorLandscape</th>\n",
       "      <th>featureAdditionalFacility</th>\n",
       "    </tr>\n",
       "  </thead>\n",
       "  <tbody>\n",
       "    <tr>\n",
       "      <th>0</th>\n",
       "      <td>0</td>\n",
       "      <td>3</td>\n",
       "      <td>3</td>\n",
       "      <td>3</td>\n",
       "      <td>1</td>\n",
       "      <td>4</td>\n",
       "      <td>0</td>\n",
       "      <td>3</td>\n",
       "      <td>0</td>\n",
       "      <td>2</td>\n",
       "      <td>0</td>\n",
       "      <td>3</td>\n",
       "      <td>4</td>\n",
       "      <td>3</td>\n",
       "      <td>1</td>\n",
       "      <td>3</td>\n",
       "      <td>3</td>\n",
       "    </tr>\n",
       "    <tr>\n",
       "      <th>1</th>\n",
       "      <td>0</td>\n",
       "      <td>8</td>\n",
       "      <td>2</td>\n",
       "      <td>0</td>\n",
       "      <td>1</td>\n",
       "      <td>4</td>\n",
       "      <td>3</td>\n",
       "      <td>3</td>\n",
       "      <td>0</td>\n",
       "      <td>2</td>\n",
       "      <td>0</td>\n",
       "      <td>3</td>\n",
       "      <td>4</td>\n",
       "      <td>3</td>\n",
       "      <td>1</td>\n",
       "      <td>3</td>\n",
       "      <td>3</td>\n",
       "    </tr>\n",
       "    <tr>\n",
       "      <th>2</th>\n",
       "      <td>0</td>\n",
       "      <td>3</td>\n",
       "      <td>3</td>\n",
       "      <td>1</td>\n",
       "      <td>1</td>\n",
       "      <td>4</td>\n",
       "      <td>0</td>\n",
       "      <td>3</td>\n",
       "      <td>0</td>\n",
       "      <td>2</td>\n",
       "      <td>0</td>\n",
       "      <td>3</td>\n",
       "      <td>4</td>\n",
       "      <td>3</td>\n",
       "      <td>1</td>\n",
       "      <td>3</td>\n",
       "      <td>3</td>\n",
       "    </tr>\n",
       "    <tr>\n",
       "      <th>3</th>\n",
       "      <td>0</td>\n",
       "      <td>3</td>\n",
       "      <td>3</td>\n",
       "      <td>1</td>\n",
       "      <td>1</td>\n",
       "      <td>4</td>\n",
       "      <td>0</td>\n",
       "      <td>3</td>\n",
       "      <td>0</td>\n",
       "      <td>2</td>\n",
       "      <td>0</td>\n",
       "      <td>3</td>\n",
       "      <td>4</td>\n",
       "      <td>3</td>\n",
       "      <td>1</td>\n",
       "      <td>3</td>\n",
       "      <td>3</td>\n",
       "    </tr>\n",
       "    <tr>\n",
       "      <th>4</th>\n",
       "      <td>0</td>\n",
       "      <td>3</td>\n",
       "      <td>3</td>\n",
       "      <td>1</td>\n",
       "      <td>1</td>\n",
       "      <td>3</td>\n",
       "      <td>3</td>\n",
       "      <td>3</td>\n",
       "      <td>0</td>\n",
       "      <td>2</td>\n",
       "      <td>0</td>\n",
       "      <td>3</td>\n",
       "      <td>4</td>\n",
       "      <td>3</td>\n",
       "      <td>1</td>\n",
       "      <td>3</td>\n",
       "      <td>3</td>\n",
       "    </tr>\n",
       "  </tbody>\n",
       "</table>\n",
       "</div>"
      ],
      "text/plain": [
       "   city  typeBuilding  title  styleAttach  cooling  basementType  \\\n",
       "0     0             3      3            3        1             4   \n",
       "1     0             8      2            0        1             4   \n",
       "2     0             3      3            1        1             4   \n",
       "3     0             3      3            1        1             4   \n",
       "4     0             3      3            1        1             3   \n",
       "\n",
       "   basementFinish  heatingType1  heatingType2  heatingEnergy1  heatingEnergy2  \\\n",
       "0               0             3             0               2               0   \n",
       "1               3             3             0               2               0   \n",
       "2               0             3             0               2               0   \n",
       "3               0             3             0               2               0   \n",
       "4               3             3             0               2               0   \n",
       "\n",
       "   featureLotSlope  featureDriveway  featureLotPositionType  \\\n",
       "0                3                4                       3   \n",
       "1                3                4                       3   \n",
       "2                3                4                       3   \n",
       "3                3                4                       3   \n",
       "4                3                4                       3   \n",
       "\n",
       "   featureOutdoorAreaType  featureOutdoorLandscape  featureAdditionalFacility  \n",
       "0                       1                        3                          3  \n",
       "1                       1                        3                          3  \n",
       "2                       1                        3                          3  \n",
       "3                       1                        3                          3  \n",
       "4                       1                        3                          3  "
      ]
     },
     "execution_count": 47,
     "metadata": {},
     "output_type": "execute_result"
    }
   ],
   "source": [
    "X_category.head()"
   ]
  },
  {
   "cell_type": "markdown",
   "id": "d0e90260",
   "metadata": {},
   "source": [
    "## Normalize the categorical data "
   ]
  },
  {
   "cell_type": "code",
   "execution_count": 48,
   "id": "2f357bbb",
   "metadata": {
    "scrolled": true
   },
   "outputs": [
    {
     "data": {
      "text/html": [
       "<div>\n",
       "<style scoped>\n",
       "    .dataframe tbody tr th:only-of-type {\n",
       "        vertical-align: middle;\n",
       "    }\n",
       "\n",
       "    .dataframe tbody tr th {\n",
       "        vertical-align: top;\n",
       "    }\n",
       "\n",
       "    .dataframe thead th {\n",
       "        text-align: right;\n",
       "    }\n",
       "</style>\n",
       "<table border=\"1\" class=\"dataframe\">\n",
       "  <thead>\n",
       "    <tr style=\"text-align: right;\">\n",
       "      <th></th>\n",
       "      <th>city</th>\n",
       "      <th>typeBuilding</th>\n",
       "      <th>title</th>\n",
       "      <th>styleAttach</th>\n",
       "      <th>cooling</th>\n",
       "      <th>basementType</th>\n",
       "      <th>basementFinish</th>\n",
       "      <th>heatingType1</th>\n",
       "      <th>heatingType2</th>\n",
       "      <th>heatingEnergy1</th>\n",
       "      <th>heatingEnergy2</th>\n",
       "      <th>featureLotSlope</th>\n",
       "      <th>featureDriveway</th>\n",
       "      <th>featureLotPositionType</th>\n",
       "      <th>featureOutdoorAreaType</th>\n",
       "      <th>featureOutdoorLandscape</th>\n",
       "      <th>featureAdditionalFacility</th>\n",
       "    </tr>\n",
       "  </thead>\n",
       "  <tbody>\n",
       "    <tr>\n",
       "      <th>0</th>\n",
       "      <td>0.0</td>\n",
       "      <td>0.3</td>\n",
       "      <td>0.6</td>\n",
       "      <td>0.428571</td>\n",
       "      <td>0.2</td>\n",
       "      <td>0.8</td>\n",
       "      <td>0.0</td>\n",
       "      <td>0.428571</td>\n",
       "      <td>0.0</td>\n",
       "      <td>0.4</td>\n",
       "      <td>0.0</td>\n",
       "      <td>0.6</td>\n",
       "      <td>0.666667</td>\n",
       "      <td>1.0</td>\n",
       "      <td>0.333333</td>\n",
       "      <td>0.272727</td>\n",
       "      <td>0.5</td>\n",
       "    </tr>\n",
       "    <tr>\n",
       "      <th>1</th>\n",
       "      <td>0.0</td>\n",
       "      <td>0.8</td>\n",
       "      <td>0.4</td>\n",
       "      <td>0.000000</td>\n",
       "      <td>0.2</td>\n",
       "      <td>0.8</td>\n",
       "      <td>1.0</td>\n",
       "      <td>0.428571</td>\n",
       "      <td>0.0</td>\n",
       "      <td>0.4</td>\n",
       "      <td>0.0</td>\n",
       "      <td>0.6</td>\n",
       "      <td>0.666667</td>\n",
       "      <td>1.0</td>\n",
       "      <td>0.333333</td>\n",
       "      <td>0.272727</td>\n",
       "      <td>0.5</td>\n",
       "    </tr>\n",
       "    <tr>\n",
       "      <th>2</th>\n",
       "      <td>0.0</td>\n",
       "      <td>0.3</td>\n",
       "      <td>0.6</td>\n",
       "      <td>0.142857</td>\n",
       "      <td>0.2</td>\n",
       "      <td>0.8</td>\n",
       "      <td>0.0</td>\n",
       "      <td>0.428571</td>\n",
       "      <td>0.0</td>\n",
       "      <td>0.4</td>\n",
       "      <td>0.0</td>\n",
       "      <td>0.6</td>\n",
       "      <td>0.666667</td>\n",
       "      <td>1.0</td>\n",
       "      <td>0.333333</td>\n",
       "      <td>0.272727</td>\n",
       "      <td>0.5</td>\n",
       "    </tr>\n",
       "    <tr>\n",
       "      <th>3</th>\n",
       "      <td>0.0</td>\n",
       "      <td>0.3</td>\n",
       "      <td>0.6</td>\n",
       "      <td>0.142857</td>\n",
       "      <td>0.2</td>\n",
       "      <td>0.8</td>\n",
       "      <td>0.0</td>\n",
       "      <td>0.428571</td>\n",
       "      <td>0.0</td>\n",
       "      <td>0.4</td>\n",
       "      <td>0.0</td>\n",
       "      <td>0.6</td>\n",
       "      <td>0.666667</td>\n",
       "      <td>1.0</td>\n",
       "      <td>0.333333</td>\n",
       "      <td>0.272727</td>\n",
       "      <td>0.5</td>\n",
       "    </tr>\n",
       "    <tr>\n",
       "      <th>4</th>\n",
       "      <td>0.0</td>\n",
       "      <td>0.3</td>\n",
       "      <td>0.6</td>\n",
       "      <td>0.142857</td>\n",
       "      <td>0.2</td>\n",
       "      <td>0.6</td>\n",
       "      <td>1.0</td>\n",
       "      <td>0.428571</td>\n",
       "      <td>0.0</td>\n",
       "      <td>0.4</td>\n",
       "      <td>0.0</td>\n",
       "      <td>0.6</td>\n",
       "      <td>0.666667</td>\n",
       "      <td>1.0</td>\n",
       "      <td>0.333333</td>\n",
       "      <td>0.272727</td>\n",
       "      <td>0.5</td>\n",
       "    </tr>\n",
       "  </tbody>\n",
       "</table>\n",
       "</div>"
      ],
      "text/plain": [
       "   city  typeBuilding  title  styleAttach  cooling  basementType  \\\n",
       "0   0.0           0.3    0.6     0.428571      0.2           0.8   \n",
       "1   0.0           0.8    0.4     0.000000      0.2           0.8   \n",
       "2   0.0           0.3    0.6     0.142857      0.2           0.8   \n",
       "3   0.0           0.3    0.6     0.142857      0.2           0.8   \n",
       "4   0.0           0.3    0.6     0.142857      0.2           0.6   \n",
       "\n",
       "   basementFinish  heatingType1  heatingType2  heatingEnergy1  heatingEnergy2  \\\n",
       "0             0.0      0.428571           0.0             0.4             0.0   \n",
       "1             1.0      0.428571           0.0             0.4             0.0   \n",
       "2             0.0      0.428571           0.0             0.4             0.0   \n",
       "3             0.0      0.428571           0.0             0.4             0.0   \n",
       "4             1.0      0.428571           0.0             0.4             0.0   \n",
       "\n",
       "   featureLotSlope  featureDriveway  featureLotPositionType  \\\n",
       "0              0.6         0.666667                     1.0   \n",
       "1              0.6         0.666667                     1.0   \n",
       "2              0.6         0.666667                     1.0   \n",
       "3              0.6         0.666667                     1.0   \n",
       "4              0.6         0.666667                     1.0   \n",
       "\n",
       "   featureOutdoorAreaType  featureOutdoorLandscape  featureAdditionalFacility  \n",
       "0                0.333333                 0.272727                        0.5  \n",
       "1                0.333333                 0.272727                        0.5  \n",
       "2                0.333333                 0.272727                        0.5  \n",
       "3                0.333333                 0.272727                        0.5  \n",
       "4                0.333333                 0.272727                        0.5  "
      ]
     },
     "execution_count": 48,
     "metadata": {},
     "output_type": "execute_result"
    }
   ],
   "source": [
    "from sklearn.model_selection import train_test_split\n",
    "from sklearn.preprocessing import MinMaxScaler\n",
    "\n",
    "## Use numerical, boolean, categorical (excluding description) data to predict\n",
    "\n",
    "X_all_exdesc = pd.concat([X_num, X_boo, X_category], axis=1)\n",
    "X_all_exdesc.head()\n",
    "\n",
    "## divide dataset\n",
    "\n",
    "X_train, X_test, y_train, y_test = train_test_split(\n",
    "    X_all_exdesc, labels_price, test_size=0.1, random_state=13) \n",
    "\n",
    "X_train = np.asarray(X_train).astype(np.float32)\n",
    "X_test = np.asarray(X_test).astype(np.float32)\n",
    "\n",
    "# recaling the variables (both)\n",
    "X_category_columns = X_category.columns\n",
    "scaler = MinMaxScaler()\n",
    "X_category = scaler.fit_transform(X_category)\n",
    "\n",
    "# rename columns (since now its an np array)\n",
    "X_category = pd.DataFrame(X_category)\n",
    "X_category.columns = X_category_columns\n",
    "\n",
    "X_category.head()"
   ]
  },
  {
   "cell_type": "markdown",
   "id": "ad331add",
   "metadata": {},
   "source": [
    "## Build model for non-description data"
   ]
  },
  {
   "cell_type": "markdown",
   "id": "a0d5bb76",
   "metadata": {},
   "source": [
    "## Use numerical, boolean, categorical (excluding description) data to predict"
   ]
  },
  {
   "cell_type": "code",
   "execution_count": null,
   "id": "cee9f08d",
   "metadata": {
    "scrolled": false
   },
   "outputs": [],
   "source": [
    "X_all_exdesc = pd.concat([X_num, X_boo, X_category], axis=1)\n",
    "X_all_exdesc.head()"
   ]
  },
  {
   "cell_type": "markdown",
   "id": "8bc99566",
   "metadata": {},
   "source": [
    "## divide dataset for non-description data"
   ]
  },
  {
   "cell_type": "code",
   "execution_count": null,
   "id": "c3ed7150",
   "metadata": {},
   "outputs": [],
   "source": [
    "from sklearn.model_selection import train_test_split\n",
    "X_train, X_test, y_train, y_test = train_test_split(X_all_exdesc, labels_price, test_size=0.1, random_state=13) "
   ]
  },
  {
   "cell_type": "code",
   "execution_count": null,
   "id": "6d0d9798",
   "metadata": {},
   "outputs": [],
   "source": [
    "X_train = np.asarray(X_train).astype(np.float32)\n",
    "X_test = np.asarray(X_test).astype(np.float32)"
   ]
  },
  {
   "cell_type": "markdown",
   "id": "509f0e9a",
   "metadata": {},
   "source": [
    "### Build gradient boosting model"
   ]
  },
  {
   "cell_type": "code",
   "execution_count": null,
   "id": "06ac0d2d",
   "metadata": {},
   "outputs": [],
   "source": [
    "import numpy as np \n",
    "from sklearn import ensemble\n",
    "params = {'n_estimators': 500,\n",
    "          'max_depth': 6,\n",
    "          'learning_rate': 0.02,\n",
    "          'subsample': 0.8\n",
    "         }\n",
    "\n",
    "reg = ensemble.GradientBoostingRegressor(**params)\n",
    "y_train_flat=np.ravel(y_train)\n",
    "reg.fit(X_train, y_train_flat)"
   ]
  },
  {
   "cell_type": "markdown",
   "id": "d1aee80b",
   "metadata": {},
   "source": [
    "## Training R2 and RMSE"
   ]
  },
  {
   "cell_type": "code",
   "execution_count": null,
   "id": "8c2f173e",
   "metadata": {},
   "outputs": [],
   "source": [
    "y_train_pred=reg.predict(X_train)"
   ]
  },
  {
   "cell_type": "code",
   "execution_count": null,
   "id": "cb791c65",
   "metadata": {},
   "outputs": [],
   "source": [
    "from sklearn.metrics import r2_score\n",
    "r2_train=r2_score(y_train, y_train_pred)\n",
    "print(r2_train)"
   ]
  },
  {
   "cell_type": "code",
   "execution_count": null,
   "id": "9dbbc066",
   "metadata": {},
   "outputs": [],
   "source": [
    "from sklearn.metrics import mean_squared_error\n",
    "rmse_train=mean_squared_error(y_train, y_train_pred, squared=False)\n",
    "print(rmse_train)"
   ]
  },
  {
   "cell_type": "markdown",
   "id": "cb0cc2d4",
   "metadata": {},
   "source": [
    "## Testing R2 and RMSE"
   ]
  },
  {
   "cell_type": "code",
   "execution_count": null,
   "id": "56dc70f6",
   "metadata": {},
   "outputs": [],
   "source": [
    "y_test_pred=reg.predict(X_test)"
   ]
  },
  {
   "cell_type": "code",
   "execution_count": null,
   "id": "933e894b",
   "metadata": {},
   "outputs": [],
   "source": [
    "r2_test=r2_score(y_test, y_test_pred)\n",
    "print(r2_test)"
   ]
  },
  {
   "cell_type": "code",
   "execution_count": null,
   "id": "23b9b486",
   "metadata": {
    "scrolled": false
   },
   "outputs": [],
   "source": [
    "rmse_test=mean_squared_error(y_test, y_test_pred, squared=False)\n",
    "print(rmse_test)"
   ]
  },
  {
   "cell_type": "markdown",
   "id": "8c37a4c5",
   "metadata": {},
   "source": [
    "## save the model to disk"
   ]
  },
  {
   "cell_type": "code",
   "execution_count": null,
   "id": "b33b40b9",
   "metadata": {},
   "outputs": [],
   "source": [
    "import pickle\n",
    "filename = 'finalized_model_non_description.sav'\n",
    "pickle.dump(reg, open(output_folder+\"/\"+filename, 'wb'))"
   ]
  },
  {
   "cell_type": "markdown",
   "id": "eace0ffe",
   "metadata": {},
   "source": [
    "## load the model from disk"
   ]
  },
  {
   "cell_type": "code",
   "execution_count": null,
   "id": "a926025f",
   "metadata": {
    "scrolled": true
   },
   "outputs": [],
   "source": [
    "loaded_model = pickle.load(open(output_folder+\"/\"+filename, 'rb'))\n",
    "y_test_pred = loaded_model.predict(X_test)\n",
    "r2_test=r2_score(y_test, y_test_pred)\n",
    "print(r2_test)"
   ]
  },
  {
   "cell_type": "markdown",
   "id": "8c78ce9c",
   "metadata": {},
   "source": [
    "## Build model for only description data "
   ]
  },
  {
   "cell_type": "markdown",
   "id": "debbac5b",
   "metadata": {},
   "source": [
    "## Word2Vec"
   ]
  },
  {
   "cell_type": "markdown",
   "id": "c54db82d",
   "metadata": {},
   "source": [
    "## read lemmatized data"
   ]
  },
  {
   "cell_type": "code",
   "execution_count": 49,
   "id": "ea59b16f",
   "metadata": {},
   "outputs": [],
   "source": [
    "df=pd.read_csv(output_folder+\"/\"+\"all_after_preprocessingLem.csv\")"
   ]
  },
  {
   "cell_type": "code",
   "execution_count": 50,
   "id": "e30024ab",
   "metadata": {},
   "outputs": [],
   "source": [
    "df['description'] = df['description'].astype(str)"
   ]
  },
  {
   "cell_type": "markdown",
   "id": "2b09322e",
   "metadata": {},
   "source": [
    "## Train the word2vec using description data"
   ]
  },
  {
   "cell_type": "markdown",
   "id": "a8ae5d0f",
   "metadata": {},
   "source": [
    "## create list of sentences(sentence contain list of words)"
   ]
  },
  {
   "cell_type": "code",
   "execution_count": 51,
   "id": "d0544a3f",
   "metadata": {},
   "outputs": [],
   "source": [
    "import gensim\n",
    "corpus = df[\"description\"]\n",
    "\n",
    "## create list of lists of unigrams\n",
    "lst_corpus = []\n",
    "for string in corpus:\n",
    "    lst_words = string.split()\n",
    "    lst_grams = [\" \".join(lst_words[i:i+1]) \n",
    "               for i in range(0, len(lst_words), 1)]\n",
    "    lst_corpus.append(lst_grams)\n",
    "\n",
    "## detect bigrams and trigrams\n",
    "bigrams_detector = gensim.models.phrases.Phrases(lst_corpus, \n",
    "                 delimiter=\" \".encode(), min_count=5, threshold=10)\n",
    "bigrams_detector = gensim.models.phrases.Phraser(bigrams_detector)\n",
    "trigrams_detector = gensim.models.phrases.Phrases(bigrams_detector[lst_corpus], \n",
    "            delimiter=\" \".encode(), min_count=5, threshold=10)\n",
    "trigrams_detector = gensim.models.phrases.Phraser(trigrams_detector)\n"
   ]
  },
  {
   "cell_type": "markdown",
   "id": "90955416",
   "metadata": {},
   "source": [
    "## Load the self trained W2V model"
   ]
  },
  {
   "cell_type": "markdown",
   "id": "d6bb0bbb",
   "metadata": {
    "scrolled": false
   },
   "source": [
    "model.save(output_folder+\"/w2v.model\")"
   ]
  },
  {
   "cell_type": "code",
   "execution_count": 52,
   "id": "97c29a7b",
   "metadata": {
    "scrolled": false
   },
   "outputs": [
    {
     "name": "stderr",
     "output_type": "stream",
     "text": [
      "<ipython-input-52-76355c02a7f2>:5: DeprecationWarning: Call to deprecated `syn0` (Attribute will be removed in 4.0.0, use self.vectors instead).\n",
      "  w2v = dict(zip(model.wv.index2word, model.wv.syn0))\n"
     ]
    }
   ],
   "source": [
    "from gensim.models import Word2Vec\n",
    "# let X be a list of tokenized texts (i.e. list of lists of tokens)\n",
    "#model = gensim.models.Word2Vec(lst_corpus, size=300, window=8, min_count=1, sg=1, iter=30)\n",
    "model=Word2Vec.load(output_folder+\"/w2v.model\")\n",
    "w2v = dict(zip(model.wv.index2word, model.wv.syn0))"
   ]
  },
  {
   "cell_type": "markdown",
   "id": "4e7b1021",
   "metadata": {},
   "source": [
    "## define the word2vec vectorizer"
   ]
  },
  {
   "cell_type": "code",
   "execution_count": 53,
   "id": "6f6b8f1f",
   "metadata": {},
   "outputs": [],
   "source": [
    "class MeanEmbeddingVectorizer(object):\n",
    "    def __init__(self, word2vec):\n",
    "        self.word2vec = word2vec\n",
    "        # if a text is empty we should return a vector of zeros\n",
    "        # with the same dimensionality as all the other vectors\n",
    "        self.dim = len(next(iter(word2vec.values())))\n",
    "        \n",
    "\n",
    "    def fit(self, X, y):\n",
    "        return self\n",
    "\n",
    "    def transform(self, X):\n",
    "        return np.array([np.mean([self.word2vec[w] for w in words if w in self.word2vec] or [np.zeros(self.dim)], axis=0) for words in X])"
   ]
  },
  {
   "cell_type": "code",
   "execution_count": 54,
   "id": "5e9f5cea",
   "metadata": {
    "scrolled": false
   },
   "outputs": [
    {
     "data": {
      "text/plain": [
       "300"
      ]
     },
     "execution_count": 54,
     "metadata": {},
     "output_type": "execute_result"
    }
   ],
   "source": [
    "len(next(iter(w2v.values())))"
   ]
  },
  {
   "cell_type": "markdown",
   "id": "14a0e82d",
   "metadata": {},
   "source": [
    "## tokenize"
   ]
  },
  {
   "cell_type": "code",
   "execution_count": 55,
   "id": "a1d3eb7f",
   "metadata": {},
   "outputs": [],
   "source": [
    "from nltk.tokenize import RegexpTokenizer\n",
    "tokeniser = RegexpTokenizer(r'\\w+')\n",
    "df[\"description\"]=df[\"description\"].apply(lambda x: tokeniser.tokenize(x))"
   ]
  },
  {
   "cell_type": "markdown",
   "id": "7225836d",
   "metadata": {},
   "source": [
    "## divide dataset into training data and testing data"
   ]
  },
  {
   "cell_type": "code",
   "execution_count": 56,
   "id": "45790b90",
   "metadata": {},
   "outputs": [],
   "source": [
    "from sklearn.model_selection import train_test_split\n",
    "X_train, X_test, y_train, y_test = train_test_split(\n",
    "    df[\"description\"], labels_price, test_size=0.1, random_state=46) #random state=13 originally"
   ]
  },
  {
   "cell_type": "markdown",
   "id": "a6e8bab1",
   "metadata": {},
   "source": [
    "## transform word vectors"
   ]
  },
  {
   "cell_type": "code",
   "execution_count": 57,
   "id": "ba7c3856",
   "metadata": {
    "scrolled": true
   },
   "outputs": [],
   "source": [
    "MEV=MeanEmbeddingVectorizer(w2v)\n",
    "transformed_X_train=MEV.transform(X_train)\n",
    "transformed_X_test=MEV.transform(X_test)"
   ]
  },
  {
   "cell_type": "code",
   "execution_count": 58,
   "id": "b7d9612a",
   "metadata": {
    "scrolled": true
   },
   "outputs": [
    {
     "data": {
      "text/plain": [
       "(9225, 300)"
      ]
     },
     "execution_count": 58,
     "metadata": {},
     "output_type": "execute_result"
    }
   ],
   "source": [
    "transformed_X_train.shape"
   ]
  },
  {
   "cell_type": "markdown",
   "id": "e23ae00c",
   "metadata": {},
   "source": [
    "## Build DNN"
   ]
  },
  {
   "cell_type": "code",
   "execution_count": 59,
   "id": "2e4a451a",
   "metadata": {},
   "outputs": [],
   "source": [
    "import numpy\n",
    "from sklearn.model_selection import GridSearchCV\n",
    "from keras.models import Sequential\n",
    "from keras.layers import Dense\n",
    "from keras.layers import LSTM\n",
    "from keras.layers import Dropout\n",
    "from keras.optimizers import Adam\n",
    "from keras.wrappers.scikit_learn import KerasRegressor\n",
    "from keras.optimizers import SGD\n",
    "\n",
    "def create_model(learn_rate=0.0001, amsgrad=False, activation='relu', dropout_rate=0.2, neurons=100):\n",
    "    # create model\n",
    "    # The maximum number of words to be used. (most frequent)\n",
    "    #MAX_NB_WORDS = 50000\n",
    "    # embedding dimension\n",
    "    #EMBEDDING_DIM = 100\n",
    "    #model.add(Dense(1024, activation='relu', input_shape=(X_train.shape[1],)))\n",
    "    #model.add(Embedding(MAX_NB_WORDS, EMBEDDING_DIM, input_length=X.shape[1]))\n",
    "    #model.add(LSTM(50))\n",
    "\n",
    "    model = Sequential()\n",
    "    model.add(Dense(neurons, activation=activation)) #input_shape=(X_train.shape[1],), return_sequences = True\n",
    "    model.add(Dropout(dropout_rate))\n",
    "    model.add(Dense(neurons*2, activation=activation))\n",
    "    model.add(Dropout(dropout_rate/2))\n",
    "    model.add(Dense(neurons, activation=activation))\n",
    "\n",
    "    \n",
    "    model.add(Dense(1, activation='sigmoid')) #\n",
    "\n",
    "    # Compile model\n",
    "    optimizer = Adam(learning_rate=learn_rate, amsgrad=amsgrad)\n",
    "    model.compile(loss='mse', optimizer=optimizer, metrics=['mse'])\n",
    "    return model\n",
    "\n",
    "# fix random seed for reproducibility\n",
    "seed = 7\n",
    "numpy.random.seed(seed)\n",
    "\n",
    "# split into input (X) and output (Y) variables\n",
    "# create model\n",
    "model = KerasRegressor(build_fn=create_model, verbose=10) #epochs=75, batch_size=10, verbose=10)"
   ]
  },
  {
   "cell_type": "code",
   "execution_count": 60,
   "id": "f4a22972",
   "metadata": {
    "scrolled": true
   },
   "outputs": [
    {
     "name": "stdout",
     "output_type": "stream",
     "text": [
      "Epoch 1/100\n",
      "Epoch 2/100\n",
      "Epoch 3/100\n",
      "Epoch 4/100\n",
      "Epoch 5/100\n",
      "Epoch 6/100\n",
      "Epoch 7/100\n",
      "Epoch 8/100\n",
      "Epoch 9/100\n",
      "Epoch 10/100\n",
      "Epoch 11/100\n",
      "Epoch 12/100\n",
      "Epoch 13/100\n",
      "Epoch 14/100\n",
      "Epoch 15/100\n",
      "Epoch 16/100\n",
      "Epoch 17/100\n",
      "Epoch 18/100\n",
      "Epoch 19/100\n",
      "Epoch 20/100\n",
      "Epoch 21/100\n",
      "Epoch 22/100\n",
      "Epoch 23/100\n",
      "Epoch 24/100\n",
      "Epoch 25/100\n",
      "Epoch 26/100\n",
      "Epoch 27/100\n",
      "Epoch 28/100\n",
      "Epoch 29/100\n",
      "Epoch 30/100\n",
      "Epoch 31/100\n",
      "Epoch 32/100\n",
      "Epoch 33/100\n",
      "Epoch 34/100\n",
      "Epoch 35/100\n",
      "Epoch 36/100\n",
      "Epoch 37/100\n",
      "Epoch 38/100\n",
      "Epoch 39/100\n",
      "Epoch 40/100\n",
      "Epoch 41/100\n",
      "Epoch 42/100\n",
      "Epoch 43/100\n",
      "Epoch 44/100\n",
      "Epoch 45/100\n",
      "Epoch 46/100\n",
      "Epoch 47/100\n",
      "Epoch 48/100\n",
      "Epoch 49/100\n",
      "Epoch 50/100\n",
      "Epoch 51/100\n",
      "Epoch 52/100\n",
      "Epoch 53/100\n",
      "Epoch 54/100\n",
      "Epoch 55/100\n",
      "Epoch 56/100\n",
      "Epoch 57/100\n",
      "Epoch 58/100\n",
      "Epoch 59/100\n",
      "Epoch 60/100\n",
      "Epoch 61/100\n",
      "Epoch 62/100\n",
      "Epoch 63/100\n",
      "Epoch 64/100\n",
      "Epoch 65/100\n",
      "Epoch 66/100\n",
      "Epoch 67/100\n",
      "Epoch 68/100\n",
      "Epoch 69/100\n",
      "Epoch 70/100\n",
      "Epoch 71/100\n",
      "Epoch 72/100\n",
      "Epoch 73/100\n",
      "Epoch 74/100\n",
      "Epoch 75/100\n",
      "Epoch 76/100\n",
      "Epoch 77/100\n",
      "Epoch 78/100\n",
      "Epoch 79/100\n",
      "Epoch 80/100\n",
      "Epoch 81/100\n",
      "Epoch 82/100\n",
      "Epoch 83/100\n",
      "Epoch 84/100\n",
      "Epoch 85/100\n",
      "Epoch 86/100\n",
      "Epoch 87/100\n",
      "Epoch 88/100\n",
      "Epoch 89/100\n",
      "Epoch 90/100\n",
      "Epoch 91/100\n",
      "Epoch 92/100\n",
      "Epoch 93/100\n",
      "Epoch 94/100\n",
      "Epoch 95/100\n",
      "Epoch 96/100\n",
      "Epoch 97/100\n",
      "Epoch 98/100\n",
      "Epoch 99/100\n",
      "Epoch 100/100\n"
     ]
    },
    {
     "data": {
      "text/plain": [
       "<tensorflow.python.keras.callbacks.History at 0x1710f1dd250>"
      ]
     },
     "execution_count": 60,
     "metadata": {},
     "output_type": "execute_result"
    }
   ],
   "source": [
    "model.fit(transformed_X_train, y_train, batch_size=10, epochs=100)"
   ]
  },
  {
   "cell_type": "markdown",
   "id": "28f89309",
   "metadata": {},
   "source": [
    "## Training R2 and RMSE"
   ]
  },
  {
   "cell_type": "code",
   "execution_count": 61,
   "id": "d0c953b2",
   "metadata": {},
   "outputs": [],
   "source": [
    "y_train_pred=model.predict(transformed_X_train)"
   ]
  },
  {
   "cell_type": "code",
   "execution_count": 62,
   "id": "dd1ffc0f",
   "metadata": {},
   "outputs": [
    {
     "name": "stdout",
     "output_type": "stream",
     "text": [
      "0.8662024124079234\n"
     ]
    }
   ],
   "source": [
    "from sklearn.metrics import r2_score\n",
    "r2_train=r2_score(y_train, y_train_pred)\n",
    "print(r2_train)"
   ]
  },
  {
   "cell_type": "code",
   "execution_count": 63,
   "id": "a10ad5a6",
   "metadata": {},
   "outputs": [
    {
     "name": "stdout",
     "output_type": "stream",
     "text": [
      "0.013087449200821112\n"
     ]
    }
   ],
   "source": [
    "from sklearn.metrics import mean_squared_error\n",
    "rmse_train=mean_squared_error(y_train, y_train_pred, squared=False)\n",
    "print(rmse_train)"
   ]
  },
  {
   "cell_type": "markdown",
   "id": "12519117",
   "metadata": {},
   "source": [
    "## Testing R2 and RMSE"
   ]
  },
  {
   "cell_type": "code",
   "execution_count": 64,
   "id": "670fb475",
   "metadata": {},
   "outputs": [],
   "source": [
    "y_test_pred=model.predict(transformed_X_test)"
   ]
  },
  {
   "cell_type": "code",
   "execution_count": 65,
   "id": "c6ca37e4",
   "metadata": {
    "scrolled": false
   },
   "outputs": [
    {
     "name": "stdout",
     "output_type": "stream",
     "text": [
      "0.7904129449780334\n"
     ]
    }
   ],
   "source": [
    "r2_test=r2_score(y_test, y_test_pred)\n",
    "print(r2_test)"
   ]
  },
  {
   "cell_type": "code",
   "execution_count": 66,
   "id": "b05b29e0",
   "metadata": {
    "scrolled": false
   },
   "outputs": [
    {
     "name": "stdout",
     "output_type": "stream",
     "text": [
      "0.02379004585625523\n"
     ]
    }
   ],
   "source": [
    "rmse_test=mean_squared_error(y_test, y_test_pred, squared=False)\n",
    "print(rmse_test)"
   ]
  },
  {
   "cell_type": "markdown",
   "id": "acc6771c",
   "metadata": {},
   "source": [
    "## Save model"
   ]
  },
  {
   "cell_type": "code",
   "execution_count": 67,
   "id": "753f5cab",
   "metadata": {},
   "outputs": [],
   "source": [
    "model.model.save(output_folder+\"/\"+\"finalized_model_description_only.h5\")"
   ]
  },
  {
   "cell_type": "code",
   "execution_count": 68,
   "id": "5b70313e",
   "metadata": {},
   "outputs": [
    {
     "name": "stdout",
     "output_type": "stream",
     "text": [
      "0.7904129449780334\n"
     ]
    }
   ],
   "source": [
    "## load the model and see if it is correct\n",
    "from keras.models import load_model\n",
    "model2 = load_model(output_folder+\"/\"+'finalized_model_description_only.h5')\n",
    "y_test_pred=model2.predict(transformed_X_test)\n",
    "r2_test=r2_score(y_test, y_test_pred)\n",
    "print(r2_test)"
   ]
  },
  {
   "cell_type": "markdown",
   "id": "43d24486",
   "metadata": {},
   "source": [
    "## Build model with all features as input"
   ]
  },
  {
   "cell_type": "markdown",
   "id": "858b43df",
   "metadata": {},
   "source": [
    "## TF-IDF"
   ]
  },
  {
   "cell_type": "code",
   "execution_count": 94,
   "id": "e2f577f2",
   "metadata": {},
   "outputs": [],
   "source": [
    "df=pd.read_csv(output_folder+\"/all_after_preprocessingStopwords.csv\")"
   ]
  },
  {
   "cell_type": "code",
   "execution_count": 95,
   "id": "20682fab",
   "metadata": {
    "scrolled": false
   },
   "outputs": [
    {
     "data": {
      "text/html": [
       "<div>\n",
       "<style scoped>\n",
       "    .dataframe tbody tr th:only-of-type {\n",
       "        vertical-align: middle;\n",
       "    }\n",
       "\n",
       "    .dataframe tbody tr th {\n",
       "        vertical-align: top;\n",
       "    }\n",
       "\n",
       "    .dataframe thead th {\n",
       "        text-align: right;\n",
       "    }\n",
       "</style>\n",
       "<table border=\"1\" class=\"dataframe\">\n",
       "  <thead>\n",
       "    <tr style=\"text-align: right;\">\n",
       "      <th></th>\n",
       "      <th>MLS</th>\n",
       "      <th>price</th>\n",
       "      <th>city</th>\n",
       "      <th>communityName</th>\n",
       "      <th>address</th>\n",
       "      <th>postal</th>\n",
       "      <th>description</th>\n",
       "      <th>typeBuilding</th>\n",
       "      <th>title</th>\n",
       "      <th>bedroomAboveGrade</th>\n",
       "      <th>...</th>\n",
       "      <th>PlaygroundNearby</th>\n",
       "      <th>ShoppingNearby</th>\n",
       "      <th>PublicTransitNearby</th>\n",
       "      <th>HighwayNearby</th>\n",
       "      <th>bedroom</th>\n",
       "      <th>bathroom</th>\n",
       "      <th>longitude</th>\n",
       "      <th>latitude</th>\n",
       "      <th>misterious_number</th>\n",
       "      <th>total_words</th>\n",
       "    </tr>\n",
       "  </thead>\n",
       "  <tbody>\n",
       "    <tr>\n",
       "      <th>0</th>\n",
       "      <td>W5238356</td>\n",
       "      <td>958800</td>\n",
       "      <td>Brampton</td>\n",
       "      <td>Sandringham-Wellington</td>\n",
       "      <td>232 BRUSSELS AVEBrampton</td>\n",
       "      <td>L6Z0G1</td>\n",
       "      <td>beautiful bright spacious home heart lake comm...</td>\n",
       "      <td>House</td>\n",
       "      <td>Freehold</td>\n",
       "      <td>4</td>\n",
       "      <td>...</td>\n",
       "      <td>False</td>\n",
       "      <td>False</td>\n",
       "      <td>True</td>\n",
       "      <td>False</td>\n",
       "      <td>5</td>\n",
       "      <td>4.0</td>\n",
       "      <td>-79.7953</td>\n",
       "      <td>43.7328</td>\n",
       "      <td>28454310</td>\n",
       "      <td>117</td>\n",
       "    </tr>\n",
       "    <tr>\n",
       "      <th>1</th>\n",
       "      <td>W5226917</td>\n",
       "      <td>970000</td>\n",
       "      <td>Brampton</td>\n",
       "      <td>Downtown Brampton</td>\n",
       "      <td>#LOT 12 -57 MCMURCHY AVE SBrampton</td>\n",
       "      <td>L6Y1Y6</td>\n",
       "      <td>assignment sunfield community ridgehill town l...</td>\n",
       "      <td>Row / Townhouse</td>\n",
       "      <td>Condominium</td>\n",
       "      <td>3</td>\n",
       "      <td>...</td>\n",
       "      <td>False</td>\n",
       "      <td>False</td>\n",
       "      <td>True</td>\n",
       "      <td>False</td>\n",
       "      <td>3</td>\n",
       "      <td>4.0</td>\n",
       "      <td>-79.7876</td>\n",
       "      <td>43.6249</td>\n",
       "      <td>28404652</td>\n",
       "      <td>91</td>\n",
       "    </tr>\n",
       "    <tr>\n",
       "      <th>2</th>\n",
       "      <td>W5226514</td>\n",
       "      <td>1249900</td>\n",
       "      <td>Brampton</td>\n",
       "      <td>Fletcher's Creek South</td>\n",
       "      <td>208 ROLLINGWOOD DRBrampton</td>\n",
       "      <td>L6Y5J6</td>\n",
       "      <td>border mississauga 4 detached house plus 3 wal...</td>\n",
       "      <td>House</td>\n",
       "      <td>Freehold</td>\n",
       "      <td>4</td>\n",
       "      <td>...</td>\n",
       "      <td>False</td>\n",
       "      <td>False</td>\n",
       "      <td>True</td>\n",
       "      <td>False</td>\n",
       "      <td>7</td>\n",
       "      <td>4.0</td>\n",
       "      <td>-79.7876</td>\n",
       "      <td>43.6249</td>\n",
       "      <td>28403072</td>\n",
       "      <td>89</td>\n",
       "    </tr>\n",
       "    <tr>\n",
       "      <th>3</th>\n",
       "      <td>W5234770</td>\n",
       "      <td>1249900</td>\n",
       "      <td>Brampton</td>\n",
       "      <td>Fletcher's West</td>\n",
       "      <td>92 MOFFATT AVEBrampton</td>\n",
       "      <td>L6Y4K8</td>\n",
       "      <td>premium corner lot 4 plus 2 finished legal bas...</td>\n",
       "      <td>House</td>\n",
       "      <td>Freehold</td>\n",
       "      <td>4</td>\n",
       "      <td>...</td>\n",
       "      <td>False</td>\n",
       "      <td>False</td>\n",
       "      <td>True</td>\n",
       "      <td>False</td>\n",
       "      <td>6</td>\n",
       "      <td>4.0</td>\n",
       "      <td>-79.7876</td>\n",
       "      <td>43.6249</td>\n",
       "      <td>28439785</td>\n",
       "      <td>73</td>\n",
       "    </tr>\n",
       "    <tr>\n",
       "      <th>4</th>\n",
       "      <td>W5234047</td>\n",
       "      <td>1249900</td>\n",
       "      <td>Brampton</td>\n",
       "      <td>Fletcher's West</td>\n",
       "      <td>85 WHITE TAIL CRESBrampton</td>\n",
       "      <td>L6Y5C1</td>\n",
       "      <td>beautiful detached house 4 4 separate main flo...</td>\n",
       "      <td>House</td>\n",
       "      <td>Freehold</td>\n",
       "      <td>4</td>\n",
       "      <td>...</td>\n",
       "      <td>False</td>\n",
       "      <td>False</td>\n",
       "      <td>False</td>\n",
       "      <td>False</td>\n",
       "      <td>4</td>\n",
       "      <td>4.0</td>\n",
       "      <td>-79.7876</td>\n",
       "      <td>43.6249</td>\n",
       "      <td>28434998</td>\n",
       "      <td>76</td>\n",
       "    </tr>\n",
       "  </tbody>\n",
       "</table>\n",
       "<p>5 rows × 96 columns</p>\n",
       "</div>"
      ],
      "text/plain": [
       "        MLS    price      city           communityName  \\\n",
       "0  W5238356   958800  Brampton  Sandringham-Wellington   \n",
       "1  W5226917   970000  Brampton       Downtown Brampton   \n",
       "2  W5226514  1249900  Brampton  Fletcher's Creek South   \n",
       "3  W5234770  1249900  Brampton         Fletcher's West   \n",
       "4  W5234047  1249900  Brampton         Fletcher's West   \n",
       "\n",
       "                              address  postal  \\\n",
       "0            232 BRUSSELS AVEBrampton  L6Z0G1   \n",
       "1  #LOT 12 -57 MCMURCHY AVE SBrampton  L6Y1Y6   \n",
       "2          208 ROLLINGWOOD DRBrampton  L6Y5J6   \n",
       "3              92 MOFFATT AVEBrampton  L6Y4K8   \n",
       "4          85 WHITE TAIL CRESBrampton  L6Y5C1   \n",
       "\n",
       "                                         description     typeBuilding  \\\n",
       "0  beautiful bright spacious home heart lake comm...            House   \n",
       "1  assignment sunfield community ridgehill town l...  Row / Townhouse   \n",
       "2  border mississauga 4 detached house plus 3 wal...            House   \n",
       "3  premium corner lot 4 plus 2 finished legal bas...            House   \n",
       "4  beautiful detached house 4 4 separate main flo...            House   \n",
       "\n",
       "         title  bedroomAboveGrade  ...  PlaygroundNearby  ShoppingNearby  \\\n",
       "0     Freehold                  4  ...             False           False   \n",
       "1  Condominium                  3  ...             False           False   \n",
       "2     Freehold                  4  ...             False           False   \n",
       "3     Freehold                  4  ...             False           False   \n",
       "4     Freehold                  4  ...             False           False   \n",
       "\n",
       "   PublicTransitNearby  HighwayNearby  bedroom bathroom  longitude latitude  \\\n",
       "0                 True          False        5      4.0   -79.7953  43.7328   \n",
       "1                 True          False        3      4.0   -79.7876  43.6249   \n",
       "2                 True          False        7      4.0   -79.7876  43.6249   \n",
       "3                 True          False        6      4.0   -79.7876  43.6249   \n",
       "4                False          False        4      4.0   -79.7876  43.6249   \n",
       "\n",
       "  misterious_number  total_words  \n",
       "0          28454310          117  \n",
       "1          28404652           91  \n",
       "2          28403072           89  \n",
       "3          28439785           73  \n",
       "4          28434998           76  \n",
       "\n",
       "[5 rows x 96 columns]"
      ]
     },
     "execution_count": 95,
     "metadata": {},
     "output_type": "execute_result"
    }
   ],
   "source": [
    "df.head()"
   ]
  },
  {
   "cell_type": "code",
   "execution_count": 96,
   "id": "a6a0e9c9",
   "metadata": {},
   "outputs": [],
   "source": [
    "df['description'] = df['description'].astype(str)"
   ]
  },
  {
   "cell_type": "markdown",
   "id": "1ac73f3e",
   "metadata": {},
   "source": [
    "## TF-IDF Vectorization"
   ]
  },
  {
   "cell_type": "code",
   "execution_count": 97,
   "id": "b986cb25",
   "metadata": {},
   "outputs": [],
   "source": [
    "# Create an instance of TfidfVectorizer\n",
    "# ngram_range: (1,3) from 1-gram to 3-gram are included\n",
    "# min_df = the smallest number of rows that the word has occured in for the word to be included\n",
    "# min_df = the largest number of rows that the word has occured in for the word to be included\n",
    "from sklearn.feature_extraction.text import TfidfVectorizer\n",
    "#consider only unigram\n",
    "vectoriser = TfidfVectorizer(analyzer='word', min_df=0.03, max_df=0.95) # ngram_range=(1,3),"
   ]
  },
  {
   "cell_type": "code",
   "execution_count": 98,
   "id": "c8596b81",
   "metadata": {},
   "outputs": [],
   "source": [
    "# Fit to the data and transform to feature matrix\n",
    "# just check the first 5 rows\n",
    "vectors = vectoriser.fit_transform(df['description'])"
   ]
  },
  {
   "cell_type": "code",
   "execution_count": 99,
   "id": "91c32db4",
   "metadata": {},
   "outputs": [],
   "source": [
    "feature_names = vectoriser.get_feature_names()\n",
    "dense = vectors.todense()\n",
    "denselist = dense.tolist()\n",
    "df_desc = pd.DataFrame(denselist, columns=feature_names)\n"
   ]
  },
  {
   "cell_type": "code",
   "execution_count": 100,
   "id": "b29183ce",
   "metadata": {},
   "outputs": [
    {
     "data": {
      "text/html": [
       "<div>\n",
       "<style scoped>\n",
       "    .dataframe tbody tr th:only-of-type {\n",
       "        vertical-align: middle;\n",
       "    }\n",
       "\n",
       "    .dataframe tbody tr th {\n",
       "        vertical-align: top;\n",
       "    }\n",
       "\n",
       "    .dataframe thead th {\n",
       "        text-align: right;\n",
       "    }\n",
       "</style>\n",
       "<table border=\"1\" class=\"dataframe\">\n",
       "  <thead>\n",
       "    <tr style=\"text-align: right;\">\n",
       "      <th></th>\n",
       "      <th>10</th>\n",
       "      <th>20</th>\n",
       "      <th>2018</th>\n",
       "      <th>2019</th>\n",
       "      <th>2020</th>\n",
       "      <th>2021</th>\n",
       "      <th>24</th>\n",
       "      <th>401</th>\n",
       "      <th>access</th>\n",
       "      <th>across</th>\n",
       "      <th>...</th>\n",
       "      <th>wide</th>\n",
       "      <th>window</th>\n",
       "      <th>wine</th>\n",
       "      <th>within</th>\n",
       "      <th>wood</th>\n",
       "      <th>work</th>\n",
       "      <th>yard</th>\n",
       "      <th>year</th>\n",
       "      <th>yonge</th>\n",
       "      <th>york</th>\n",
       "    </tr>\n",
       "  </thead>\n",
       "  <tbody>\n",
       "    <tr>\n",
       "      <th>0</th>\n",
       "      <td>0.0</td>\n",
       "      <td>0.0</td>\n",
       "      <td>0.0</td>\n",
       "      <td>0.0</td>\n",
       "      <td>0.0</td>\n",
       "      <td>0.0</td>\n",
       "      <td>0.0</td>\n",
       "      <td>0.000000</td>\n",
       "      <td>0.0</td>\n",
       "      <td>0.0</td>\n",
       "      <td>...</td>\n",
       "      <td>0.0</td>\n",
       "      <td>0.000000</td>\n",
       "      <td>0.0</td>\n",
       "      <td>0.0</td>\n",
       "      <td>0.0</td>\n",
       "      <td>0.0</td>\n",
       "      <td>0.0</td>\n",
       "      <td>0.000000</td>\n",
       "      <td>0.0</td>\n",
       "      <td>0.0</td>\n",
       "    </tr>\n",
       "    <tr>\n",
       "      <th>1</th>\n",
       "      <td>0.0</td>\n",
       "      <td>0.0</td>\n",
       "      <td>0.0</td>\n",
       "      <td>0.0</td>\n",
       "      <td>0.0</td>\n",
       "      <td>0.0</td>\n",
       "      <td>0.0</td>\n",
       "      <td>0.000000</td>\n",
       "      <td>0.0</td>\n",
       "      <td>0.0</td>\n",
       "      <td>...</td>\n",
       "      <td>0.0</td>\n",
       "      <td>0.000000</td>\n",
       "      <td>0.0</td>\n",
       "      <td>0.0</td>\n",
       "      <td>0.0</td>\n",
       "      <td>0.0</td>\n",
       "      <td>0.0</td>\n",
       "      <td>0.000000</td>\n",
       "      <td>0.0</td>\n",
       "      <td>0.0</td>\n",
       "    </tr>\n",
       "    <tr>\n",
       "      <th>2</th>\n",
       "      <td>0.0</td>\n",
       "      <td>0.0</td>\n",
       "      <td>0.0</td>\n",
       "      <td>0.0</td>\n",
       "      <td>0.0</td>\n",
       "      <td>0.0</td>\n",
       "      <td>0.0</td>\n",
       "      <td>0.157224</td>\n",
       "      <td>0.0</td>\n",
       "      <td>0.0</td>\n",
       "      <td>...</td>\n",
       "      <td>0.0</td>\n",
       "      <td>0.077763</td>\n",
       "      <td>0.0</td>\n",
       "      <td>0.0</td>\n",
       "      <td>0.0</td>\n",
       "      <td>0.0</td>\n",
       "      <td>0.0</td>\n",
       "      <td>0.344994</td>\n",
       "      <td>0.0</td>\n",
       "      <td>0.0</td>\n",
       "    </tr>\n",
       "    <tr>\n",
       "      <th>3</th>\n",
       "      <td>0.0</td>\n",
       "      <td>0.0</td>\n",
       "      <td>0.0</td>\n",
       "      <td>0.0</td>\n",
       "      <td>0.0</td>\n",
       "      <td>0.0</td>\n",
       "      <td>0.0</td>\n",
       "      <td>0.000000</td>\n",
       "      <td>0.0</td>\n",
       "      <td>0.0</td>\n",
       "      <td>...</td>\n",
       "      <td>0.0</td>\n",
       "      <td>0.000000</td>\n",
       "      <td>0.0</td>\n",
       "      <td>0.0</td>\n",
       "      <td>0.0</td>\n",
       "      <td>0.0</td>\n",
       "      <td>0.0</td>\n",
       "      <td>0.000000</td>\n",
       "      <td>0.0</td>\n",
       "      <td>0.0</td>\n",
       "    </tr>\n",
       "    <tr>\n",
       "      <th>4</th>\n",
       "      <td>0.0</td>\n",
       "      <td>0.0</td>\n",
       "      <td>0.0</td>\n",
       "      <td>0.0</td>\n",
       "      <td>0.0</td>\n",
       "      <td>0.0</td>\n",
       "      <td>0.0</td>\n",
       "      <td>0.000000</td>\n",
       "      <td>0.0</td>\n",
       "      <td>0.0</td>\n",
       "      <td>...</td>\n",
       "      <td>0.0</td>\n",
       "      <td>0.085280</td>\n",
       "      <td>0.0</td>\n",
       "      <td>0.0</td>\n",
       "      <td>0.0</td>\n",
       "      <td>0.0</td>\n",
       "      <td>0.0</td>\n",
       "      <td>0.000000</td>\n",
       "      <td>0.0</td>\n",
       "      <td>0.0</td>\n",
       "    </tr>\n",
       "  </tbody>\n",
       "</table>\n",
       "<p>5 rows × 412 columns</p>\n",
       "</div>"
      ],
      "text/plain": [
       "    10   20  2018  2019  2020  2021   24       401  access  across  ...  wide  \\\n",
       "0  0.0  0.0   0.0   0.0   0.0   0.0  0.0  0.000000     0.0     0.0  ...   0.0   \n",
       "1  0.0  0.0   0.0   0.0   0.0   0.0  0.0  0.000000     0.0     0.0  ...   0.0   \n",
       "2  0.0  0.0   0.0   0.0   0.0   0.0  0.0  0.157224     0.0     0.0  ...   0.0   \n",
       "3  0.0  0.0   0.0   0.0   0.0   0.0  0.0  0.000000     0.0     0.0  ...   0.0   \n",
       "4  0.0  0.0   0.0   0.0   0.0   0.0  0.0  0.000000     0.0     0.0  ...   0.0   \n",
       "\n",
       "     window  wine  within  wood  work  yard      year  yonge  york  \n",
       "0  0.000000   0.0     0.0   0.0   0.0   0.0  0.000000    0.0   0.0  \n",
       "1  0.000000   0.0     0.0   0.0   0.0   0.0  0.000000    0.0   0.0  \n",
       "2  0.077763   0.0     0.0   0.0   0.0   0.0  0.344994    0.0   0.0  \n",
       "3  0.000000   0.0     0.0   0.0   0.0   0.0  0.000000    0.0   0.0  \n",
       "4  0.085280   0.0     0.0   0.0   0.0   0.0  0.000000    0.0   0.0  \n",
       "\n",
       "[5 rows x 412 columns]"
      ]
     },
     "execution_count": 100,
     "metadata": {},
     "output_type": "execute_result"
    }
   ],
   "source": [
    "df_desc.head()"
   ]
  },
  {
   "cell_type": "markdown",
   "id": "a99742bd",
   "metadata": {},
   "source": [
    "## process all the features"
   ]
  },
  {
   "cell_type": "markdown",
   "id": "01ebe8d2",
   "metadata": {},
   "source": [
    "## numerical features"
   ]
  },
  {
   "cell_type": "code",
   "execution_count": 101,
   "id": "741df13b",
   "metadata": {},
   "outputs": [],
   "source": [
    "numerical_features=[\"bedroom\",\"bedroomAboveGrade\",\"bedroomBelowGrade\",\"bathroom\", \"bathroomTotal\",\"bathroomPartial\", \"totalParkingSpaces\", \"storeys\", \"maintenanceFees\",  'landSize', 'longitude', \"latitude\"]"
   ]
  },
  {
   "cell_type": "code",
   "execution_count": 102,
   "id": "ef128752",
   "metadata": {},
   "outputs": [
    {
     "data": {
      "text/html": [
       "<div>\n",
       "<style scoped>\n",
       "    .dataframe tbody tr th:only-of-type {\n",
       "        vertical-align: middle;\n",
       "    }\n",
       "\n",
       "    .dataframe tbody tr th {\n",
       "        vertical-align: top;\n",
       "    }\n",
       "\n",
       "    .dataframe thead th {\n",
       "        text-align: right;\n",
       "    }\n",
       "</style>\n",
       "<table border=\"1\" class=\"dataframe\">\n",
       "  <thead>\n",
       "    <tr style=\"text-align: right;\">\n",
       "      <th></th>\n",
       "      <th>bedroom</th>\n",
       "      <th>bedroomAboveGrade</th>\n",
       "      <th>bedroomBelowGrade</th>\n",
       "      <th>bathroom</th>\n",
       "      <th>bathroomTotal</th>\n",
       "      <th>bathroomPartial</th>\n",
       "      <th>totalParkingSpaces</th>\n",
       "      <th>storeys</th>\n",
       "      <th>maintenanceFees</th>\n",
       "      <th>landSize</th>\n",
       "      <th>longitude</th>\n",
       "      <th>latitude</th>\n",
       "    </tr>\n",
       "  </thead>\n",
       "  <tbody>\n",
       "    <tr>\n",
       "      <th>0</th>\n",
       "      <td>5</td>\n",
       "      <td>4</td>\n",
       "      <td>1</td>\n",
       "      <td>4.0</td>\n",
       "      <td>4</td>\n",
       "      <td>0</td>\n",
       "      <td>4</td>\n",
       "      <td>2.0</td>\n",
       "      <td>670.51</td>\n",
       "      <td>2230.1475</td>\n",
       "      <td>-79.7953</td>\n",
       "      <td>43.7328</td>\n",
       "    </tr>\n",
       "    <tr>\n",
       "      <th>1</th>\n",
       "      <td>3</td>\n",
       "      <td>3</td>\n",
       "      <td>0</td>\n",
       "      <td>4.0</td>\n",
       "      <td>4</td>\n",
       "      <td>0</td>\n",
       "      <td>1</td>\n",
       "      <td>3.0</td>\n",
       "      <td>670.51</td>\n",
       "      <td>0.0000</td>\n",
       "      <td>-79.7876</td>\n",
       "      <td>43.6249</td>\n",
       "    </tr>\n",
       "    <tr>\n",
       "      <th>2</th>\n",
       "      <td>7</td>\n",
       "      <td>4</td>\n",
       "      <td>3</td>\n",
       "      <td>4.0</td>\n",
       "      <td>4</td>\n",
       "      <td>0</td>\n",
       "      <td>8</td>\n",
       "      <td>2.0</td>\n",
       "      <td>670.51</td>\n",
       "      <td>4620.0000</td>\n",
       "      <td>-79.7876</td>\n",
       "      <td>43.6249</td>\n",
       "    </tr>\n",
       "    <tr>\n",
       "      <th>3</th>\n",
       "      <td>6</td>\n",
       "      <td>4</td>\n",
       "      <td>2</td>\n",
       "      <td>4.0</td>\n",
       "      <td>4</td>\n",
       "      <td>0</td>\n",
       "      <td>4</td>\n",
       "      <td>2.0</td>\n",
       "      <td>670.51</td>\n",
       "      <td>5063.6808</td>\n",
       "      <td>-79.7876</td>\n",
       "      <td>43.6249</td>\n",
       "    </tr>\n",
       "    <tr>\n",
       "      <th>4</th>\n",
       "      <td>4</td>\n",
       "      <td>4</td>\n",
       "      <td>0</td>\n",
       "      <td>4.0</td>\n",
       "      <td>4</td>\n",
       "      <td>0</td>\n",
       "      <td>4</td>\n",
       "      <td>2.5</td>\n",
       "      <td>670.51</td>\n",
       "      <td>3169.0000</td>\n",
       "      <td>-79.7876</td>\n",
       "      <td>43.6249</td>\n",
       "    </tr>\n",
       "  </tbody>\n",
       "</table>\n",
       "</div>"
      ],
      "text/plain": [
       "   bedroom  bedroomAboveGrade  bedroomBelowGrade  bathroom  bathroomTotal  \\\n",
       "0        5                  4                  1       4.0              4   \n",
       "1        3                  3                  0       4.0              4   \n",
       "2        7                  4                  3       4.0              4   \n",
       "3        6                  4                  2       4.0              4   \n",
       "4        4                  4                  0       4.0              4   \n",
       "\n",
       "   bathroomPartial  totalParkingSpaces  storeys  maintenanceFees   landSize  \\\n",
       "0                0                   4      2.0           670.51  2230.1475   \n",
       "1                0                   1      3.0           670.51     0.0000   \n",
       "2                0                   8      2.0           670.51  4620.0000   \n",
       "3                0                   4      2.0           670.51  5063.6808   \n",
       "4                0                   4      2.5           670.51  3169.0000   \n",
       "\n",
       "   longitude  latitude  \n",
       "0   -79.7953   43.7328  \n",
       "1   -79.7876   43.6249  \n",
       "2   -79.7876   43.6249  \n",
       "3   -79.7876   43.6249  \n",
       "4   -79.7876   43.6249  "
      ]
     },
     "execution_count": 102,
     "metadata": {},
     "output_type": "execute_result"
    }
   ],
   "source": [
    "import pandas as pd\n",
    "import numpy as np\n",
    "from sklearn.feature_selection import SelectKBest\n",
    "from sklearn.feature_selection import chi2\n",
    "X_num=df[numerical_features]\n",
    "X_num.head()"
   ]
  },
  {
   "cell_type": "markdown",
   "id": "96e8ae04",
   "metadata": {},
   "source": [
    "## Normalization for numerical data (exclude longitude and latitude) using MinMaxScaler\n"
   ]
  },
  {
   "cell_type": "code",
   "execution_count": 103,
   "id": "6823f30f",
   "metadata": {},
   "outputs": [],
   "source": [
    "from sklearn.preprocessing import MinMaxScaler\n",
    "# recaling the variables (both)\n",
    "X_num_columns = X_num.columns\n",
    "scaler = MinMaxScaler()\n",
    "X_num = scaler.fit_transform(X_num)\n",
    "\n",
    "# rename columns (since now its an np array)\n",
    "X_num = pd.DataFrame(X_num)\n",
    "X_num.columns = X_num_columns\n",
    "\n"
   ]
  },
  {
   "cell_type": "markdown",
   "id": "242da97d",
   "metadata": {},
   "source": [
    "## Normalization for longitude and latitude sepeparately"
   ]
  },
  {
   "cell_type": "code",
   "execution_count": 104,
   "id": "615ebd17",
   "metadata": {},
   "outputs": [],
   "source": [
    "X_num.drop([\"longitude\", \"latitude\"], axis=1)\n",
    "normed_long= df[\"longitude\"] *0.01\n",
    "normed_lat= df[\"latitude\"] *0.01\n",
    "X_num=pd.concat([X_num, normed_long, normed_lat], axis=1)"
   ]
  },
  {
   "cell_type": "markdown",
   "id": "28cc2a1c",
   "metadata": {},
   "source": [
    "## Boolean features"
   ]
  },
  {
   "cell_type": "code",
   "execution_count": 105,
   "id": "c2970214",
   "metadata": {},
   "outputs": [],
   "source": [
    "boolean_features=['parkingAttachedGarage',\n",
    "       'parkingUnderground', 'parkingInsideEntry', 'parkingSurfaced',\n",
    "       'parkingOversize', 'parkingGravel', 'parkingGarage', 'parkingShared',\n",
    "       'parkingDetachedGarage', 'parkingCarport', 'parkingInterlocked',\n",
    "       'parkingVisitorParking','amenityClubhouse', 'amenityCarWash', 'amenityMusicRoom',\n",
    "       'amenityStorageLocker', 'amenitySauna', 'amenityPartyRoom',\n",
    "       'amenityRecreationCentre', 'amenityGuestSuite', 'amenityFurnished',\n",
    "       'amenityLaundryFacility', 'amenityExerciseCentre',\n",
    "       'amenityLaundryInSuite', 'amenitySecurity', 'amenityWhirlpool',\n",
    "       'efinishWood', 'efinishBrick', 'efinishHardboard', 'efinishWoodsiding',\n",
    "       'efinishLog', 'efinishMetal', 'efinishSteel', 'efinishStone',\n",
    "       'efinishWoodshingles', 'efinishStucco', 'efinishSiding',\n",
    "       'efinishConcrete', 'efinishShingles', 'efinishAluminumsiding',\n",
    "       'efinishCedarshingles', 'efinishVinyl', 'efinishVinylsiding',\n",
    "       'featurePetNotAllowed', 'AirportNearby',\n",
    "       'GolfNearby', 'MarinaNearby', 'ShoppingNearby', 'WaterNearby',\n",
    "       'WorshipPlaceNearby', 'RecreationNearby', 'PlaygroundNearby',\n",
    "       'PublicTransitNearby', 'ParkNearby', 'SchoolsNearby', 'HospitalNearby',\n",
    "       'HighwayNearby', 'SkiAreaNearby']\n",
    "\n",
    "X_boo=df[boolean_features]"
   ]
  },
  {
   "cell_type": "markdown",
   "id": "f1d12379",
   "metadata": {},
   "source": [
    "## Convert categorical data with string values into numerical values"
   ]
  },
  {
   "cell_type": "code",
   "execution_count": 106,
   "id": "8c1669de",
   "metadata": {},
   "outputs": [],
   "source": [
    "X_category=df[['city', 'typeBuilding', 'title', 'styleAttach', \n",
    "       'cooling', 'basementType', 'basementFinish',\n",
    "       'heatingType1', 'heatingType2', 'heatingEnergy1', 'heatingEnergy2', 'featureLotSlope', 'featureDriveway', 'featureLotPositionType',\n",
    "       'featureOutdoorAreaType', 'featureOutdoorLandscape',\n",
    "       'featureAdditionalFacility']]"
   ]
  },
  {
   "cell_type": "code",
   "execution_count": 107,
   "id": "bd5eb657",
   "metadata": {
    "scrolled": true
   },
   "outputs": [
    {
     "name": "stderr",
     "output_type": "stream",
     "text": [
      "<ipython-input-107-3a5b2f48f5f1>:6: SettingWithCopyWarning: \n",
      "A value is trying to be set on a copy of a slice from a DataFrame.\n",
      "Try using .loc[row_indexer,col_indexer] = value instead\n",
      "\n",
      "See the caveats in the documentation: https://pandas.pydata.org/pandas-docs/stable/user_guide/indexing.html#returning-a-view-versus-a-copy\n",
      "  X_category[col] = X_category[col].astype('category')\n",
      "<ipython-input-107-3a5b2f48f5f1>:7: SettingWithCopyWarning: \n",
      "A value is trying to be set on a copy of a slice from a DataFrame.\n",
      "Try using .loc[row_indexer,col_indexer] = value instead\n",
      "\n",
      "See the caveats in the documentation: https://pandas.pydata.org/pandas-docs/stable/user_guide/indexing.html#returning-a-view-versus-a-copy\n",
      "  X_category[col] = X_category[col].cat.codes\n"
     ]
    }
   ],
   "source": [
    "## convert categorical data to numerical values\n",
    "cate_features=['city', 'typeBuilding', 'title', 'styleAttach', 'cooling',  'basementType', 'basementFinish','heatingType1', 'heatingType2', 'heatingEnergy1', 'heatingEnergy2', 'featureLotSlope', 'featureDriveway', 'featureLotPositionType',\n",
    "       'featureOutdoorAreaType', 'featureOutdoorLandscape',\n",
    "       'featureAdditionalFacility']\n",
    "for col in cate_features:\n",
    "    X_category[col] = X_category[col].astype('category')\n",
    "    X_category[col] = X_category[col].cat.codes"
   ]
  },
  {
   "cell_type": "code",
   "execution_count": 108,
   "id": "2240734b",
   "metadata": {
    "scrolled": true
   },
   "outputs": [
    {
     "data": {
      "text/html": [
       "<div>\n",
       "<style scoped>\n",
       "    .dataframe tbody tr th:only-of-type {\n",
       "        vertical-align: middle;\n",
       "    }\n",
       "\n",
       "    .dataframe tbody tr th {\n",
       "        vertical-align: top;\n",
       "    }\n",
       "\n",
       "    .dataframe thead th {\n",
       "        text-align: right;\n",
       "    }\n",
       "</style>\n",
       "<table border=\"1\" class=\"dataframe\">\n",
       "  <thead>\n",
       "    <tr style=\"text-align: right;\">\n",
       "      <th></th>\n",
       "      <th>city</th>\n",
       "      <th>typeBuilding</th>\n",
       "      <th>title</th>\n",
       "      <th>styleAttach</th>\n",
       "      <th>cooling</th>\n",
       "      <th>basementType</th>\n",
       "      <th>basementFinish</th>\n",
       "      <th>heatingType1</th>\n",
       "      <th>heatingType2</th>\n",
       "      <th>heatingEnergy1</th>\n",
       "      <th>heatingEnergy2</th>\n",
       "      <th>featureLotSlope</th>\n",
       "      <th>featureDriveway</th>\n",
       "      <th>featureLotPositionType</th>\n",
       "      <th>featureOutdoorAreaType</th>\n",
       "      <th>featureOutdoorLandscape</th>\n",
       "      <th>featureAdditionalFacility</th>\n",
       "    </tr>\n",
       "  </thead>\n",
       "  <tbody>\n",
       "    <tr>\n",
       "      <th>0</th>\n",
       "      <td>0</td>\n",
       "      <td>3</td>\n",
       "      <td>3</td>\n",
       "      <td>3</td>\n",
       "      <td>1</td>\n",
       "      <td>4</td>\n",
       "      <td>0</td>\n",
       "      <td>3</td>\n",
       "      <td>0</td>\n",
       "      <td>2</td>\n",
       "      <td>0</td>\n",
       "      <td>3</td>\n",
       "      <td>4</td>\n",
       "      <td>3</td>\n",
       "      <td>1</td>\n",
       "      <td>3</td>\n",
       "      <td>3</td>\n",
       "    </tr>\n",
       "    <tr>\n",
       "      <th>1</th>\n",
       "      <td>0</td>\n",
       "      <td>8</td>\n",
       "      <td>2</td>\n",
       "      <td>0</td>\n",
       "      <td>1</td>\n",
       "      <td>4</td>\n",
       "      <td>3</td>\n",
       "      <td>3</td>\n",
       "      <td>0</td>\n",
       "      <td>2</td>\n",
       "      <td>0</td>\n",
       "      <td>3</td>\n",
       "      <td>4</td>\n",
       "      <td>3</td>\n",
       "      <td>1</td>\n",
       "      <td>3</td>\n",
       "      <td>3</td>\n",
       "    </tr>\n",
       "    <tr>\n",
       "      <th>2</th>\n",
       "      <td>0</td>\n",
       "      <td>3</td>\n",
       "      <td>3</td>\n",
       "      <td>1</td>\n",
       "      <td>1</td>\n",
       "      <td>4</td>\n",
       "      <td>0</td>\n",
       "      <td>3</td>\n",
       "      <td>0</td>\n",
       "      <td>2</td>\n",
       "      <td>0</td>\n",
       "      <td>3</td>\n",
       "      <td>4</td>\n",
       "      <td>3</td>\n",
       "      <td>1</td>\n",
       "      <td>3</td>\n",
       "      <td>3</td>\n",
       "    </tr>\n",
       "    <tr>\n",
       "      <th>3</th>\n",
       "      <td>0</td>\n",
       "      <td>3</td>\n",
       "      <td>3</td>\n",
       "      <td>1</td>\n",
       "      <td>1</td>\n",
       "      <td>4</td>\n",
       "      <td>0</td>\n",
       "      <td>3</td>\n",
       "      <td>0</td>\n",
       "      <td>2</td>\n",
       "      <td>0</td>\n",
       "      <td>3</td>\n",
       "      <td>4</td>\n",
       "      <td>3</td>\n",
       "      <td>1</td>\n",
       "      <td>3</td>\n",
       "      <td>3</td>\n",
       "    </tr>\n",
       "    <tr>\n",
       "      <th>4</th>\n",
       "      <td>0</td>\n",
       "      <td>3</td>\n",
       "      <td>3</td>\n",
       "      <td>1</td>\n",
       "      <td>1</td>\n",
       "      <td>3</td>\n",
       "      <td>3</td>\n",
       "      <td>3</td>\n",
       "      <td>0</td>\n",
       "      <td>2</td>\n",
       "      <td>0</td>\n",
       "      <td>3</td>\n",
       "      <td>4</td>\n",
       "      <td>3</td>\n",
       "      <td>1</td>\n",
       "      <td>3</td>\n",
       "      <td>3</td>\n",
       "    </tr>\n",
       "  </tbody>\n",
       "</table>\n",
       "</div>"
      ],
      "text/plain": [
       "   city  typeBuilding  title  styleAttach  cooling  basementType  \\\n",
       "0     0             3      3            3        1             4   \n",
       "1     0             8      2            0        1             4   \n",
       "2     0             3      3            1        1             4   \n",
       "3     0             3      3            1        1             4   \n",
       "4     0             3      3            1        1             3   \n",
       "\n",
       "   basementFinish  heatingType1  heatingType2  heatingEnergy1  heatingEnergy2  \\\n",
       "0               0             3             0               2               0   \n",
       "1               3             3             0               2               0   \n",
       "2               0             3             0               2               0   \n",
       "3               0             3             0               2               0   \n",
       "4               3             3             0               2               0   \n",
       "\n",
       "   featureLotSlope  featureDriveway  featureLotPositionType  \\\n",
       "0                3                4                       3   \n",
       "1                3                4                       3   \n",
       "2                3                4                       3   \n",
       "3                3                4                       3   \n",
       "4                3                4                       3   \n",
       "\n",
       "   featureOutdoorAreaType  featureOutdoorLandscape  featureAdditionalFacility  \n",
       "0                       1                        3                          3  \n",
       "1                       1                        3                          3  \n",
       "2                       1                        3                          3  \n",
       "3                       1                        3                          3  \n",
       "4                       1                        3                          3  "
      ]
     },
     "execution_count": 108,
     "metadata": {},
     "output_type": "execute_result"
    }
   ],
   "source": [
    "X_category.head()"
   ]
  },
  {
   "cell_type": "markdown",
   "id": "9d9f21e5",
   "metadata": {},
   "source": [
    "## Normalize the categorical data "
   ]
  },
  {
   "cell_type": "code",
   "execution_count": 109,
   "id": "ac5355e3",
   "metadata": {},
   "outputs": [
    {
     "data": {
      "text/html": [
       "<div>\n",
       "<style scoped>\n",
       "    .dataframe tbody tr th:only-of-type {\n",
       "        vertical-align: middle;\n",
       "    }\n",
       "\n",
       "    .dataframe tbody tr th {\n",
       "        vertical-align: top;\n",
       "    }\n",
       "\n",
       "    .dataframe thead th {\n",
       "        text-align: right;\n",
       "    }\n",
       "</style>\n",
       "<table border=\"1\" class=\"dataframe\">\n",
       "  <thead>\n",
       "    <tr style=\"text-align: right;\">\n",
       "      <th></th>\n",
       "      <th>city</th>\n",
       "      <th>typeBuilding</th>\n",
       "      <th>title</th>\n",
       "      <th>styleAttach</th>\n",
       "      <th>cooling</th>\n",
       "      <th>basementType</th>\n",
       "      <th>basementFinish</th>\n",
       "      <th>heatingType1</th>\n",
       "      <th>heatingType2</th>\n",
       "      <th>heatingEnergy1</th>\n",
       "      <th>heatingEnergy2</th>\n",
       "      <th>featureLotSlope</th>\n",
       "      <th>featureDriveway</th>\n",
       "      <th>featureLotPositionType</th>\n",
       "      <th>featureOutdoorAreaType</th>\n",
       "      <th>featureOutdoorLandscape</th>\n",
       "      <th>featureAdditionalFacility</th>\n",
       "    </tr>\n",
       "  </thead>\n",
       "  <tbody>\n",
       "    <tr>\n",
       "      <th>0</th>\n",
       "      <td>0.0</td>\n",
       "      <td>0.3</td>\n",
       "      <td>0.6</td>\n",
       "      <td>0.428571</td>\n",
       "      <td>0.2</td>\n",
       "      <td>0.8</td>\n",
       "      <td>0.0</td>\n",
       "      <td>0.428571</td>\n",
       "      <td>0.0</td>\n",
       "      <td>0.4</td>\n",
       "      <td>0.0</td>\n",
       "      <td>0.6</td>\n",
       "      <td>0.666667</td>\n",
       "      <td>1.0</td>\n",
       "      <td>0.333333</td>\n",
       "      <td>0.272727</td>\n",
       "      <td>0.5</td>\n",
       "    </tr>\n",
       "    <tr>\n",
       "      <th>1</th>\n",
       "      <td>0.0</td>\n",
       "      <td>0.8</td>\n",
       "      <td>0.4</td>\n",
       "      <td>0.000000</td>\n",
       "      <td>0.2</td>\n",
       "      <td>0.8</td>\n",
       "      <td>1.0</td>\n",
       "      <td>0.428571</td>\n",
       "      <td>0.0</td>\n",
       "      <td>0.4</td>\n",
       "      <td>0.0</td>\n",
       "      <td>0.6</td>\n",
       "      <td>0.666667</td>\n",
       "      <td>1.0</td>\n",
       "      <td>0.333333</td>\n",
       "      <td>0.272727</td>\n",
       "      <td>0.5</td>\n",
       "    </tr>\n",
       "    <tr>\n",
       "      <th>2</th>\n",
       "      <td>0.0</td>\n",
       "      <td>0.3</td>\n",
       "      <td>0.6</td>\n",
       "      <td>0.142857</td>\n",
       "      <td>0.2</td>\n",
       "      <td>0.8</td>\n",
       "      <td>0.0</td>\n",
       "      <td>0.428571</td>\n",
       "      <td>0.0</td>\n",
       "      <td>0.4</td>\n",
       "      <td>0.0</td>\n",
       "      <td>0.6</td>\n",
       "      <td>0.666667</td>\n",
       "      <td>1.0</td>\n",
       "      <td>0.333333</td>\n",
       "      <td>0.272727</td>\n",
       "      <td>0.5</td>\n",
       "    </tr>\n",
       "    <tr>\n",
       "      <th>3</th>\n",
       "      <td>0.0</td>\n",
       "      <td>0.3</td>\n",
       "      <td>0.6</td>\n",
       "      <td>0.142857</td>\n",
       "      <td>0.2</td>\n",
       "      <td>0.8</td>\n",
       "      <td>0.0</td>\n",
       "      <td>0.428571</td>\n",
       "      <td>0.0</td>\n",
       "      <td>0.4</td>\n",
       "      <td>0.0</td>\n",
       "      <td>0.6</td>\n",
       "      <td>0.666667</td>\n",
       "      <td>1.0</td>\n",
       "      <td>0.333333</td>\n",
       "      <td>0.272727</td>\n",
       "      <td>0.5</td>\n",
       "    </tr>\n",
       "    <tr>\n",
       "      <th>4</th>\n",
       "      <td>0.0</td>\n",
       "      <td>0.3</td>\n",
       "      <td>0.6</td>\n",
       "      <td>0.142857</td>\n",
       "      <td>0.2</td>\n",
       "      <td>0.6</td>\n",
       "      <td>1.0</td>\n",
       "      <td>0.428571</td>\n",
       "      <td>0.0</td>\n",
       "      <td>0.4</td>\n",
       "      <td>0.0</td>\n",
       "      <td>0.6</td>\n",
       "      <td>0.666667</td>\n",
       "      <td>1.0</td>\n",
       "      <td>0.333333</td>\n",
       "      <td>0.272727</td>\n",
       "      <td>0.5</td>\n",
       "    </tr>\n",
       "  </tbody>\n",
       "</table>\n",
       "</div>"
      ],
      "text/plain": [
       "   city  typeBuilding  title  styleAttach  cooling  basementType  \\\n",
       "0   0.0           0.3    0.6     0.428571      0.2           0.8   \n",
       "1   0.0           0.8    0.4     0.000000      0.2           0.8   \n",
       "2   0.0           0.3    0.6     0.142857      0.2           0.8   \n",
       "3   0.0           0.3    0.6     0.142857      0.2           0.8   \n",
       "4   0.0           0.3    0.6     0.142857      0.2           0.6   \n",
       "\n",
       "   basementFinish  heatingType1  heatingType2  heatingEnergy1  heatingEnergy2  \\\n",
       "0             0.0      0.428571           0.0             0.4             0.0   \n",
       "1             1.0      0.428571           0.0             0.4             0.0   \n",
       "2             0.0      0.428571           0.0             0.4             0.0   \n",
       "3             0.0      0.428571           0.0             0.4             0.0   \n",
       "4             1.0      0.428571           0.0             0.4             0.0   \n",
       "\n",
       "   featureLotSlope  featureDriveway  featureLotPositionType  \\\n",
       "0              0.6         0.666667                     1.0   \n",
       "1              0.6         0.666667                     1.0   \n",
       "2              0.6         0.666667                     1.0   \n",
       "3              0.6         0.666667                     1.0   \n",
       "4              0.6         0.666667                     1.0   \n",
       "\n",
       "   featureOutdoorAreaType  featureOutdoorLandscape  featureAdditionalFacility  \n",
       "0                0.333333                 0.272727                        0.5  \n",
       "1                0.333333                 0.272727                        0.5  \n",
       "2                0.333333                 0.272727                        0.5  \n",
       "3                0.333333                 0.272727                        0.5  \n",
       "4                0.333333                 0.272727                        0.5  "
      ]
     },
     "execution_count": 109,
     "metadata": {},
     "output_type": "execute_result"
    }
   ],
   "source": [
    "from sklearn.preprocessing import MinMaxScaler\n",
    "\n",
    "# recaling the variables (both)\n",
    "X_category_columns = X_category.columns\n",
    "scaler = MinMaxScaler()\n",
    "X_category = scaler.fit_transform(X_category)\n",
    "\n",
    "# rename columns (since now its an np array)\n",
    "X_category = pd.DataFrame(X_category)\n",
    "X_category.columns = X_category_columns\n",
    "\n",
    "X_category.head()"
   ]
  },
  {
   "cell_type": "markdown",
   "id": "0b8189be",
   "metadata": {},
   "source": [
    "## Use numerical, boolean, categorical, and description data to predict"
   ]
  },
  {
   "cell_type": "code",
   "execution_count": 110,
   "id": "8d8d773d",
   "metadata": {
    "scrolled": true
   },
   "outputs": [
    {
     "data": {
      "text/html": [
       "<div>\n",
       "<style scoped>\n",
       "    .dataframe tbody tr th:only-of-type {\n",
       "        vertical-align: middle;\n",
       "    }\n",
       "\n",
       "    .dataframe tbody tr th {\n",
       "        vertical-align: top;\n",
       "    }\n",
       "\n",
       "    .dataframe thead th {\n",
       "        text-align: right;\n",
       "    }\n",
       "</style>\n",
       "<table border=\"1\" class=\"dataframe\">\n",
       "  <thead>\n",
       "    <tr style=\"text-align: right;\">\n",
       "      <th></th>\n",
       "      <th>bedroom</th>\n",
       "      <th>bedroomAboveGrade</th>\n",
       "      <th>bedroomBelowGrade</th>\n",
       "      <th>bathroom</th>\n",
       "      <th>bathroomTotal</th>\n",
       "      <th>bathroomPartial</th>\n",
       "      <th>totalParkingSpaces</th>\n",
       "      <th>storeys</th>\n",
       "      <th>maintenanceFees</th>\n",
       "      <th>landSize</th>\n",
       "      <th>...</th>\n",
       "      <th>wide</th>\n",
       "      <th>window</th>\n",
       "      <th>wine</th>\n",
       "      <th>within</th>\n",
       "      <th>wood</th>\n",
       "      <th>work</th>\n",
       "      <th>yard</th>\n",
       "      <th>year</th>\n",
       "      <th>yonge</th>\n",
       "      <th>york</th>\n",
       "    </tr>\n",
       "  </thead>\n",
       "  <tbody>\n",
       "    <tr>\n",
       "      <th>0</th>\n",
       "      <td>0.277778</td>\n",
       "      <td>0.444444</td>\n",
       "      <td>0.111111</td>\n",
       "      <td>0.16</td>\n",
       "      <td>0.16</td>\n",
       "      <td>0.0</td>\n",
       "      <td>0.015385</td>\n",
       "      <td>0.500</td>\n",
       "      <td>0.068565</td>\n",
       "      <td>0.000055</td>\n",
       "      <td>...</td>\n",
       "      <td>0.0</td>\n",
       "      <td>0.000000</td>\n",
       "      <td>0.0</td>\n",
       "      <td>0.0</td>\n",
       "      <td>0.0</td>\n",
       "      <td>0.0</td>\n",
       "      <td>0.0</td>\n",
       "      <td>0.000000</td>\n",
       "      <td>0.0</td>\n",
       "      <td>0.0</td>\n",
       "    </tr>\n",
       "    <tr>\n",
       "      <th>1</th>\n",
       "      <td>0.166667</td>\n",
       "      <td>0.333333</td>\n",
       "      <td>0.000000</td>\n",
       "      <td>0.16</td>\n",
       "      <td>0.16</td>\n",
       "      <td>0.0</td>\n",
       "      <td>0.003846</td>\n",
       "      <td>0.750</td>\n",
       "      <td>0.068565</td>\n",
       "      <td>0.000000</td>\n",
       "      <td>...</td>\n",
       "      <td>0.0</td>\n",
       "      <td>0.000000</td>\n",
       "      <td>0.0</td>\n",
       "      <td>0.0</td>\n",
       "      <td>0.0</td>\n",
       "      <td>0.0</td>\n",
       "      <td>0.0</td>\n",
       "      <td>0.000000</td>\n",
       "      <td>0.0</td>\n",
       "      <td>0.0</td>\n",
       "    </tr>\n",
       "    <tr>\n",
       "      <th>2</th>\n",
       "      <td>0.388889</td>\n",
       "      <td>0.444444</td>\n",
       "      <td>0.333333</td>\n",
       "      <td>0.16</td>\n",
       "      <td>0.16</td>\n",
       "      <td>0.0</td>\n",
       "      <td>0.030769</td>\n",
       "      <td>0.500</td>\n",
       "      <td>0.068565</td>\n",
       "      <td>0.000114</td>\n",
       "      <td>...</td>\n",
       "      <td>0.0</td>\n",
       "      <td>0.077763</td>\n",
       "      <td>0.0</td>\n",
       "      <td>0.0</td>\n",
       "      <td>0.0</td>\n",
       "      <td>0.0</td>\n",
       "      <td>0.0</td>\n",
       "      <td>0.344994</td>\n",
       "      <td>0.0</td>\n",
       "      <td>0.0</td>\n",
       "    </tr>\n",
       "    <tr>\n",
       "      <th>3</th>\n",
       "      <td>0.333333</td>\n",
       "      <td>0.444444</td>\n",
       "      <td>0.222222</td>\n",
       "      <td>0.16</td>\n",
       "      <td>0.16</td>\n",
       "      <td>0.0</td>\n",
       "      <td>0.015385</td>\n",
       "      <td>0.500</td>\n",
       "      <td>0.068565</td>\n",
       "      <td>0.000125</td>\n",
       "      <td>...</td>\n",
       "      <td>0.0</td>\n",
       "      <td>0.000000</td>\n",
       "      <td>0.0</td>\n",
       "      <td>0.0</td>\n",
       "      <td>0.0</td>\n",
       "      <td>0.0</td>\n",
       "      <td>0.0</td>\n",
       "      <td>0.000000</td>\n",
       "      <td>0.0</td>\n",
       "      <td>0.0</td>\n",
       "    </tr>\n",
       "    <tr>\n",
       "      <th>4</th>\n",
       "      <td>0.222222</td>\n",
       "      <td>0.444444</td>\n",
       "      <td>0.000000</td>\n",
       "      <td>0.16</td>\n",
       "      <td>0.16</td>\n",
       "      <td>0.0</td>\n",
       "      <td>0.015385</td>\n",
       "      <td>0.625</td>\n",
       "      <td>0.068565</td>\n",
       "      <td>0.000078</td>\n",
       "      <td>...</td>\n",
       "      <td>0.0</td>\n",
       "      <td>0.085280</td>\n",
       "      <td>0.0</td>\n",
       "      <td>0.0</td>\n",
       "      <td>0.0</td>\n",
       "      <td>0.0</td>\n",
       "      <td>0.0</td>\n",
       "      <td>0.000000</td>\n",
       "      <td>0.0</td>\n",
       "      <td>0.0</td>\n",
       "    </tr>\n",
       "  </tbody>\n",
       "</table>\n",
       "<p>5 rows × 501 columns</p>\n",
       "</div>"
      ],
      "text/plain": [
       "    bedroom  bedroomAboveGrade  bedroomBelowGrade  bathroom  bathroomTotal  \\\n",
       "0  0.277778           0.444444           0.111111      0.16           0.16   \n",
       "1  0.166667           0.333333           0.000000      0.16           0.16   \n",
       "2  0.388889           0.444444           0.333333      0.16           0.16   \n",
       "3  0.333333           0.444444           0.222222      0.16           0.16   \n",
       "4  0.222222           0.444444           0.000000      0.16           0.16   \n",
       "\n",
       "   bathroomPartial  totalParkingSpaces  storeys  maintenanceFees  landSize  \\\n",
       "0              0.0            0.015385    0.500         0.068565  0.000055   \n",
       "1              0.0            0.003846    0.750         0.068565  0.000000   \n",
       "2              0.0            0.030769    0.500         0.068565  0.000114   \n",
       "3              0.0            0.015385    0.500         0.068565  0.000125   \n",
       "4              0.0            0.015385    0.625         0.068565  0.000078   \n",
       "\n",
       "   ...  wide    window  wine  within  wood  work  yard      year  yonge  york  \n",
       "0  ...   0.0  0.000000   0.0     0.0   0.0   0.0   0.0  0.000000    0.0   0.0  \n",
       "1  ...   0.0  0.000000   0.0     0.0   0.0   0.0   0.0  0.000000    0.0   0.0  \n",
       "2  ...   0.0  0.077763   0.0     0.0   0.0   0.0   0.0  0.344994    0.0   0.0  \n",
       "3  ...   0.0  0.000000   0.0     0.0   0.0   0.0   0.0  0.000000    0.0   0.0  \n",
       "4  ...   0.0  0.085280   0.0     0.0   0.0   0.0   0.0  0.000000    0.0   0.0  \n",
       "\n",
       "[5 rows x 501 columns]"
      ]
     },
     "execution_count": 110,
     "metadata": {},
     "output_type": "execute_result"
    }
   ],
   "source": [
    "X_all = pd.concat([X_num, X_boo, X_category, df_desc], axis=1)\n",
    "X_all.head()"
   ]
  },
  {
   "cell_type": "markdown",
   "id": "3b3c27f4",
   "metadata": {},
   "source": [
    "## divide dataset"
   ]
  },
  {
   "cell_type": "code",
   "execution_count": 111,
   "id": "138d9705",
   "metadata": {},
   "outputs": [],
   "source": [
    "from sklearn.model_selection import train_test_split\n",
    "X_train, X_test, y_train, y_test = train_test_split(\n",
    "    X_all, labels_price, test_size=0.1, random_state=13) "
   ]
  },
  {
   "cell_type": "code",
   "execution_count": 112,
   "id": "43c1b1b0",
   "metadata": {},
   "outputs": [],
   "source": [
    "X_train = np.asarray(X_train).astype(np.float32)\n",
    "X_test = np.asarray(X_test).astype(np.float32)"
   ]
  },
  {
   "cell_type": "markdown",
   "id": "95ad224e",
   "metadata": {},
   "source": [
    "### Build gradient boosting model"
   ]
  },
  {
   "cell_type": "code",
   "execution_count": 113,
   "id": "f440c633",
   "metadata": {},
   "outputs": [
    {
     "data": {
      "text/plain": [
       "GradientBoostingRegressor(learning_rate=0.02, max_depth=4, n_estimators=1000,\n",
       "                          subsample=0.8)"
      ]
     },
     "execution_count": 113,
     "metadata": {},
     "output_type": "execute_result"
    }
   ],
   "source": [
    "import numpy as np \n",
    "from sklearn import ensemble\n",
    "params = {'n_estimators': 1000,\n",
    "          'max_depth': 4,\n",
    "          'learning_rate': 0.02,\n",
    "          'subsample': 0.8\n",
    "         }\n",
    "\n",
    "reg = ensemble.GradientBoostingRegressor(**params)\n",
    "\n",
    "y_train_flat=np.ravel(y_train)\n",
    "reg.fit(X_train, y_train_flat)"
   ]
  },
  {
   "cell_type": "markdown",
   "id": "960bb467",
   "metadata": {},
   "source": [
    "## Training R2 and RMSE"
   ]
  },
  {
   "cell_type": "code",
   "execution_count": 114,
   "id": "16077471",
   "metadata": {},
   "outputs": [],
   "source": [
    "y_train_pred=reg.predict(X_train)"
   ]
  },
  {
   "cell_type": "code",
   "execution_count": 115,
   "id": "e52fe6a4",
   "metadata": {},
   "outputs": [
    {
     "name": "stdout",
     "output_type": "stream",
     "text": [
      "0.9599178887473355\n"
     ]
    }
   ],
   "source": [
    "from sklearn.metrics import r2_score\n",
    "r2_train=r2_score(y_train, y_train_pred)\n",
    "print(r2_train)"
   ]
  },
  {
   "cell_type": "code",
   "execution_count": 116,
   "id": "34b8daa0",
   "metadata": {},
   "outputs": [
    {
     "name": "stdout",
     "output_type": "stream",
     "text": [
      "0.007750552349057598\n"
     ]
    }
   ],
   "source": [
    "from sklearn.metrics import mean_squared_error\n",
    "rmse_train=mean_squared_error(y_train, y_train_pred, squared=False)\n",
    "print(rmse_train)"
   ]
  },
  {
   "cell_type": "markdown",
   "id": "8dac2a5d",
   "metadata": {},
   "source": [
    "## Testing R2 and RMSE"
   ]
  },
  {
   "cell_type": "code",
   "execution_count": 117,
   "id": "21ca974d",
   "metadata": {},
   "outputs": [],
   "source": [
    "y_test_pred=reg.predict(X_test)"
   ]
  },
  {
   "cell_type": "code",
   "execution_count": 118,
   "id": "39fc1e9a",
   "metadata": {},
   "outputs": [
    {
     "name": "stdout",
     "output_type": "stream",
     "text": [
      "0.7183701361644137\n"
     ]
    }
   ],
   "source": [
    "r2_test=r2_score(y_test, y_test_pred)\n",
    "print(r2_test)"
   ]
  },
  {
   "cell_type": "code",
   "execution_count": 119,
   "id": "85142ab5",
   "metadata": {
    "scrolled": false
   },
   "outputs": [
    {
     "name": "stdout",
     "output_type": "stream",
     "text": [
      "0.014390237072889648\n"
     ]
    }
   ],
   "source": [
    "rmse_test=mean_squared_error(y_test, y_test_pred, squared=False)\n",
    "print(rmse_test)"
   ]
  },
  {
   "cell_type": "markdown",
   "id": "5aeaa4ca",
   "metadata": {},
   "source": [
    "## save the model to disk"
   ]
  },
  {
   "cell_type": "code",
   "execution_count": 120,
   "id": "9e05bf24",
   "metadata": {},
   "outputs": [],
   "source": [
    "import pickle\n",
    "filename = 'finalized_model_all_features.sav'\n",
    "pickle.dump(reg, open(output_folder+\"/\"+filename, 'wb'))"
   ]
  },
  {
   "cell_type": "markdown",
   "id": "7e74292f",
   "metadata": {},
   "source": [
    "## load the model from disk"
   ]
  },
  {
   "cell_type": "code",
   "execution_count": 121,
   "id": "9c9680a5",
   "metadata": {
    "scrolled": false
   },
   "outputs": [
    {
     "name": "stdout",
     "output_type": "stream",
     "text": [
      "0.7183701361644137\n"
     ]
    }
   ],
   "source": [
    "loaded_model = pickle.load(open(output_folder+\"/\"+filename, 'rb'))\n",
    "y_test_pred = loaded_model.predict(X_test)\n",
    "r2_test=r2_score(y_test, y_test_pred)\n",
    "print(r2_test)"
   ]
  }
 ],
 "metadata": {
  "kernelspec": {
   "display_name": "Python 3",
   "language": "python",
   "name": "python3"
  },
  "language_info": {
   "codemirror_mode": {
    "name": "ipython",
    "version": 3
   },
   "file_extension": ".py",
   "mimetype": "text/x-python",
   "name": "python",
   "nbconvert_exporter": "python",
   "pygments_lexer": "ipython3",
   "version": "3.8.3"
  }
 },
 "nbformat": 4,
 "nbformat_minor": 5
}
