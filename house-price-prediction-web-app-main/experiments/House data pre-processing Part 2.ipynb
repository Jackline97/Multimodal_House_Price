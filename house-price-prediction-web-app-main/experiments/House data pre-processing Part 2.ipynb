{
 "cells": [
  {
   "cell_type": "code",
   "execution_count": 1,
   "metadata": {},
   "outputs": [],
   "source": [
    "import pandas as pd\n",
    "import os\n",
    "\n",
    "project_folder=\"C:/Users/hanson/OneDrive/Grad/Grad Project/data_realtorCA/\"\n",
    "output_folder=project_folder+\"output\"\n",
    "\n",
    "df=pd.read_csv(output_folder+\"/\"+\"all_after_preprocessing\"+'.csv')"
   ]
  },
  {
   "cell_type": "markdown",
   "metadata": {},
   "source": [
    "## Check column \"parkingType\""
   ]
  },
  {
   "cell_type": "code",
   "execution_count": 2,
   "metadata": {},
   "outputs": [],
   "source": [
    "pd.set_option(\"display.max_rows\", 5, \"display.max_columns\", None) \n",
    "#pd.set_option('display.max_colwidth', None) #description full display\n"
   ]
  },
  {
   "cell_type": "code",
   "execution_count": 3,
   "metadata": {
    "scrolled": true
   },
   "outputs": [
    {
     "data": {
      "text/plain": [
       "Attached Garage                              2090\n",
       "Underground                                  1874\n",
       "                                             ... \n",
       "Attached Garage, Carport, Visitor Parking       1\n",
       "Oversize, Gravel, RV                            1\n",
       "Name: parkingType, Length: 131, dtype: int64"
      ]
     },
     "execution_count": 3,
     "metadata": {},
     "output_type": "execute_result"
    }
   ],
   "source": [
    "df[\"parkingType\"].value_counts()"
   ]
  },
  {
   "cell_type": "code",
   "execution_count": 4,
   "metadata": {
    "scrolled": false
   },
   "outputs": [
    {
     "data": {
      "text/plain": [
       "House              762\n",
       "Row / Townhouse    250\n",
       "                  ... \n",
       "Triplex              2\n",
       "Vacant Land          1\n",
       "Name: typeBuilding, Length: 6, dtype: int64"
      ]
     },
     "execution_count": 4,
     "metadata": {},
     "output_type": "execute_result"
    }
   ],
   "source": [
    "df[df[\"parkingType\"]==\"Garage\"].typeBuilding.value_counts()"
   ]
  },
  {
   "cell_type": "markdown",
   "metadata": {},
   "source": [
    "## convert multiple parkingType tags into columns with true/false value"
   ]
  },
  {
   "cell_type": "code",
   "execution_count": 5,
   "metadata": {},
   "outputs": [
    {
     "name": "stdout",
     "output_type": "stream",
     "text": [
      "{'Other', 'AttachedGarage', 'NoGarage', 'Underground', 'NotListed', 'Open', 'None', 'InsideEntry', 'Surfaced', 'Oversize', 'RV', 'Tandem', 'Gravel', 'Garage', 'Shared', 'DetachedGarage', 'Carport', 'StreetPermit', 'Covered', 'Interlocked', 'VisitorParking'}\n"
     ]
    }
   ],
   "source": [
    "# split each of the strings into a list\n",
    "df_3=df.copy()\n",
    "df_3['parkingType'] = df_3['parkingType'].str.replace(\" \",\"\")\n",
    "df_3['parkingType'] = df_3['parkingType'].str.replace(\" \",\"\")\n",
    "\n",
    "df_3['parkingType'] = df_3['parkingType'].str.split(pat=',')\n",
    "\n",
    "# collect all unique tags from those lists\n",
    "tags = set(df_3['parkingType'].explode().values)\n",
    "print(tags)"
   ]
  },
  {
   "cell_type": "code",
   "execution_count": 6,
   "metadata": {
    "scrolled": true
   },
   "outputs": [],
   "source": [
    "# create a new Boolean column for each tag\n",
    "for tag in tags:\n",
    "    df_3[tag] = [tag in df_3['parkingType'].loc[i] for i in df_3.index]\n",
    "\n",
    "#display(df_3)"
   ]
  },
  {
   "cell_type": "code",
   "execution_count": 7,
   "metadata": {},
   "outputs": [],
   "source": [
    "parkingCol=['Shared', 'DetachedGarage', 'AttachedGarage', 'Garage', 'Covered', 'StreetPermit', 'Other', 'NoGarage', 'NotListed', 'Open', 'Oversize', 'Gravel', 'VisitorParking', 'Tandem', 'Interlocked', 'Surfaced', 'RV', 'None', 'Underground', 'InsideEntry', 'Carport']"
   ]
  },
  {
   "cell_type": "markdown",
   "metadata": {},
   "source": [
    "## Check which tag parkingType are most popular, show it from the most to least"
   ]
  },
  {
   "cell_type": "code",
   "execution_count": 8,
   "metadata": {},
   "outputs": [
    {
     "name": "stdout",
     "output_type": "stream",
     "text": [
      "{'Underground': 3501, 'AttachedGarage': 2501, 'VisitorParking': 1967, 'NotListed': 1656, 'Garage': 1107, 'DetachedGarage': 747, 'Surfaced': 318, 'InsideEntry': 253, 'NoGarage': 207, 'Carport': 108, 'Open': 83, 'None': 82, 'Gravel': 81, 'Interlocked': 47, 'Shared': 33, 'Oversize': 33, 'Tandem': 22, 'Covered': 7, 'Other': 6, 'StreetPermit': 4, 'RV': 4}\n"
     ]
    }
   ],
   "source": [
    "newdict={}\n",
    "for col in parkingCol:\n",
    "    newdict[col]=df_3[col][df_3[col]==True].count()\n",
    "    #print(col+\" \"+str(df_3[col][df_3[col]==True].count()))\n",
    "sorted_keys = sorted(newdict, key=newdict.get, reverse=True)  # [1, 3, 2]\n",
    "sorted_dict = {}\n",
    "for w in sorted_keys:\n",
    "    sorted_dict[w] = newdict[w]\n",
    "\n",
    "print(sorted_dict) # {1: 1, 3: 4, 2: 9}"
   ]
  },
  {
   "cell_type": "markdown",
   "metadata": {},
   "source": [
    "## Drop columns that are ambiguous\n",
    "## drop \"NoGarage\", \"None\", \"NotListed\" because it's already true/false, \"Other\", \"StreetPermit\" because it's useless\n",
    "## drop \"Tandem\" because it is bike parking, \n",
    "## Ambiguous terms like \"Covered\" is merged into \"Carport\"\n",
    "## \"RV\" is merged with \"Oversize\"\n",
    "## “Open” is merged with “Surfaced”. "
   ]
  },
  {
   "cell_type": "code",
   "execution_count": 9,
   "metadata": {},
   "outputs": [],
   "source": [
    "parking_all_tags=list(sorted_dict)\n",
    "df_3.loc[(df_3['Carport']==True)|(df_3['Covered']==True), 'Carport'] = True\n",
    "df_3.loc[(df_3['Oversize']==True)|(df_3['RV']==True), 'Oversize'] = True\n",
    "df_3.loc[(df_3['Surfaced']==True)|(df_3['Open']==True), 'Surfaced'] = True\n",
    "\n",
    "df_3 = df_3.drop([\"NoGarage\", \"None\", \"NotListed\", \"Other\", \"StreetPermit\", \"Tandem\", \"Covered\", \"RV\",\"Open\"], axis=1)"
   ]
  },
  {
   "cell_type": "code",
   "execution_count": 10,
   "metadata": {},
   "outputs": [
    {
     "name": "stdout",
     "output_type": "stream",
     "text": [
      "NoGarage\n",
      "None\n",
      "NotListed\n",
      "Other\n",
      "StreetPermit\n",
      "Tandem\n",
      "Covered\n",
      "RV\n",
      "Open\n",
      "{'Underground': 3501, 'AttachedGarage': 2501, 'VisitorParking': 1967, 'Garage': 1107, 'DetachedGarage': 747, 'Surfaced': 365, 'InsideEntry': 253, 'Carport': 115, 'Gravel': 81, 'Interlocked': 47, 'Oversize': 35, 'Shared': 33}\n"
     ]
    }
   ],
   "source": [
    "for x in [\"NoGarage\", \"None\", \"NotListed\", \"Other\", \"StreetPermit\", \"Tandem\", \"Covered\", \"RV\", \"Open\"]:\n",
    "    print(x)\n",
    "    parkingCol.remove(x)\n",
    "    \n",
    "newdict={}\n",
    "for col in parkingCol:\n",
    "    newdict[col]=df_3[col][df_3[col]==True].count()\n",
    "    #print(col+\" \"+str(df_3[col][df_3[col]==True].count()))\n",
    "sorted_keys = sorted(newdict, key=newdict.get, reverse=True)  # [1, 3, 2]\n",
    "sorted_dict = {}\n",
    "for w in sorted_keys:\n",
    "    sorted_dict[w] = newdict[w]\n",
    "\n",
    "print(sorted_dict) # {1: 1, 3: 4, 2: 9}"
   ]
  },
  {
   "cell_type": "code",
   "execution_count": 11,
   "metadata": {},
   "outputs": [
    {
     "data": {
      "text/html": [
       "<div>\n",
       "<style scoped>\n",
       "    .dataframe tbody tr th:only-of-type {\n",
       "        vertical-align: middle;\n",
       "    }\n",
       "\n",
       "    .dataframe tbody tr th {\n",
       "        vertical-align: top;\n",
       "    }\n",
       "\n",
       "    .dataframe thead th {\n",
       "        text-align: right;\n",
       "    }\n",
       "</style>\n",
       "<table border=\"1\" class=\"dataframe\">\n",
       "  <thead>\n",
       "    <tr style=\"text-align: right;\">\n",
       "      <th></th>\n",
       "      <th>MLS</th>\n",
       "      <th>price</th>\n",
       "      <th>city</th>\n",
       "      <th>communityName</th>\n",
       "      <th>address</th>\n",
       "      <th>postal</th>\n",
       "      <th>description</th>\n",
       "      <th>typeBuilding</th>\n",
       "      <th>title</th>\n",
       "      <th>bedroomAboveGrade</th>\n",
       "      <th>bedroomBelowGrade</th>\n",
       "      <th>bathroomTotal</th>\n",
       "      <th>bathroomPartial</th>\n",
       "      <th>parkingType</th>\n",
       "      <th>totalParkingSpaces</th>\n",
       "      <th>landSize</th>\n",
       "      <th>storeys</th>\n",
       "      <th>basementType</th>\n",
       "      <th>style</th>\n",
       "      <th>buildingAmenities</th>\n",
       "      <th>maintenanceFees</th>\n",
       "      <th>maintenanceManagementCompany</th>\n",
       "      <th>cooling</th>\n",
       "      <th>heatingType</th>\n",
       "      <th>exteriorFinish</th>\n",
       "      <th>buildingFeatures</th>\n",
       "      <th>amenitiesNearby</th>\n",
       "      <th>AttachedGarage</th>\n",
       "      <th>Underground</th>\n",
       "      <th>InsideEntry</th>\n",
       "      <th>Surfaced</th>\n",
       "      <th>Oversize</th>\n",
       "      <th>Gravel</th>\n",
       "      <th>Garage</th>\n",
       "      <th>Shared</th>\n",
       "      <th>DetachedGarage</th>\n",
       "      <th>Carport</th>\n",
       "      <th>Interlocked</th>\n",
       "      <th>VisitorParking</th>\n",
       "    </tr>\n",
       "  </thead>\n",
       "  <tbody>\n",
       "    <tr>\n",
       "      <th>0</th>\n",
       "      <td>W5238356</td>\n",
       "      <td>958800</td>\n",
       "      <td>Brampton</td>\n",
       "      <td>Sandringham-Wellington</td>\n",
       "      <td>232 BRUSSELS AVEBrampton</td>\n",
       "      <td>L6Z0G1</td>\n",
       "      <td>Beautiful, Bright &amp; Spacious Home In The Heart...</td>\n",
       "      <td>House</td>\n",
       "      <td>Freehold</td>\n",
       "      <td>4</td>\n",
       "      <td>1</td>\n",
       "      <td>4</td>\n",
       "      <td>0</td>\n",
       "      <td>[Garage]</td>\n",
       "      <td>4</td>\n",
       "      <td>22.47 x 99.25 FT</td>\n",
       "      <td>2</td>\n",
       "      <td>N/A (Finished)</td>\n",
       "      <td>Semi-detached</td>\n",
       "      <td>NotListed</td>\n",
       "      <td>NotListed</td>\n",
       "      <td>NotListed</td>\n",
       "      <td>Central air conditioning</td>\n",
       "      <td>Forced air (Natural gas)</td>\n",
       "      <td>Brick</td>\n",
       "      <td>NotListed</td>\n",
       "      <td>Hospital, Park, Public Transit, Schools</td>\n",
       "      <td>False</td>\n",
       "      <td>False</td>\n",
       "      <td>False</td>\n",
       "      <td>False</td>\n",
       "      <td>False</td>\n",
       "      <td>False</td>\n",
       "      <td>True</td>\n",
       "      <td>False</td>\n",
       "      <td>False</td>\n",
       "      <td>False</td>\n",
       "      <td>False</td>\n",
       "      <td>False</td>\n",
       "    </tr>\n",
       "    <tr>\n",
       "      <th>1</th>\n",
       "      <td>W5226917</td>\n",
       "      <td>970000</td>\n",
       "      <td>Brampton</td>\n",
       "      <td>Downtown Brampton</td>\n",
       "      <td>#LOT 12 -57 MCMURCHY AVE SBrampton</td>\n",
       "      <td>L6Y1Y6</td>\n",
       "      <td>This Is An Assignment Sale !!!Sunfield Communi...</td>\n",
       "      <td>Row / Townhouse</td>\n",
       "      <td>Condominium</td>\n",
       "      <td>3</td>\n",
       "      <td>0</td>\n",
       "      <td>4</td>\n",
       "      <td>0</td>\n",
       "      <td>[AttachedGarage]</td>\n",
       "      <td>1</td>\n",
       "      <td>NotListed</td>\n",
       "      <td>3</td>\n",
       "      <td>N/A (Unfinished)</td>\n",
       "      <td>NotListed</td>\n",
       "      <td>NotListed</td>\n",
       "      <td>NotListed</td>\n",
       "      <td>Not Decided Yet</td>\n",
       "      <td>Central air conditioning</td>\n",
       "      <td>Forced air (Natural gas)</td>\n",
       "      <td>Brick</td>\n",
       "      <td>NotListed</td>\n",
       "      <td>Hospital, Park, Public Transit, Schools</td>\n",
       "      <td>True</td>\n",
       "      <td>False</td>\n",
       "      <td>False</td>\n",
       "      <td>False</td>\n",
       "      <td>False</td>\n",
       "      <td>False</td>\n",
       "      <td>False</td>\n",
       "      <td>False</td>\n",
       "      <td>False</td>\n",
       "      <td>False</td>\n",
       "      <td>False</td>\n",
       "      <td>False</td>\n",
       "    </tr>\n",
       "    <tr>\n",
       "      <th>2</th>\n",
       "      <td>W5226514</td>\n",
       "      <td>1249900</td>\n",
       "      <td>Brampton</td>\n",
       "      <td>Fletcher's Creek South</td>\n",
       "      <td>208 ROLLINGWOOD DRBrampton</td>\n",
       "      <td>L6Y5J6</td>\n",
       "      <td>Location-Location- Border Of Mississauga, 4 Be...</td>\n",
       "      <td>House</td>\n",
       "      <td>Freehold</td>\n",
       "      <td>4</td>\n",
       "      <td>3</td>\n",
       "      <td>4</td>\n",
       "      <td>0</td>\n",
       "      <td>[AttachedGarage]</td>\n",
       "      <td>8</td>\n",
       "      <td>42 x 110 FT ; As Per Survey</td>\n",
       "      <td>2</td>\n",
       "      <td>N/A (Finished)</td>\n",
       "      <td>Detached</td>\n",
       "      <td>NotListed</td>\n",
       "      <td>NotListed</td>\n",
       "      <td>NotListed</td>\n",
       "      <td>Central air conditioning</td>\n",
       "      <td>Forced air (Natural gas)</td>\n",
       "      <td>Brick</td>\n",
       "      <td>NotListed</td>\n",
       "      <td>Public Transit</td>\n",
       "      <td>True</td>\n",
       "      <td>False</td>\n",
       "      <td>False</td>\n",
       "      <td>False</td>\n",
       "      <td>False</td>\n",
       "      <td>False</td>\n",
       "      <td>False</td>\n",
       "      <td>False</td>\n",
       "      <td>False</td>\n",
       "      <td>False</td>\n",
       "      <td>False</td>\n",
       "      <td>False</td>\n",
       "    </tr>\n",
       "    <tr>\n",
       "      <th>3</th>\n",
       "      <td>W5234770</td>\n",
       "      <td>1249900</td>\n",
       "      <td>Brampton</td>\n",
       "      <td>Fletcher's West</td>\n",
       "      <td>92 MOFFATT AVEBrampton</td>\n",
       "      <td>L6Y4K8</td>\n",
       "      <td>Premium Corner Lot(4 Bdrms+2 Bdrms Finished Le...</td>\n",
       "      <td>House</td>\n",
       "      <td>Freehold</td>\n",
       "      <td>4</td>\n",
       "      <td>2</td>\n",
       "      <td>4</td>\n",
       "      <td>0</td>\n",
       "      <td>[AttachedGarage]</td>\n",
       "      <td>4</td>\n",
       "      <td>51.76 x 97.83 FT ; Legal Basement</td>\n",
       "      <td>2</td>\n",
       "      <td>N/A (Finished)</td>\n",
       "      <td>Detached</td>\n",
       "      <td>NotListed</td>\n",
       "      <td>NotListed</td>\n",
       "      <td>NotListed</td>\n",
       "      <td>Central air conditioning</td>\n",
       "      <td>Forced air (Natural gas)</td>\n",
       "      <td>Brick</td>\n",
       "      <td>NotListed</td>\n",
       "      <td>Public Transit, Schools</td>\n",
       "      <td>True</td>\n",
       "      <td>False</td>\n",
       "      <td>False</td>\n",
       "      <td>False</td>\n",
       "      <td>False</td>\n",
       "      <td>False</td>\n",
       "      <td>False</td>\n",
       "      <td>False</td>\n",
       "      <td>False</td>\n",
       "      <td>False</td>\n",
       "      <td>False</td>\n",
       "      <td>False</td>\n",
       "    </tr>\n",
       "    <tr>\n",
       "      <th>4</th>\n",
       "      <td>W5234047</td>\n",
       "      <td>1249900</td>\n",
       "      <td>Brampton</td>\n",
       "      <td>Fletcher's West</td>\n",
       "      <td>85 WHITE TAIL CRESBrampton</td>\n",
       "      <td>L6Y5C1</td>\n",
       "      <td>Beautiful Detached House With 4 Bedrooms And 4...</td>\n",
       "      <td>House</td>\n",
       "      <td>Freehold</td>\n",
       "      <td>4</td>\n",
       "      <td>0</td>\n",
       "      <td>4</td>\n",
       "      <td>0</td>\n",
       "      <td>[AttachedGarage]</td>\n",
       "      <td>4</td>\n",
       "      <td>31.69 x 100 FT</td>\n",
       "      <td>2.5000</td>\n",
       "      <td>Full</td>\n",
       "      <td>Detached</td>\n",
       "      <td>NotListed</td>\n",
       "      <td>NotListed</td>\n",
       "      <td>NotListed</td>\n",
       "      <td>Central air conditioning</td>\n",
       "      <td>Forced air (Natural gas)</td>\n",
       "      <td>Brick</td>\n",
       "      <td>NotListed</td>\n",
       "      <td>NotListed</td>\n",
       "      <td>True</td>\n",
       "      <td>False</td>\n",
       "      <td>False</td>\n",
       "      <td>False</td>\n",
       "      <td>False</td>\n",
       "      <td>False</td>\n",
       "      <td>False</td>\n",
       "      <td>False</td>\n",
       "      <td>False</td>\n",
       "      <td>False</td>\n",
       "      <td>False</td>\n",
       "      <td>False</td>\n",
       "    </tr>\n",
       "  </tbody>\n",
       "</table>\n",
       "</div>"
      ],
      "text/plain": [
       "        MLS    price      city           communityName  \\\n",
       "0  W5238356   958800  Brampton  Sandringham-Wellington   \n",
       "1  W5226917   970000  Brampton       Downtown Brampton   \n",
       "2  W5226514  1249900  Brampton  Fletcher's Creek South   \n",
       "3  W5234770  1249900  Brampton         Fletcher's West   \n",
       "4  W5234047  1249900  Brampton         Fletcher's West   \n",
       "\n",
       "                              address  postal  \\\n",
       "0            232 BRUSSELS AVEBrampton  L6Z0G1   \n",
       "1  #LOT 12 -57 MCMURCHY AVE SBrampton  L6Y1Y6   \n",
       "2          208 ROLLINGWOOD DRBrampton  L6Y5J6   \n",
       "3              92 MOFFATT AVEBrampton  L6Y4K8   \n",
       "4          85 WHITE TAIL CRESBrampton  L6Y5C1   \n",
       "\n",
       "                                         description     typeBuilding  \\\n",
       "0  Beautiful, Bright & Spacious Home In The Heart...            House   \n",
       "1  This Is An Assignment Sale !!!Sunfield Communi...  Row / Townhouse   \n",
       "2  Location-Location- Border Of Mississauga, 4 Be...            House   \n",
       "3  Premium Corner Lot(4 Bdrms+2 Bdrms Finished Le...            House   \n",
       "4  Beautiful Detached House With 4 Bedrooms And 4...            House   \n",
       "\n",
       "         title bedroomAboveGrade  bedroomBelowGrade  bathroomTotal  \\\n",
       "0     Freehold                 4                  1              4   \n",
       "1  Condominium                 3                  0              4   \n",
       "2     Freehold                 4                  3              4   \n",
       "3     Freehold                 4                  2              4   \n",
       "4     Freehold                 4                  0              4   \n",
       "\n",
       "   bathroomPartial       parkingType totalParkingSpaces  \\\n",
       "0                0          [Garage]                  4   \n",
       "1                0  [AttachedGarage]                  1   \n",
       "2                0  [AttachedGarage]                  8   \n",
       "3                0  [AttachedGarage]                  4   \n",
       "4                0  [AttachedGarage]                  4   \n",
       "\n",
       "                            landSize storeys      basementType          style  \\\n",
       "0                   22.47 x 99.25 FT       2    N/A (Finished)  Semi-detached   \n",
       "1                          NotListed       3  N/A (Unfinished)      NotListed   \n",
       "2        42 x 110 FT ; As Per Survey       2    N/A (Finished)       Detached   \n",
       "3  51.76 x 97.83 FT ; Legal Basement       2    N/A (Finished)       Detached   \n",
       "4                     31.69 x 100 FT  2.5000              Full       Detached   \n",
       "\n",
       "  buildingAmenities maintenanceFees maintenanceManagementCompany  \\\n",
       "0         NotListed       NotListed                    NotListed   \n",
       "1         NotListed       NotListed              Not Decided Yet   \n",
       "2         NotListed       NotListed                    NotListed   \n",
       "3         NotListed       NotListed                    NotListed   \n",
       "4         NotListed       NotListed                    NotListed   \n",
       "\n",
       "                    cooling               heatingType exteriorFinish  \\\n",
       "0  Central air conditioning  Forced air (Natural gas)          Brick   \n",
       "1  Central air conditioning  Forced air (Natural gas)          Brick   \n",
       "2  Central air conditioning  Forced air (Natural gas)          Brick   \n",
       "3  Central air conditioning  Forced air (Natural gas)          Brick   \n",
       "4  Central air conditioning  Forced air (Natural gas)          Brick   \n",
       "\n",
       "  buildingFeatures                          amenitiesNearby  AttachedGarage  \\\n",
       "0        NotListed  Hospital, Park, Public Transit, Schools           False   \n",
       "1        NotListed  Hospital, Park, Public Transit, Schools            True   \n",
       "2        NotListed                           Public Transit            True   \n",
       "3        NotListed                  Public Transit, Schools            True   \n",
       "4        NotListed                                NotListed            True   \n",
       "\n",
       "   Underground  InsideEntry  Surfaced  Oversize  Gravel  Garage  Shared  \\\n",
       "0        False        False     False     False   False    True   False   \n",
       "1        False        False     False     False   False   False   False   \n",
       "2        False        False     False     False   False   False   False   \n",
       "3        False        False     False     False   False   False   False   \n",
       "4        False        False     False     False   False   False   False   \n",
       "\n",
       "   DetachedGarage  Carport  Interlocked  VisitorParking  \n",
       "0           False    False        False           False  \n",
       "1           False    False        False           False  \n",
       "2           False    False        False           False  \n",
       "3           False    False        False           False  \n",
       "4           False    False        False           False  "
      ]
     },
     "execution_count": 11,
     "metadata": {},
     "output_type": "execute_result"
    }
   ],
   "source": [
    "df_3.head()"
   ]
  },
  {
   "cell_type": "markdown",
   "metadata": {},
   "source": [
    "## If it is true for Attached Garage or Detached Garage, the Garage value should be true too"
   ]
  },
  {
   "cell_type": "code",
   "execution_count": 12,
   "metadata": {},
   "outputs": [],
   "source": [
    "df_3.loc[(df_3['Garage']==True)|(df_3['DetachedGarage']==True)|(df_3['AttachedGarage']==True), 'Garage'] = True\n"
   ]
  },
  {
   "cell_type": "markdown",
   "metadata": {},
   "source": [
    "## totalParkingSpaces"
   ]
  },
  {
   "cell_type": "code",
   "execution_count": 13,
   "metadata": {
    "scrolled": true
   },
   "outputs": [
    {
     "data": {
      "text/plain": [
       "1     3267\n",
       "2     1605\n",
       "      ... \n",
       "63       1\n",
       "19       1\n",
       "Name: totalParkingSpaces, Length: 37, dtype: int64"
      ]
     },
     "execution_count": 13,
     "metadata": {},
     "output_type": "execute_result"
    }
   ],
   "source": [
    "df_3[\"totalParkingSpaces\"].value_counts()"
   ]
  },
  {
   "cell_type": "code",
   "execution_count": 14,
   "metadata": {
    "scrolled": false
   },
   "outputs": [
    {
     "data": {
      "text/plain": [
       "NotListed    307\n",
       "0             45\n",
       "            ... \n",
       "10             1\n",
       "5              1\n",
       "Name: totalParkingSpaces, Length: 8, dtype: int64"
      ]
     },
     "execution_count": 14,
     "metadata": {},
     "output_type": "execute_result"
    }
   ],
   "source": [
    "df_3[df_3[\"typeBuilding\"]==\"Vacant Land\"].totalParkingSpaces.value_counts()"
   ]
  },
  {
   "cell_type": "markdown",
   "metadata": {},
   "source": [
    "## Assume for Vacant Land, if the # parking is not listed, it is 0."
   ]
  },
  {
   "cell_type": "code",
   "execution_count": 15,
   "metadata": {},
   "outputs": [],
   "source": [
    "df_3.loc[(df_3['typeBuilding']==\"Vacant Land\")&(df_3['totalParkingSpaces']==\"NotListed\"), 'totalParkingSpaces'] = '0'\n",
    "df_3.loc[df_3['totalParkingSpaces']==\"0\", 'totalParkingSpaces'] = 0\n"
   ]
  },
  {
   "cell_type": "code",
   "execution_count": 16,
   "metadata": {
    "scrolled": true
   },
   "outputs": [
    {
     "data": {
      "text/plain": [
       "Index(['MLS', 'price', 'city', 'communityName', 'address', 'postal',\n",
       "       'description', 'typeBuilding', 'title', 'bedroomAboveGrade',\n",
       "       'bedroomBelowGrade', 'bathroomTotal', 'bathroomPartial', 'parkingType',\n",
       "       'totalParkingSpaces', 'landSize', 'storeys', 'basementType', 'style',\n",
       "       'buildingAmenities', 'maintenanceFees', 'maintenanceManagementCompany',\n",
       "       'cooling', 'heatingType', 'exteriorFinish', 'buildingFeatures',\n",
       "       'amenitiesNearby', 'AttachedGarage', 'Underground', 'InsideEntry',\n",
       "       'Surfaced', 'Oversize', 'Gravel', 'Garage', 'Shared', 'DetachedGarage',\n",
       "       'Carport', 'Interlocked', 'VisitorParking'],\n",
       "      dtype='object')"
      ]
     },
     "execution_count": 16,
     "metadata": {},
     "output_type": "execute_result"
    }
   ],
   "source": [
    "df_3.columns"
   ]
  },
  {
   "cell_type": "markdown",
   "metadata": {},
   "source": [
    "## Land Size"
   ]
  },
  {
   "cell_type": "code",
   "execution_count": 17,
   "metadata": {
    "scrolled": true
   },
   "outputs": [
    {
     "data": {
      "text/plain": [
       "NotListed                        4408\n",
       "under 1/2 acre                    194\n",
       "                                 ... \n",
       "37.5 x 100 FT ; Irregular Lot       1\n",
       "22.97 x 130.19 FT                   1\n",
       "Name: landSize, Length: 4698, dtype: int64"
      ]
     },
     "execution_count": 17,
     "metadata": {},
     "output_type": "execute_result"
    }
   ],
   "source": [
    "#pd.set_option(\"display.max_rows\", None, \"display.max_columns\", None)\n",
    "df_3[\"landSize\"].value_counts()\n"
   ]
  },
  {
   "cell_type": "markdown",
   "metadata": {},
   "source": [
    "## Square Feet"
   ]
  },
  {
   "cell_type": "code",
   "execution_count": 18,
   "metadata": {},
   "outputs": [],
   "source": [
    "df_3[\"landsizeSQFT\"]=df_3[\"landSize\"][df_3[\"landSize\"].str.count(r'(.*[Xx].*[fF][tT])')==1]"
   ]
  },
  {
   "cell_type": "code",
   "execution_count": 19,
   "metadata": {},
   "outputs": [],
   "source": [
    "df_3[\"landsizeSQFT_width\"]=df_3[\"landsizeSQFT\"].str.extract(r'([0-9.]+)')"
   ]
  },
  {
   "cell_type": "code",
   "execution_count": 20,
   "metadata": {},
   "outputs": [],
   "source": [
    "df_3[\"landsizeSQFT_length\"]=df_3[\"landsizeSQFT\"].str.extract(r'([0-9]*[Xx].[0-9.]*)')\n",
    "df_3[\"landsizeSQFT_length\"]=df_3[\"landsizeSQFT_length\"].str.replace(\"x\", \"\")\n",
    "df_3[\"landsizeSQFT_length\"]=df_3[\"landsizeSQFT_length\"].str.replace(\"X\", \"\")\n"
   ]
  },
  {
   "cell_type": "code",
   "execution_count": 21,
   "metadata": {},
   "outputs": [],
   "source": [
    "## get the square feet of land size\n",
    "df_3[\"landsizeSQFT_width\"]= pd.to_numeric(df_3[\"landsizeSQFT_width\"], errors='coerce')\n",
    "df_3[\"landsizeSQFT_length\"]=pd.to_numeric(df_3[\"landsizeSQFT_length\"], errors='coerce')\n",
    "df_3[\"landsize_SQFT_result\"]= df_3[\"landsizeSQFT_width\"] * df_3[\"landsizeSQFT_length\"]"
   ]
  },
  {
   "cell_type": "markdown",
   "metadata": {},
   "source": [
    "## Square Meter"
   ]
  },
  {
   "cell_type": "code",
   "execution_count": 22,
   "metadata": {},
   "outputs": [],
   "source": [
    "df_3[\"landsizeSQM\"]=df_3[\"landSize\"][df_3[\"landSize\"].str.count(r'(.*[Xx].[0-9.]*\\sM)')==1]\n",
    "df_3[\"landsizeSQM_width\"]=df_3[\"landsizeSQM\"].str.extract(r'([0-9.]+)')\n",
    "df_3[\"landsizeSQM_length\"]=df_3[\"landsizeSQM\"].str.extract(r'([0-9]*[Xx].[0-9.]*)')\n",
    "df_3[\"landsizeSQM_length\"]=df_3[\"landsizeSQM_length\"].str.replace(\"x\", \"\")\n",
    "df_3[\"landsizeSQM_length\"]=df_3[\"landsizeSQM_length\"].str.replace(\"X\", \"\")\n",
    "\n",
    "df_3[\"landsizeSQM_width\"]= pd.to_numeric(df_3[\"landsizeSQM_width\"], errors='coerce')\n",
    "df_3[\"landsizeSQM_length\"]=pd.to_numeric(df_3[\"landsizeSQM_length\"], errors='coerce')\n",
    "\n",
    "df_3[\"landsizeSQM_resultSQFT\"]=df_3[\"landsizeSQM_width\"] * df_3[\"landsizeSQM_length\"] * 10.764\n",
    "\n",
    "df_3.loc[df_3['landsize_SQFT_result'].isnull(), 'landsize_SQFT_result'] = df_3['landsizeSQM_resultSQFT']\n"
   ]
  },
  {
   "cell_type": "markdown",
   "metadata": {},
   "source": [
    "## acres"
   ]
  },
  {
   "cell_type": "code",
   "execution_count": 23,
   "metadata": {},
   "outputs": [],
   "source": [
    "df_3[\"landsizeACRES\"]=df_3[\"landSize\"][df_3[\"landSize\"].str.count(r'([0-9.]*acre)')==1]\n",
    "df_3[\"landsizeACRES\"]=df_3[\"landsizeACRES\"].str.replace(\"1/2\", \"0.5\")\n",
    "df_3[\"landsizeACRES_result\"]=df_3[\"landsizeACRES\"].str[::-1].str.extract(r'(\\d+.?\\d+)', expand=False)\n",
    "df_3[\"landsizeACRES_result\"]=df_3[\"landsizeACRES_result\"].str[::-1]\n",
    "\n",
    "df_3[\"landsizeACRES_result\"]= pd.to_numeric(df_3[\"landsizeACRES_result\"], errors='coerce')\n",
    "\n",
    "df_3[\"landsizeACRES_resultSQFT\"] = df_3[\"landsizeACRES_result\"] * 43560 ##convert acre to square foot\n",
    "\n",
    "df_3.loc[df_3['landsize_SQFT_result'].isnull(), 'landsize_SQFT_result'] = df_3['landsizeACRES_resultSQFT']\n"
   ]
  },
  {
   "cell_type": "markdown",
   "metadata": {},
   "source": [
    "## ac"
   ]
  },
  {
   "cell_type": "code",
   "execution_count": 24,
   "metadata": {},
   "outputs": [],
   "source": [
    "df_3[\"landsizeAC\"]=df_3[\"landSize\"][df_3[\"landSize\"].str.count(r'([0-9.]*\\sac$)')==1]\n",
    "df_3[\"landsizeAC_result\"]=df_3[\"landsizeAC\"].str.replace(' ac','')\n",
    "df_3[\"landsizeAC_result\"]= pd.to_numeric(df_3[\"landsizeAC_result\"], errors='coerce')\n",
    "df_3[\"landsizeAC_resultSQFT\"] = df_3[\"landsizeAC_result\"] * 43560 ##convert acre to square foot\n",
    "\n",
    "df_3.loc[df_3['landsize_SQFT_result'].isnull(), 'landsize_SQFT_result'] = df_3['landsizeAC_resultSQFT']\n"
   ]
  },
  {
   "cell_type": "code",
   "execution_count": 25,
   "metadata": {},
   "outputs": [],
   "source": [
    "## remove \"landsizeSQFT_width\" ,\"landsizeSQFT_length\" and \"landsizeSQFT\"\n",
    "## rename \"landsize_SQFT_result\" to \"landSize(sqft)\"\n",
    "df_3=df_3.drop([\"landsizeSQFT_width\", \"landsizeSQFT_length\", \"landsizeSQFT\", \"landsizeSQM_width\", \"landsizeSQM_length\", \"landsizeSQM\", \"landsizeSQM_resultSQFT\", \"landsizeACRES\",\"landsizeACRES_result\", \"landsizeACRES_resultSQFT\", \"landsizeAC\", \"landsizeAC_result\", \"landsizeAC_resultSQFT\"], axis=1)\n",
    "df_3 = df_3.rename(columns={'landsize_SQFT_result':'landSize_sqft'})"
   ]
  },
  {
   "cell_type": "code",
   "execution_count": 26,
   "metadata": {
    "scrolled": true
   },
   "outputs": [
    {
     "data": {
      "text/html": [
       "<div>\n",
       "<style scoped>\n",
       "    .dataframe tbody tr th:only-of-type {\n",
       "        vertical-align: middle;\n",
       "    }\n",
       "\n",
       "    .dataframe tbody tr th {\n",
       "        vertical-align: top;\n",
       "    }\n",
       "\n",
       "    .dataframe thead th {\n",
       "        text-align: right;\n",
       "    }\n",
       "</style>\n",
       "<table border=\"1\" class=\"dataframe\">\n",
       "  <thead>\n",
       "    <tr style=\"text-align: right;\">\n",
       "      <th></th>\n",
       "      <th>MLS</th>\n",
       "      <th>price</th>\n",
       "      <th>city</th>\n",
       "      <th>communityName</th>\n",
       "      <th>address</th>\n",
       "      <th>postal</th>\n",
       "      <th>description</th>\n",
       "      <th>typeBuilding</th>\n",
       "      <th>title</th>\n",
       "      <th>bedroomAboveGrade</th>\n",
       "      <th>bedroomBelowGrade</th>\n",
       "      <th>bathroomTotal</th>\n",
       "      <th>bathroomPartial</th>\n",
       "      <th>parkingType</th>\n",
       "      <th>totalParkingSpaces</th>\n",
       "      <th>landSize</th>\n",
       "      <th>storeys</th>\n",
       "      <th>basementType</th>\n",
       "      <th>style</th>\n",
       "      <th>buildingAmenities</th>\n",
       "      <th>maintenanceFees</th>\n",
       "      <th>maintenanceManagementCompany</th>\n",
       "      <th>cooling</th>\n",
       "      <th>heatingType</th>\n",
       "      <th>exteriorFinish</th>\n",
       "      <th>buildingFeatures</th>\n",
       "      <th>amenitiesNearby</th>\n",
       "      <th>AttachedGarage</th>\n",
       "      <th>Underground</th>\n",
       "      <th>InsideEntry</th>\n",
       "      <th>Surfaced</th>\n",
       "      <th>Oversize</th>\n",
       "      <th>Gravel</th>\n",
       "      <th>Garage</th>\n",
       "      <th>Shared</th>\n",
       "      <th>DetachedGarage</th>\n",
       "      <th>Carport</th>\n",
       "      <th>Interlocked</th>\n",
       "      <th>VisitorParking</th>\n",
       "      <th>landSize_sqft</th>\n",
       "    </tr>\n",
       "  </thead>\n",
       "  <tbody>\n",
       "    <tr>\n",
       "      <th>4586</th>\n",
       "      <td>1236006</td>\n",
       "      <td>1150000</td>\n",
       "      <td>Ottawa</td>\n",
       "      <td>NotListed</td>\n",
       "      <td>146 RIVINGTON STREETCarp</td>\n",
       "      <td>K0A1L0</td>\n",
       "      <td>DEVELOPMENT OPPOURTUNITY! Waterfront ideal sit...</td>\n",
       "      <td>Vacant Land</td>\n",
       "      <td>Freehold</td>\n",
       "      <td>0</td>\n",
       "      <td>0</td>\n",
       "      <td>0</td>\n",
       "      <td>0</td>\n",
       "      <td>[NotListed]</td>\n",
       "      <td>0</td>\n",
       "      <td>0.76 ac</td>\n",
       "      <td>NotListed</td>\n",
       "      <td>Unknown (Not Applicable)</td>\n",
       "      <td>NotListed</td>\n",
       "      <td>NotListed</td>\n",
       "      <td>NotListed</td>\n",
       "      <td>NotListed</td>\n",
       "      <td>NotListed</td>\n",
       "      <td>NotListed</td>\n",
       "      <td>NotListed</td>\n",
       "      <td>NotListed</td>\n",
       "      <td>Shopping, Water Nearby</td>\n",
       "      <td>False</td>\n",
       "      <td>False</td>\n",
       "      <td>False</td>\n",
       "      <td>False</td>\n",
       "      <td>False</td>\n",
       "      <td>False</td>\n",
       "      <td>False</td>\n",
       "      <td>False</td>\n",
       "      <td>False</td>\n",
       "      <td>False</td>\n",
       "      <td>False</td>\n",
       "      <td>False</td>\n",
       "      <td>33105.6</td>\n",
       "    </tr>\n",
       "  </tbody>\n",
       "</table>\n",
       "</div>"
      ],
      "text/plain": [
       "          MLS    price    city communityName                   address  \\\n",
       "4586  1236006  1150000  Ottawa     NotListed  146 RIVINGTON STREETCarp   \n",
       "\n",
       "      postal                                        description typeBuilding  \\\n",
       "4586  K0A1L0  DEVELOPMENT OPPOURTUNITY! Waterfront ideal sit...  Vacant Land   \n",
       "\n",
       "         title bedroomAboveGrade  bedroomBelowGrade  bathroomTotal  \\\n",
       "4586  Freehold                 0                  0              0   \n",
       "\n",
       "      bathroomPartial  parkingType totalParkingSpaces landSize    storeys  \\\n",
       "4586                0  [NotListed]                  0  0.76 ac  NotListed   \n",
       "\n",
       "                  basementType      style buildingAmenities maintenanceFees  \\\n",
       "4586  Unknown (Not Applicable)  NotListed         NotListed       NotListed   \n",
       "\n",
       "     maintenanceManagementCompany    cooling heatingType exteriorFinish  \\\n",
       "4586                    NotListed  NotListed   NotListed      NotListed   \n",
       "\n",
       "     buildingFeatures         amenitiesNearby  AttachedGarage  Underground  \\\n",
       "4586        NotListed  Shopping, Water Nearby           False        False   \n",
       "\n",
       "      InsideEntry  Surfaced  Oversize  Gravel  Garage  Shared  DetachedGarage  \\\n",
       "4586        False     False     False   False   False   False           False   \n",
       "\n",
       "      Carport  Interlocked  VisitorParking  landSize_sqft  \n",
       "4586    False        False           False        33105.6  "
      ]
     },
     "execution_count": 26,
     "metadata": {},
     "output_type": "execute_result"
    }
   ],
   "source": [
    "df_3.iloc[[4586]]"
   ]
  },
  {
   "cell_type": "code",
   "execution_count": 27,
   "metadata": {
    "scrolled": true
   },
   "outputs": [
    {
     "data": {
      "text/plain": [
       "4570"
      ]
     },
     "execution_count": 27,
     "metadata": {},
     "output_type": "execute_result"
    }
   ],
   "source": [
    "#missing values\n",
    "df_3.landSize_sqft.isna().sum()"
   ]
  },
  {
   "cell_type": "markdown",
   "metadata": {},
   "source": [
    "## Can be deleted later, START"
   ]
  },
  {
   "cell_type": "markdown",
   "metadata": {},
   "source": [
    "## Check the landSize value other than \" x FT\""
   ]
  },
  {
   "cell_type": "markdown",
   "metadata": {},
   "source": [
    "## Get the square Meter, and the specific acre. \n",
    "## under 1/2 acre ==1/2 acre\n",
    "## Others are considered missing."
   ]
  },
  {
   "cell_type": "code",
   "execution_count": 28,
   "metadata": {
    "scrolled": true
   },
   "outputs": [
    {
     "data": {
      "text/plain": [
       "1              NotListed\n",
       "15       45.11 x 82.82 M\n",
       "              ...       \n",
       "10248          NotListed\n",
       "10250          NotListed\n",
       "Name: landSize, Length: 5685, dtype: object"
      ]
     },
     "execution_count": 28,
     "metadata": {},
     "output_type": "execute_result"
    }
   ],
   "source": [
    "series=df_3[\"landSize\"][df_3[\"landSize\"].str.count(r'(.*[Xx].*[fF][tT])')!=1]\n",
    "series"
   ]
  },
  {
   "cell_type": "code",
   "execution_count": 29,
   "metadata": {
    "scrolled": true
   },
   "outputs": [
    {
     "data": {
      "text/plain": [
       "15       45.11 x 82.82 M\n",
       "26        15.25 x 30.5 M\n",
       "              ...       \n",
       "9979      4.35 x 12.46 M\n",
       "10159           4 x 17 M\n",
       "Name: landSize, Length: 26, dtype: object"
      ]
     },
     "execution_count": 29,
     "metadata": {},
     "output_type": "execute_result"
    }
   ],
   "source": [
    "series=df_3[\"landSize\"][df_3[\"landSize\"].str.count(r'(.*[Xx].[0-9.]*\\sM)')==1]\n",
    "series"
   ]
  },
  {
   "cell_type": "code",
   "execution_count": 30,
   "metadata": {},
   "outputs": [
    {
     "data": {
      "text/plain": [
       "58      under 1/2 acre\n",
       "65      under 1/2 acre\n",
       "             ...      \n",
       "9855    under 1/2 acre\n",
       "9898    under 1/2 acre\n",
       "Name: landSize, Length: 910, dtype: object"
      ]
     },
     "execution_count": 30,
     "metadata": {},
     "output_type": "execute_result"
    }
   ],
   "source": [
    "series=df_3[\"landSize\"][df_3[\"landSize\"].str.count(r'([0-9.]*acre)')==1]\n",
    "series"
   ]
  },
  {
   "cell_type": "code",
   "execution_count": 31,
   "metadata": {},
   "outputs": [
    {
     "data": {
      "text/plain": [
       "58      0.5\n",
       "65      0.5\n",
       "       ... \n",
       "9855    0.5\n",
       "9898    0.5\n",
       "Name: landSize, Length: 910, dtype: object"
      ]
     },
     "execution_count": 31,
     "metadata": {},
     "output_type": "execute_result"
    }
   ],
   "source": [
    "series=series.str.replace(\"1/2\", \"0.5\")\n",
    "new=series.str[::-1].str.extract(r'(\\d+.?[\\d+]?)', expand=False)\n",
    "#(r'((?=.*)\\s.*(?=.ac))')#r'(\\s.*(?=.ac))')\n",
    "\n",
    "new=new.str[::-1]\n",
    "new"
   ]
  },
  {
   "cell_type": "code",
   "execution_count": 32,
   "metadata": {
    "scrolled": true
   },
   "outputs": [
    {
     "data": {
      "text/html": [
       "<div>\n",
       "<style scoped>\n",
       "    .dataframe tbody tr th:only-of-type {\n",
       "        vertical-align: middle;\n",
       "    }\n",
       "\n",
       "    .dataframe tbody tr th {\n",
       "        vertical-align: top;\n",
       "    }\n",
       "\n",
       "    .dataframe thead th {\n",
       "        text-align: right;\n",
       "    }\n",
       "</style>\n",
       "<table border=\"1\" class=\"dataframe\">\n",
       "  <thead>\n",
       "    <tr style=\"text-align: right;\">\n",
       "      <th></th>\n",
       "      <th>0</th>\n",
       "    </tr>\n",
       "  </thead>\n",
       "  <tbody>\n",
       "    <tr>\n",
       "      <th>58</th>\n",
       "      <td>NaN</td>\n",
       "    </tr>\n",
       "    <tr>\n",
       "      <th>65</th>\n",
       "      <td>NaN</td>\n",
       "    </tr>\n",
       "    <tr>\n",
       "      <th>...</th>\n",
       "      <td>...</td>\n",
       "    </tr>\n",
       "    <tr>\n",
       "      <th>9855</th>\n",
       "      <td>NaN</td>\n",
       "    </tr>\n",
       "    <tr>\n",
       "      <th>9898</th>\n",
       "      <td>NaN</td>\n",
       "    </tr>\n",
       "  </tbody>\n",
       "</table>\n",
       "<p>910 rows × 1 columns</p>\n",
       "</div>"
      ],
      "text/plain": [
       "        0\n",
       "58    NaN\n",
       "65    NaN\n",
       "...   ...\n",
       "9855  NaN\n",
       "9898  NaN\n",
       "\n",
       "[910 rows x 1 columns]"
      ]
     },
     "execution_count": 32,
     "metadata": {},
     "output_type": "execute_result"
    }
   ],
   "source": [
    "seriesnew=series.str.extract(r'([0-9]*[Xx].[0-9.]*)')\n",
    "seriesnew[0]=seriesnew[0].str.replace(\"x\", \"\")\n",
    "seriesnew[0]=seriesnew[0].str.replace(\"X\", \"\")\n",
    "seriesnew"
   ]
  },
  {
   "cell_type": "code",
   "execution_count": 33,
   "metadata": {},
   "outputs": [
    {
     "data": {
      "text/plain": [
       "58      under 1/2 acre\n",
       "65      under 1/2 acre\n",
       "             ...      \n",
       "9855    under 1/2 acre\n",
       "9898    under 1/2 acre\n",
       "Name: landSize, Length: 910, dtype: object"
      ]
     },
     "execution_count": 33,
     "metadata": {},
     "output_type": "execute_result"
    }
   ],
   "source": [
    "series=df_3[\"landSize\"][df_3[\"landSize\"].str.count(r'([0-9.]*acre)')==1]\n",
    "series"
   ]
  },
  {
   "cell_type": "code",
   "execution_count": 34,
   "metadata": {
    "scrolled": true
   },
   "outputs": [
    {
     "data": {
      "text/plain": [
       "3452     1.5 ac\n",
       "3453    0.18 ac\n",
       "         ...   \n",
       "4780     0.2 ac\n",
       "4791    2.85 ac\n",
       "Name: landSize, Length: 288, dtype: object"
      ]
     },
     "execution_count": 34,
     "metadata": {},
     "output_type": "execute_result"
    }
   ],
   "source": [
    "series=df_3[\"landSize\"][df_3[\"landSize\"].str.count(r'([0-9.]*\\sac$)')==1]\n",
    "series"
   ]
  },
  {
   "cell_type": "code",
   "execution_count": 35,
   "metadata": {},
   "outputs": [
    {
     "data": {
      "text/plain": [
       "3452     1.5\n",
       "3453    0.18\n",
       "        ... \n",
       "4780     0.2\n",
       "4791    2.85\n",
       "Name: landSize, Length: 288, dtype: object"
      ]
     },
     "execution_count": 35,
     "metadata": {},
     "output_type": "execute_result"
    }
   ],
   "source": [
    "new=series.str.replace(' ac','')\n",
    "#(r'((?=.*)\\s.*(?=.ac))')#r'(\\s.*(?=.ac))')\n",
    "#new=series.str.extract(r'(\\d+.?[\\d+]?)', expand=False)\n",
    "new"
   ]
  },
  {
   "cell_type": "markdown",
   "metadata": {},
   "source": [
    "## Can be deleted, END"
   ]
  },
  {
   "cell_type": "code",
   "execution_count": 36,
   "metadata": {},
   "outputs": [],
   "source": [
    "#pd.set_option(\"display.max_rows\", 5)"
   ]
  },
  {
   "cell_type": "markdown",
   "metadata": {},
   "source": [
    "## Deal with storeys"
   ]
  },
  {
   "cell_type": "code",
   "execution_count": 37,
   "metadata": {
    "scrolled": true
   },
   "outputs": [
    {
     "data": {
      "text/plain": [
       "NotListed    4143\n",
       "2            3570\n",
       "             ... \n",
       "0               1\n",
       "24              1\n",
       "Name: storeys, Length: 26, dtype: int64"
      ]
     },
     "execution_count": 37,
     "metadata": {},
     "output_type": "execute_result"
    }
   ],
   "source": [
    "df_3[\"storeys\"].value_counts()"
   ]
  },
  {
   "cell_type": "code",
   "execution_count": 38,
   "metadata": {},
   "outputs": [
    {
     "data": {
      "text/plain": [
       "Apartment              3148\n",
       "House                   401\n",
       "                       ... \n",
       "Other                     2\n",
       "Manufactured/mobile       1\n",
       "Name: typeBuilding, Length: 9, dtype: int64"
      ]
     },
     "execution_count": 38,
     "metadata": {},
     "output_type": "execute_result"
    }
   ],
   "source": [
    "df_3[df_3[\"storeys\"]==\"NotListed\"].typeBuilding.value_counts()"
   ]
  },
  {
   "cell_type": "markdown",
   "metadata": {},
   "source": [
    "## For Vacant Land, Assume there is no storey"
   ]
  },
  {
   "cell_type": "code",
   "execution_count": 39,
   "metadata": {},
   "outputs": [],
   "source": [
    "df_3.loc[(df_3['storeys']==\"NotListed\")&(df_3['typeBuilding']==\"Vacant Land\"), \"storeys\"] = 0\n",
    "df_3.loc[df_3['storeys']==\"0\", 'storeys'] = 0\n"
   ]
  },
  {
   "cell_type": "markdown",
   "metadata": {},
   "source": [
    "## For Not Listed, all building types except vacant land , assume there is only 1 storey"
   ]
  },
  {
   "cell_type": "code",
   "execution_count": 40,
   "metadata": {},
   "outputs": [],
   "source": [
    "df_3.loc[(df_3['storeys']==\"NotListed\")&(df_3['typeBuilding']!=\"Vacant Land\"), \"storeys\"] = 1\n",
    "df_3.loc[df_3['storeys']==\"1\", 'storeys'] = 1\n"
   ]
  },
  {
   "cell_type": "markdown",
   "metadata": {},
   "source": [
    "## Basement Type"
   ]
  },
  {
   "cell_type": "code",
   "execution_count": 41,
   "metadata": {
    "scrolled": false
   },
   "outputs": [
    {
     "data": {
      "text/plain": [
       "NotListed                       3777\n",
       "N/A (Finished)                  2580\n",
       "                                ... \n",
       "Unknown (Partially finished)       1\n",
       "Partial (Not Applicable)           1\n",
       "Name: basementType, Length: 35, dtype: int64"
      ]
     },
     "execution_count": 41,
     "metadata": {},
     "output_type": "execute_result"
    }
   ],
   "source": [
    "df_3[\"basementType\"].value_counts()"
   ]
  },
  {
   "cell_type": "markdown",
   "metadata": {},
   "source": [
    "The basement types I developed as follows:  \n",
    "  * None\n",
    "  * Full\n",
    "  * Partial\n",
    "  * Cellar\n",
    "  * Craw Space\n",
    "  * Common  \n",
    "The basement finish as follows:\n",
    "  * Finished\n",
    "  * Partially Finished\n",
    "  * Unfinished\n",
    "  * None"
   ]
  },
  {
   "cell_type": "markdown",
   "metadata": {},
   "source": [
    "## Add new column basementTypeN and  basementFinish"
   ]
  },
  {
   "cell_type": "markdown",
   "metadata": {},
   "source": [
    "## Assume that  properties whose basement are not listed has no basement"
   ]
  },
  {
   "cell_type": "code",
   "execution_count": 42,
   "metadata": {},
   "outputs": [],
   "source": [
    "df_3.loc[df_3['basementType']==\"NotListed\", \"basementTypeN\"] = \"None\"\n",
    "df_3.loc[df_3['basementType']==\"NotListed\", \"basementFinish\"] = \"None\""
   ]
  },
  {
   "cell_type": "markdown",
   "metadata": {},
   "source": [
    "## Process basementType \"None\""
   ]
  },
  {
   "cell_type": "code",
   "execution_count": 43,
   "metadata": {},
   "outputs": [],
   "source": [
    "df_3.loc[df_3['basementType']==\"N/A (Finished)\", \"basementTypeN\"] = \"None\"\n",
    "df_3.loc[df_3['basementType']==\"N/A (Finished)\", \"basementFinish\"] = \"Finished\""
   ]
  },
  {
   "cell_type": "code",
   "execution_count": 44,
   "metadata": {},
   "outputs": [],
   "source": [
    "df_3.loc[df_3['basementType']==\"None (Not Applicable)\", \"basementTypeN\"] = \"None\"\n",
    "df_3.loc[df_3['basementType']==\"None (Not Applicable)\", \"basementFinish\"] = \"None\""
   ]
  },
  {
   "cell_type": "code",
   "execution_count": 45,
   "metadata": {},
   "outputs": [],
   "source": [
    "df_3.loc[df_3['basementType']==\"N/A (Unfinished)\", \"basementTypeN\"] = \"None\"\n",
    "df_3.loc[df_3['basementType']==\"N/A (Unfinished)\", \"basementFinish\"] = \"Unfinished\""
   ]
  },
  {
   "cell_type": "code",
   "execution_count": 46,
   "metadata": {},
   "outputs": [],
   "source": [
    "df_3.loc[df_3['basementType']==\"N/A (Partially finished)\", \"basementTypeN\"] = \"None\"\n",
    "df_3.loc[df_3['basementType']==\"N/A (Partially finished)\", \"basementFinish\"] = \"Partially finished\""
   ]
  },
  {
   "cell_type": "code",
   "execution_count": 47,
   "metadata": {},
   "outputs": [],
   "source": [
    "df_3.loc[df_3['basementType']==\"Unknown (Not Applicable)\", \"basementTypeN\"] = \"None\"\n",
    "df_3.loc[df_3['basementType']==\"Unknown (Not Applicable)\", \"basementFinish\"] = \"None\""
   ]
  },
  {
   "cell_type": "code",
   "execution_count": 48,
   "metadata": {},
   "outputs": [],
   "source": [
    "df_3.loc[df_3['basementType']==\"Unknown (Unfinished)\", \"basementTypeN\"] = \"None\"\n",
    "df_3.loc[df_3['basementType']==\"Unknown (Unfinished)\", \"basementFinish\"] = \"Unfinished\""
   ]
  },
  {
   "cell_type": "code",
   "execution_count": 49,
   "metadata": {},
   "outputs": [],
   "source": [
    "df_3.loc[df_3['basementType']==\"None (Unfinished)\", \"basementTypeN\"] = \"None\"\n",
    "df_3.loc[df_3['basementType']==\"None (Unfinished)\", \"basementFinish\"] = \"Unfinished\""
   ]
  },
  {
   "cell_type": "code",
   "execution_count": 50,
   "metadata": {},
   "outputs": [],
   "source": [
    "df_3.loc[df_3['basementType']==\"See Remarks (Not Applicable)\", \"basementTypeN\"] = \"None\"\n",
    "df_3.loc[df_3['basementType']==\"See Remarks (Not Applicable)\", \"basementFinish\"] = \"None\""
   ]
  },
  {
   "cell_type": "code",
   "execution_count": 51,
   "metadata": {},
   "outputs": [],
   "source": [
    "df_3.loc[df_3['basementType']==\"None (Finished)\", \"basementTypeN\"] = \"None\"\n",
    "df_3.loc[df_3['basementType']==\"None (Finished)\", \"basementFinish\"] = \"Finished\""
   ]
  },
  {
   "cell_type": "code",
   "execution_count": 52,
   "metadata": {},
   "outputs": [],
   "source": [
    "df_3.loc[df_3['basementType']==\"Unknown (Finished)\", \"basementTypeN\"] = \"None\"\n",
    "df_3.loc[df_3['basementType']==\"Unknown (Finished)\", \"basementFinish\"] = \"Finished\""
   ]
  },
  {
   "cell_type": "code",
   "execution_count": 53,
   "metadata": {},
   "outputs": [],
   "source": [
    "df_3.loc[df_3['basementType']==\"Unknown (Partially finished)\", \"basementTypeN\"] = \"None\"\n",
    "df_3.loc[df_3['basementType']==\"Unknown (Partially finished)\", \"basementFinish\"] = \"Partially finished\""
   ]
  },
  {
   "cell_type": "code",
   "execution_count": 54,
   "metadata": {},
   "outputs": [],
   "source": [
    "df_3.loc[df_3['basementType']==\"See Remarks (Finished)\", \"basementTypeN\"] = \"None\"\n",
    "df_3.loc[df_3['basementType']==\"See Remarks (Finished)\", \"basementFinish\"] = \"Finished\"\n"
   ]
  },
  {
   "cell_type": "code",
   "execution_count": 55,
   "metadata": {},
   "outputs": [],
   "source": [
    "df_3.loc[df_3['basementType']==\"See Remarks (Unfinished)\", \"basementTypeN\"] = \"None\"\n",
    "df_3.loc[df_3['basementType']==\"See Remarks (Unfinished)\", \"basementFinish\"] = \"Unfinished\""
   ]
  },
  {
   "cell_type": "markdown",
   "metadata": {},
   "source": [
    "## Process basementType Full"
   ]
  },
  {
   "cell_type": "code",
   "execution_count": 56,
   "metadata": {},
   "outputs": [],
   "source": [
    "df_3.loc[df_3['basementType']==\"Full (Finished)\", \"basementTypeN\"] = \"Full\"\n",
    "df_3.loc[df_3['basementType']==\"Full (Finished)\", \"basementFinish\"] = \"Finished\""
   ]
  },
  {
   "cell_type": "code",
   "execution_count": 57,
   "metadata": {},
   "outputs": [],
   "source": [
    "df_3.loc[df_3['basementType']==\"Full (Unfinished)\", \"basementTypeN\"] = \"Full\"\n",
    "df_3.loc[df_3['basementType']==\"Full (Unfinished)\", \"basementFinish\"] = \"Unfinished\""
   ]
  },
  {
   "cell_type": "code",
   "execution_count": 58,
   "metadata": {},
   "outputs": [],
   "source": [
    "df_3.loc[df_3['basementType']==\"Full (Partially finished)\", \"basementTypeN\"] = \"Full\"\n",
    "df_3.loc[df_3['basementType']==\"Full (Partially finished)\", \"basementFinish\"] = \"Partially finished\""
   ]
  },
  {
   "cell_type": "markdown",
   "metadata": {},
   "source": [
    " Assume \"Full\" basement type is unfinished"
   ]
  },
  {
   "cell_type": "code",
   "execution_count": 59,
   "metadata": {},
   "outputs": [],
   "source": [
    "df_3.loc[df_3['basementType']==\"Full\", \"basementTypeN\"] = \"Full\"\n",
    "df_3.loc[df_3['basementType']==\"Full\", \"basementFinish\"] = \"Unfinished\""
   ]
  },
  {
   "cell_type": "code",
   "execution_count": 60,
   "metadata": {},
   "outputs": [],
   "source": [
    "df_3.loc[df_3['basementType']==\"Full (Not Applicable)\", \"basementTypeN\"] = \"Full\"\n",
    "df_3.loc[df_3['basementType']==\"Full (Not Applicable)\", \"basementFinish\"] = \"Unfinished\"\n"
   ]
  },
  {
   "cell_type": "markdown",
   "metadata": {},
   "source": [
    "## Process basementType Partial"
   ]
  },
  {
   "cell_type": "code",
   "execution_count": 61,
   "metadata": {},
   "outputs": [],
   "source": [
    "df_3.loc[df_3['basementType']==\"Partial (Unfinished)\", \"basementTypeN\"] = \"Partial\"\n",
    "df_3.loc[df_3['basementType']==\"Partial (Unfinished)\", \"basementFinish\"] = \"Unfinished\""
   ]
  },
  {
   "cell_type": "code",
   "execution_count": 62,
   "metadata": {},
   "outputs": [],
   "source": [
    "df_3.loc[df_3['basementType']==\"Partial (Finished)\", \"basementTypeN\"] = \"Partial\"\n",
    "df_3.loc[df_3['basementType']==\"Partial (Finished)\", \"basementFinish\"] = \"Finished\""
   ]
  },
  {
   "cell_type": "markdown",
   "metadata": {},
   "source": [
    "assume \"partial\" is unfinished"
   ]
  },
  {
   "cell_type": "code",
   "execution_count": 63,
   "metadata": {},
   "outputs": [],
   "source": [
    "df_3.loc[df_3['basementType']==\"Partial\", \"basementTypeN\"] = \"Partial\"\n",
    "df_3.loc[df_3['basementType']==\"Partial\", \"basementFinish\"] = \"Unfinished\""
   ]
  },
  {
   "cell_type": "code",
   "execution_count": 64,
   "metadata": {},
   "outputs": [],
   "source": [
    "df_3.loc[df_3['basementType']==\"Partial (Not Applicable)\", \"basementTypeN\"] = \"Partial\"\n",
    "df_3.loc[df_3['basementType']==\"Partial (Not Applicable)\", \"basementFinish\"] = \"Unfinished\""
   ]
  },
  {
   "cell_type": "code",
   "execution_count": 65,
   "metadata": {},
   "outputs": [],
   "source": [
    "df_3.loc[df_3['basementType']==\"Partial (Partially finished)\", \"basementTypeN\"] = \"Partial\"\n",
    "df_3.loc[df_3['basementType']==\"Partial (Partially finished)\", \"basementFinish\"] = \"Partially finished\"\n"
   ]
  },
  {
   "cell_type": "markdown",
   "metadata": {},
   "source": [
    "## Process basementType Cellar"
   ]
  },
  {
   "cell_type": "code",
   "execution_count": 66,
   "metadata": {},
   "outputs": [],
   "source": [
    "df_3.loc[df_3['basementType']==\"Cellar (Unfinished)\", \"basementTypeN\"] = \"Cellar\"\n",
    "df_3.loc[df_3['basementType']==\"Cellar (Unfinished)\", \"basementFinish\"] = \"Unfinished\""
   ]
  },
  {
   "cell_type": "markdown",
   "metadata": {},
   "source": [
    "## Process basementType Craw Space"
   ]
  },
  {
   "cell_type": "markdown",
   "metadata": {},
   "source": [
    "Assume \"Crawl Space\" is unfinished"
   ]
  },
  {
   "cell_type": "code",
   "execution_count": 67,
   "metadata": {},
   "outputs": [],
   "source": [
    "df_3.loc[df_3['basementType']==\"Crawl space\", \"basementTypeN\"] = \"Crawl Space\"\n",
    "df_3.loc[df_3['basementType']==\"Crawl space\", \"basementFinish\"] = \"Unfinished\"\n"
   ]
  },
  {
   "cell_type": "code",
   "execution_count": 68,
   "metadata": {},
   "outputs": [],
   "source": [
    "df_3.loc[df_3['basementType']==\"Crawl space (Unfinished)\", \"basementTypeN\"] = \"Crawl Space\"\n",
    "df_3.loc[df_3['basementType']==\"Crawl space (Unfinished)\", \"basementFinish\"] = \"Unfinished\""
   ]
  },
  {
   "cell_type": "code",
   "execution_count": 69,
   "metadata": {},
   "outputs": [],
   "source": [
    "df_3.loc[df_3['basementType']==\"Crawl space (Finished)\", \"basementTypeN\"] = \"Crawl Space\"\n",
    "df_3.loc[df_3['basementType']==\"Crawl space (Finished)\", \"basementFinish\"] = \"Finished\""
   ]
  },
  {
   "cell_type": "code",
   "execution_count": 70,
   "metadata": {},
   "outputs": [],
   "source": [
    "df_3.loc[df_3['basementType']==\"Crawl space (Partially finished)\", \"basementTypeN\"] = \"Crawl Space\"\n",
    "df_3.loc[df_3['basementType']==\"Crawl space (Partially finished)\", \"basementFinish\"] = \"Partially finished\""
   ]
  },
  {
   "cell_type": "markdown",
   "metadata": {},
   "source": [
    "Assume \"Crawl Space (Not Applicable)\" is unfinished"
   ]
  },
  {
   "cell_type": "code",
   "execution_count": 71,
   "metadata": {},
   "outputs": [],
   "source": [
    "df_3.loc[df_3['basementType']==\"Crawl space (Not Applicable)\", \"basementTypeN\"] = \"Crawl Space\"\n",
    "df_3.loc[df_3['basementType']==\"Crawl space (Not Applicable)\", \"basementFinish\"] = \"Unfinished\""
   ]
  },
  {
   "cell_type": "markdown",
   "metadata": {},
   "source": [
    "## process basementType Common"
   ]
  },
  {
   "cell_type": "markdown",
   "metadata": {},
   "source": [
    "Assume \"Common (Not Applicable)\" is unfinished"
   ]
  },
  {
   "cell_type": "code",
   "execution_count": 72,
   "metadata": {},
   "outputs": [],
   "source": [
    "df_3.loc[df_3['basementType']==\"Common (Not Applicable)\", \"basementTypeN\"] = \"Common\"\n",
    "df_3.loc[df_3['basementType']==\"Common (Not Applicable)\", \"basementFinish\"] = \"Unfinished\""
   ]
  },
  {
   "cell_type": "code",
   "execution_count": 73,
   "metadata": {},
   "outputs": [],
   "source": [
    "df_3.loc[df_3['basementType']==\"Common (Unfinished)\", \"basementTypeN\"] = \"Common\"\n",
    "df_3.loc[df_3['basementType']==\"Common (Unfinished)\", \"basementFinish\"] = \"Unfinished\"\n"
   ]
  },
  {
   "cell_type": "code",
   "execution_count": 74,
   "metadata": {},
   "outputs": [],
   "source": [
    "df_3.loc[df_3['basementType']==\"Common (Finished)\", \"basementTypeN\"] = \"Common\"\n",
    "df_3.loc[df_3['basementType']==\"Common (Finished)\", \"basementFinish\"] = \"Finished\""
   ]
  },
  {
   "cell_type": "code",
   "execution_count": 75,
   "metadata": {},
   "outputs": [],
   "source": [
    "df_3.loc[df_3['basementType']==\"Common (Partially finished)\", \"basementTypeN\"] = \"Common\"\n",
    "df_3.loc[df_3['basementType']==\"Common (Partially finished)\", \"basementFinish\"] = \"Partially finished\""
   ]
  },
  {
   "cell_type": "code",
   "execution_count": 76,
   "metadata": {
    "scrolled": false
   },
   "outputs": [
    {
     "data": {
      "text/plain": [
       "None      7213\n",
       "Full      2056\n",
       "          ... \n",
       "Common      35\n",
       "Cellar       4\n",
       "Name: basementTypeN, Length: 6, dtype: int64"
      ]
     },
     "execution_count": 76,
     "metadata": {},
     "output_type": "execute_result"
    }
   ],
   "source": [
    "df_3[\"basementTypeN\"].value_counts()"
   ]
  },
  {
   "cell_type": "code",
   "execution_count": 77,
   "metadata": {
    "scrolled": true
   },
   "outputs": [
    {
     "data": {
      "text/plain": [
       "None                  4182\n",
       "Finished              3744\n",
       "Unfinished            1079\n",
       "Partially finished     454\n",
       "Name: basementFinish, dtype: int64"
      ]
     },
     "execution_count": 77,
     "metadata": {},
     "output_type": "execute_result"
    }
   ],
   "source": [
    "df_3[\"basementFinish\"].value_counts()"
   ]
  },
  {
   "cell_type": "markdown",
   "metadata": {},
   "source": [
    "## Deal with \"style\" column"
   ]
  },
  {
   "cell_type": "code",
   "execution_count": 78,
   "metadata": {},
   "outputs": [
    {
     "data": {
      "text/plain": [
       "NotListed       5019\n",
       "Detached        3773\n",
       "                ... \n",
       "Link              10\n",
       "Side by side       2\n",
       "Name: style, Length: 8, dtype: int64"
      ]
     },
     "execution_count": 78,
     "metadata": {},
     "output_type": "execute_result"
    }
   ],
   "source": [
    "df_3[\"style\"].value_counts()"
   ]
  },
  {
   "cell_type": "code",
   "execution_count": 79,
   "metadata": {
    "scrolled": false
   },
   "outputs": [
    {
     "data": {
      "text/plain": [
       "Apartment          3583\n",
       "Row / Townhouse     973\n",
       "                   ... \n",
       "Modular               3\n",
       "Mixed                 2\n",
       "Name: typeBuilding, Length: 10, dtype: int64"
      ]
     },
     "execution_count": 79,
     "metadata": {},
     "output_type": "execute_result"
    }
   ],
   "source": [
    "df_3[df_3[\"style\"]==\"NotListed\"].typeBuilding.value_counts()"
   ]
  },
  {
   "cell_type": "code",
   "execution_count": 80,
   "metadata": {},
   "outputs": [
    {
     "data": {
      "text/plain": [
       "House                  3768\n",
       "Manufactured/mobile       3\n",
       "Apartment                 1\n",
       "Vacant Land               1\n",
       "Name: typeBuilding, dtype: int64"
      ]
     },
     "execution_count": 80,
     "metadata": {},
     "output_type": "execute_result"
    }
   ],
   "source": [
    "df_3[df_3[\"style\"]==\"Detached\"].typeBuilding.value_counts()"
   ]
  },
  {
   "cell_type": "code",
   "execution_count": 81,
   "metadata": {},
   "outputs": [
    {
     "data": {
      "text/plain": [
       "House     768\n",
       "Duplex      1\n",
       "Name: typeBuilding, dtype: int64"
      ]
     },
     "execution_count": 81,
     "metadata": {},
     "output_type": "execute_result"
    }
   ],
   "source": [
    "df_3[df_3[\"style\"]==\"Semi-detached\"].typeBuilding.value_counts()"
   ]
  },
  {
   "cell_type": "code",
   "execution_count": 82,
   "metadata": {},
   "outputs": [
    {
     "data": {
      "text/plain": [
       "Row / Townhouse    541\n",
       "Apartment           71\n",
       "Name: typeBuilding, dtype: int64"
      ]
     },
     "execution_count": 82,
     "metadata": {},
     "output_type": "execute_result"
    }
   ],
   "source": [
    "df_3[df_3[\"style\"]==\"Attached\"].typeBuilding.value_counts()"
   ]
  },
  {
   "cell_type": "code",
   "execution_count": 83,
   "metadata": {},
   "outputs": [
    {
     "data": {
      "text/plain": [
       "NotListed        39\n",
       "Up and down       4\n",
       "Semi-detached     1\n",
       "Side by side      1\n",
       "Name: style, dtype: int64"
      ]
     },
     "execution_count": 83,
     "metadata": {},
     "output_type": "execute_result"
    }
   ],
   "source": [
    "df_3[df_3[\"typeBuilding\"]==\"Duplex\"][\"style\"].value_counts()"
   ]
  },
  {
   "cell_type": "code",
   "execution_count": 84,
   "metadata": {},
   "outputs": [
    {
     "data": {
      "text/plain": [
       "NotListed    973\n",
       "Attached     541\n",
       "Name: style, dtype: int64"
      ]
     },
     "execution_count": 84,
     "metadata": {},
     "output_type": "execute_result"
    }
   ],
   "source": [
    "df_3[df_3[\"typeBuilding\"]==\"Row / Townhouse\"][\"style\"].value_counts()"
   ]
  },
  {
   "cell_type": "code",
   "execution_count": 85,
   "metadata": {},
   "outputs": [
    {
     "data": {
      "text/plain": [
       "NotListed    362\n",
       "Detached       1\n",
       "Name: style, dtype: int64"
      ]
     },
     "execution_count": 85,
     "metadata": {},
     "output_type": "execute_result"
    }
   ],
   "source": [
    "df_3[df_3[\"typeBuilding\"]==\"Vacant Land\"][\"style\"].value_counts()"
   ]
  },
  {
   "cell_type": "markdown",
   "metadata": {},
   "source": [
    "## for apartment, if not listed, then use value \"Attached\""
   ]
  },
  {
   "cell_type": "code",
   "execution_count": 86,
   "metadata": {},
   "outputs": [],
   "source": [
    "df_3.loc[(df_3['typeBuilding']==\"Apartment\")&(df_3['style']==\"NotListed\"), \"style\"] = \"Attached\""
   ]
  },
  {
   "cell_type": "markdown",
   "metadata": {},
   "source": [
    "## for townhouse, if not listed, use \"Attached\""
   ]
  },
  {
   "cell_type": "code",
   "execution_count": 87,
   "metadata": {},
   "outputs": [],
   "source": [
    "df_3.loc[(df_3['typeBuilding']==\"Row / Townhouse\")&(df_3['style']==\"NotListed\"), \"style\"] = \"Attached\""
   ]
  },
  {
   "cell_type": "markdown",
   "metadata": {},
   "source": [
    "## for duplex, triplex and fourplex, if not listed, use \"Attached\""
   ]
  },
  {
   "cell_type": "code",
   "execution_count": 88,
   "metadata": {},
   "outputs": [],
   "source": [
    "df_3.loc[(df_3['typeBuilding']==\"Duplex\")&(df_3['style']==\"NotListed\"), \"style\"] = \"Attached\""
   ]
  },
  {
   "cell_type": "code",
   "execution_count": 89,
   "metadata": {},
   "outputs": [],
   "source": [
    "df_3.loc[(df_3['typeBuilding']==\"Triplex\")&(df_3['style']==\"NotListed\"), \"style\"] = \"Attached\""
   ]
  },
  {
   "cell_type": "code",
   "execution_count": 90,
   "metadata": {},
   "outputs": [],
   "source": [
    "df_3.loc[(df_3['typeBuilding']==\"Fourplex\")&(df_3['style']==\"NotListed\"), \"style\"] = \"Attached\""
   ]
  },
  {
   "cell_type": "markdown",
   "metadata": {},
   "source": [
    "## For vacant land, use value \"Vacant Land\""
   ]
  },
  {
   "cell_type": "code",
   "execution_count": 91,
   "metadata": {},
   "outputs": [],
   "source": [
    "df_3.loc[(df_3['typeBuilding']==\"Vacant Land\")&(df_3['style']==\"NotListed\"), \"style\"] = \"Vacant Land\""
   ]
  },
  {
   "cell_type": "markdown",
   "metadata": {},
   "source": [
    "## For House, if not listed, use \"Detached\""
   ]
  },
  {
   "cell_type": "code",
   "execution_count": 92,
   "metadata": {},
   "outputs": [],
   "source": [
    "df_3.loc[(df_3['typeBuilding']==\"House\")&(df_3['style']==\"NotListed\"), \"style\"] = \"Detached\""
   ]
  },
  {
   "cell_type": "markdown",
   "metadata": {},
   "source": [
    "## For modular, assume \"detached\""
   ]
  },
  {
   "cell_type": "code",
   "execution_count": 93,
   "metadata": {},
   "outputs": [],
   "source": [
    "df_3.loc[(df_3['typeBuilding']==\"Modular\")&(df_3['style']==\"NotListed\"), \"style\"] = \"Detached\""
   ]
  },
  {
   "cell_type": "markdown",
   "metadata": {},
   "source": [
    "## For Other typeBuilding, assume \"Detached\""
   ]
  },
  {
   "cell_type": "code",
   "execution_count": 94,
   "metadata": {},
   "outputs": [],
   "source": [
    "df_3.loc[(df_3['typeBuilding']==\"Other\")&(df_3['style']==\"NotListed\"), \"style\"] = \"Detached\"\n"
   ]
  },
  {
   "cell_type": "markdown",
   "metadata": {},
   "source": [
    "## For Mixed, assume \"Attached\""
   ]
  },
  {
   "cell_type": "code",
   "execution_count": 95,
   "metadata": {},
   "outputs": [],
   "source": [
    "df_3.loc[(df_3['typeBuilding']==\"Mixed\")&(df_3['style']==\"NotListed\"), \"style\"] = \"Attached\""
   ]
  },
  {
   "cell_type": "code",
   "execution_count": 96,
   "metadata": {
    "scrolled": true
   },
   "outputs": [
    {
     "data": {
      "text/plain": [
       "Attached        5253\n",
       "Detached        3789\n",
       "                ... \n",
       "Link              10\n",
       "Side by side       2\n",
       "Name: style, Length: 8, dtype: int64"
      ]
     },
     "execution_count": 96,
     "metadata": {},
     "output_type": "execute_result"
    }
   ],
   "source": [
    "df_3[\"style\"].value_counts()"
   ]
  },
  {
   "cell_type": "code",
   "execution_count": 97,
   "metadata": {},
   "outputs": [],
   "source": [
    "df_3=df_3.rename(columns={\"style\": \"styleAttach\"})"
   ]
  },
  {
   "cell_type": "markdown",
   "metadata": {},
   "source": [
    "## buildingAmenities"
   ]
  },
  {
   "cell_type": "code",
   "execution_count": 98,
   "metadata": {
    "scrolled": true
   },
   "outputs": [
    {
     "data": {
      "text/plain": [
       "NotListed                                                            6497\n",
       "Storage - Locker, Security/Concierge, Party Room, Exercise Centre     622\n",
       "                                                                     ... \n",
       "Storage - Locker, Sauna, Security/Concierge, Recreation Centre          1\n",
       "Other, Party Room, Sauna, Laundry Facility                              1\n",
       "Name: buildingAmenities, Length: 185, dtype: int64"
      ]
     },
     "execution_count": 98,
     "metadata": {},
     "output_type": "execute_result"
    }
   ],
   "source": [
    "df_3[\"buildingAmenities\"].value_counts()"
   ]
  },
  {
   "cell_type": "markdown",
   "metadata": {},
   "source": [
    "## Convert buildingAmenities to multiple columns with true/false value"
   ]
  },
  {
   "cell_type": "code",
   "execution_count": 99,
   "metadata": {
    "scrolled": false
   },
   "outputs": [
    {
     "name": "stdout",
     "output_type": "stream",
     "text": [
      "{'Clubhouse', 'Other', 'CarWash', 'MusicRoom', 'Storage-Locker', 'Sauna', 'PartyRoom', 'RecreationCentre', 'GuestSuite', 'Furnished', 'LaundryFacility', 'NotListed', 'ExerciseCentre', 'Laundry-InSuite', 'Security/Concierge', 'Whirlpool'}\n"
     ]
    }
   ],
   "source": [
    "#split different tags\n",
    "df_3['buildingAmenities'] = df_3['buildingAmenities'].str.replace(\" \",\"\")\n",
    "df_3['buildingAmenities'] = df_3['buildingAmenities'].str.split(pat=',')\n",
    "\n",
    "# collect all unique tags from those lists\n",
    "tags = set(df_3['buildingAmenities'].explode().values)\n",
    "print(tags)"
   ]
  },
  {
   "cell_type": "code",
   "execution_count": 100,
   "metadata": {},
   "outputs": [],
   "source": [
    "# create a new Boolean column for each tag\n",
    "for tag in tags:\n",
    "    df_3[tag] = [tag in df_3['buildingAmenities'].loc[i] for i in df_3.index]"
   ]
  },
  {
   "cell_type": "code",
   "execution_count": 101,
   "metadata": {},
   "outputs": [],
   "source": [
    "amenitiesCol=['CarWash', 'ExerciseCentre', 'Other', 'Clubhouse', 'RecreationCentre', 'NotListed', 'Security/Concierge', 'Laundry-InSuite', 'Furnished', 'GuestSuite', 'MusicRoom', 'PartyRoom', 'LaundryFacility', 'Whirlpool', 'Sauna', 'Storage-Locker']"
   ]
  },
  {
   "cell_type": "code",
   "execution_count": 102,
   "metadata": {},
   "outputs": [
    {
     "name": "stdout",
     "output_type": "stream",
     "text": [
      "{'NotListed': 6497, 'ExerciseCentre': 2746, 'Storage-Locker': 2439, 'Security/Concierge': 2158, 'PartyRoom': 1991, 'RecreationCentre': 625, 'Sauna': 504, 'Laundry-InSuite': 334, 'CarWash': 132, 'GuestSuite': 78, 'LaundryFacility': 48, 'Other': 11, 'Whirlpool': 10, 'Clubhouse': 4, 'Furnished': 4, 'MusicRoom': 2}\n"
     ]
    }
   ],
   "source": [
    "newdict={}\n",
    "for col in amenitiesCol:\n",
    "    newdict[col]=df_3[col][df_3[col]==True].count()\n",
    "    #print(col+\" \"+str(df_3[col][df_3[col]==True].count()))\n",
    "sorted_keys = sorted(newdict, key=newdict.get, reverse=True)  # [1, 3, 2]\n",
    "sorted_dict = {}\n",
    "for w in sorted_keys:\n",
    "    sorted_dict[w] = newdict[w]\n",
    "\n",
    "print(sorted_dict) # {1: 1, 3: 4, 2: 9}"
   ]
  },
  {
   "cell_type": "code",
   "execution_count": null,
   "metadata": {},
   "outputs": [],
   "source": []
  },
  {
   "cell_type": "markdown",
   "metadata": {},
   "source": [
    "## Whirlpool is a kind of hot tub"
   ]
  },
  {
   "cell_type": "markdown",
   "metadata": {},
   "source": [
    "## Remove column \"NotListed\", and \"Other\""
   ]
  },
  {
   "cell_type": "code",
   "execution_count": 103,
   "metadata": {
    "scrolled": true
   },
   "outputs": [],
   "source": [
    "df_3 = df_3.drop([\"NotListed\", \"Other\"], axis=1)"
   ]
  },
  {
   "cell_type": "markdown",
   "metadata": {},
   "source": [
    "## Output Data, and then go to Part 3 code "
   ]
  },
  {
   "cell_type": "code",
   "execution_count": 105,
   "metadata": {},
   "outputs": [],
   "source": [
    "df_3.to_csv(output_folder+\"/\"+\"all_after_preprocessing2.csv\", index=False)"
   ]
  }
 ],
 "metadata": {
  "kernelspec": {
   "display_name": "Python 3",
   "language": "python",
   "name": "python3"
  },
  "language_info": {
   "codemirror_mode": {
    "name": "ipython",
    "version": 3
   },
   "file_extension": ".py",
   "mimetype": "text/x-python",
   "name": "python",
   "nbconvert_exporter": "python",
   "pygments_lexer": "ipython3",
   "version": "3.8.8"
  }
 },
 "nbformat": 4,
 "nbformat_minor": 4
}
