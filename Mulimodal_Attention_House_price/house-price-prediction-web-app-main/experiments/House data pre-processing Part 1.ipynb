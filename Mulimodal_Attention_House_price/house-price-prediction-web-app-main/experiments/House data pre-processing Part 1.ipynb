{
 "cells": [
  {
   "cell_type": "code",
   "execution_count": 2,
   "metadata": {
    "scrolled": true
   },
   "outputs": [
    {
     "name": "stdout",
     "output_type": "stream",
     "text": [
      "C:/Users/hanson/OneDrive/Grad/Grad Project/data_realtorCA/output\\brampton_950kp_details.csv\n",
      "433\n",
      "C:/Users/hanson/OneDrive/Grad/Grad Project/data_realtorCA/output\\brampton_950k_details.csv\n",
      "550\n",
      "C:/Users/hanson/OneDrive/Grad/Grad Project/data_realtorCA/output\\hamilton_1200kp_details.csv\n",
      "267\n",
      "C:/Users/hanson/OneDrive/Grad/Grad Project/data_realtorCA/output\\hamilton_690-1200k_details.csv\n",
      "561\n",
      "C:/Users/hanson/OneDrive/Grad/Grad Project/data_realtorCA/output\\hamilton_690k_details.csv\n",
      "530\n",
      "C:/Users/hanson/OneDrive/Grad/Grad Project/data_realtorCA/output\\missi_900kp_details.csv\n",
      "533\n",
      "C:/Users/hanson/OneDrive/Grad/Grad Project/data_realtorCA/output\\missi_900k_details.csv\n",
      "591\n",
      "C:/Users/hanson/OneDrive/Grad/Grad Project/data_realtorCA/output\\ottawa_11May_details.csv\n",
      "1280\n",
      "C:/Users/hanson/OneDrive/Grad/Grad Project/data_realtorCA/output\\ottawa_12May_details.csv\n",
      "168\n",
      "C:/Users/hanson/OneDrive/Grad/Grad Project/data_realtorCA/output\\toronto_1200-1500k_details.csv\n",
      "534\n",
      "C:/Users/hanson/OneDrive/Grad/Grad Project/data_realtorCA/output\\toronto_1500-2000k_details.csv\n",
      "552\n",
      "C:/Users/hanson/OneDrive/Grad/Grad Project/data_realtorCA/output\\toronto_2000-3500k_details.csv\n",
      "510\n",
      "C:/Users/hanson/OneDrive/Grad/Grad Project/data_realtorCA/output\\toronto_3500kp_details.csv\n",
      "311\n",
      "C:/Users/hanson/OneDrive/Grad/Grad Project/data_realtorCA/output\\toronto_540-600k_details.csv\n",
      "521\n",
      "C:/Users/hanson/OneDrive/Grad/Grad Project/data_realtorCA/output\\toronto_540k_details.csv\n",
      "565\n",
      "C:/Users/hanson/OneDrive/Grad/Grad Project/data_realtorCA/output\\toronto_600-690k_details.csv\n",
      "476\n",
      "C:/Users/hanson/OneDrive/Grad/Grad Project/data_realtorCA/output\\toronto_690-790k_details.csv\n",
      "537\n",
      "C:/Users/hanson/OneDrive/Grad/Grad Project/data_realtorCA/output\\toronto_790-890k_details.csv\n",
      "459\n",
      "C:/Users/hanson/OneDrive/Grad/Grad Project/data_realtorCA/output\\toronto_890-999k_details.csv\n",
      "552\n",
      "C:/Users/hanson/OneDrive/Grad/Grad Project/data_realtorCA/output\\toronto_999-1200k_details.csv\n",
      "488\n",
      "10418\n"
     ]
    }
   ],
   "source": [
    "import pandas as pd\n",
    "import os\n",
    "\n",
    "project_folder=\"C:/Users/hanson/OneDrive/Grad/Grad Project/data_realtorCA/\"\n",
    "output_folder=project_folder+\"output\"\n",
    "\n",
    "all_data=[]\n",
    "num_data=0\n",
    "for file in os.listdir(output_folder):\n",
    "    if file.endswith(\".csv\"):\n",
    "        if \"details\" in file:\n",
    "            print(os.path.join(output_folder, file))\n",
    "            df = pd.read_csv(os.path.join(output_folder, file), index_col=None, header=0)\n",
    "            df['city']=file[0:5]\n",
    "            print(str(len(df)))\n",
    "            num_data= num_data + len(df)\n",
    "            all_data.append(df)\n",
    "\n",
    "print(num_data)"
   ]
  },
  {
   "cell_type": "code",
   "execution_count": 3,
   "metadata": {},
   "outputs": [],
   "source": [
    "df_all_data = pd.concat(all_data)"
   ]
  },
  {
   "cell_type": "code",
   "execution_count": 4,
   "metadata": {},
   "outputs": [],
   "source": [
    "df_all_data.to_csv(output_folder+\"/\"+\"all_listings_raw.csv\", index=False)"
   ]
  },
  {
   "cell_type": "code",
   "execution_count": 5,
   "metadata": {},
   "outputs": [
    {
     "data": {
      "text/plain": [
       "58"
      ]
     },
     "execution_count": 5,
     "metadata": {},
     "output_type": "execute_result"
    }
   ],
   "source": [
    "df_ori=pd.concat(all_data)\n",
    "len(df_ori.columns)"
   ]
  },
  {
   "cell_type": "code",
   "execution_count": 6,
   "metadata": {
    "scrolled": true
   },
   "outputs": [
    {
     "data": {
      "text/plain": [
       "NotListed    4299\n",
       "2            3578\n",
       "1            1294\n",
       "3             717\n",
       "2.5000        256\n",
       "1.5000        217\n",
       "6              10\n",
       "4               8\n",
       "23              7\n",
       "20              4\n",
       "5               3\n",
       "27              3\n",
       "7               3\n",
       "10              2\n",
       "19              2\n",
       "18              2\n",
       "28              2\n",
       "15              2\n",
       "9               2\n",
       "0               1\n",
       "11              1\n",
       "24              1\n",
       "25              1\n",
       "12              1\n",
       "17              1\n",
       "14              1\n",
       "Name: storeys, dtype: int64"
      ]
     },
     "execution_count": 6,
     "metadata": {},
     "output_type": "execute_result"
    }
   ],
   "source": [
    "df_ori.storeys.value_counts()"
   ]
  },
  {
   "cell_type": "code",
   "execution_count": 7,
   "metadata": {},
   "outputs": [
    {
     "data": {
      "text/html": [
       "<div>\n",
       "<style scoped>\n",
       "    .dataframe tbody tr th:only-of-type {\n",
       "        vertical-align: middle;\n",
       "    }\n",
       "\n",
       "    .dataframe tbody tr th {\n",
       "        vertical-align: top;\n",
       "    }\n",
       "\n",
       "    .dataframe thead th {\n",
       "        text-align: right;\n",
       "    }\n",
       "</style>\n",
       "<table border=\"1\" class=\"dataframe\">\n",
       "  <thead>\n",
       "    <tr style=\"text-align: right;\">\n",
       "      <th></th>\n",
       "      <th>url</th>\n",
       "      <th>price</th>\n",
       "      <th>address</th>\n",
       "      <th>postal</th>\n",
       "      <th>MLS</th>\n",
       "      <th>description</th>\n",
       "      <th>propertyType</th>\n",
       "      <th>buildingType</th>\n",
       "      <th>storeys</th>\n",
       "      <th>neighborhoodName</th>\n",
       "      <th>...</th>\n",
       "      <th>roadType</th>\n",
       "      <th>view</th>\n",
       "      <th>presentUse</th>\n",
       "      <th>landscapeFeatures</th>\n",
       "      <th>access</th>\n",
       "      <th>zoningDescription</th>\n",
       "      <th>surfaceWater</th>\n",
       "      <th>waterfrontFeatures</th>\n",
       "      <th>waterfront</th>\n",
       "      <th>city</th>\n",
       "    </tr>\n",
       "  </thead>\n",
       "  <tbody>\n",
       "    <tr>\n",
       "      <th>157</th>\n",
       "      <td>https://www.realtor.ca/real-estate/23161519/12...</td>\n",
       "      <td>399900</td>\n",
       "      <td>1201 OHIO STREET UNIT#203Ottawa</td>\n",
       "      <td>K1H0A1</td>\n",
       "      <td>1240161</td>\n",
       "      <td>Spacious 1 bed + den / 1 bath unit with in-uni...</td>\n",
       "      <td>Single Family</td>\n",
       "      <td>Apartment</td>\n",
       "      <td>4</td>\n",
       "      <td>Billings Bridge</td>\n",
       "      <td>...</td>\n",
       "      <td>NotListed</td>\n",
       "      <td>NotListed</td>\n",
       "      <td>NotListed</td>\n",
       "      <td>NotListed</td>\n",
       "      <td>NotListed</td>\n",
       "      <td>RES</td>\n",
       "      <td>NotListed</td>\n",
       "      <td>NotListed</td>\n",
       "      <td>NotListed</td>\n",
       "      <td>ottaw</td>\n",
       "    </tr>\n",
       "    <tr>\n",
       "      <th>323</th>\n",
       "      <td>https://www.realtor.ca/real-estate/23057841/27...</td>\n",
       "      <td>200000</td>\n",
       "      <td>270 BEECHWOOD AVENUE UNIT#2Ottawa</td>\n",
       "      <td>K1L8A6</td>\n",
       "      <td>1233598</td>\n",
       "      <td>Welcome to Rockcliffe Terrace. A rare opportun...</td>\n",
       "      <td>Single Family</td>\n",
       "      <td>Apartment</td>\n",
       "      <td>4</td>\n",
       "      <td>Vanier</td>\n",
       "      <td>...</td>\n",
       "      <td>NotListed</td>\n",
       "      <td>NotListed</td>\n",
       "      <td>NotListed</td>\n",
       "      <td>NotListed</td>\n",
       "      <td>NotListed</td>\n",
       "      <td>Residential</td>\n",
       "      <td>NotListed</td>\n",
       "      <td>NotListed</td>\n",
       "      <td>NotListed</td>\n",
       "      <td>ottaw</td>\n",
       "    </tr>\n",
       "    <tr>\n",
       "      <th>325</th>\n",
       "      <td>https://www.realtor.ca/real-estate/23178071/65...</td>\n",
       "      <td>219900</td>\n",
       "      <td>6532 BILBERRY DRIVE UNIT#312Ottawa</td>\n",
       "      <td>K1C4N9</td>\n",
       "      <td>1239946</td>\n",
       "      <td>Nicely updated 1 bedroom condo with balcony in...</td>\n",
       "      <td>Single Family</td>\n",
       "      <td>Apartment</td>\n",
       "      <td>4</td>\n",
       "      <td>Orleans Wood</td>\n",
       "      <td>...</td>\n",
       "      <td>NotListed</td>\n",
       "      <td>NotListed</td>\n",
       "      <td>NotListed</td>\n",
       "      <td>NotListed</td>\n",
       "      <td>NotListed</td>\n",
       "      <td>Residential</td>\n",
       "      <td>NotListed</td>\n",
       "      <td>NotListed</td>\n",
       "      <td>NotListed</td>\n",
       "      <td>ottaw</td>\n",
       "    </tr>\n",
       "    <tr>\n",
       "      <th>383</th>\n",
       "      <td>https://www.realtor.ca/real-estate/23141850/14...</td>\n",
       "      <td>440000</td>\n",
       "      <td>141 POTTS PRIVATE UNIT#308Ottawa</td>\n",
       "      <td>K4A0X9</td>\n",
       "      <td>1239500</td>\n",
       "      <td>Indoor Parking, Elevators. Cardel's Apartmentl...</td>\n",
       "      <td>Single Family</td>\n",
       "      <td>Apartment</td>\n",
       "      <td>4</td>\n",
       "      <td>Notting Hill</td>\n",
       "      <td>...</td>\n",
       "      <td>NotListed</td>\n",
       "      <td>NotListed</td>\n",
       "      <td>NotListed</td>\n",
       "      <td>NotListed</td>\n",
       "      <td>NotListed</td>\n",
       "      <td>Residential Condo</td>\n",
       "      <td>NotListed</td>\n",
       "      <td>NotListed</td>\n",
       "      <td>NotListed</td>\n",
       "      <td>ottaw</td>\n",
       "    </tr>\n",
       "    <tr>\n",
       "      <th>465</th>\n",
       "      <td>https://www.realtor.ca/real-estate/23029983/52...</td>\n",
       "      <td>234900</td>\n",
       "      <td>520 FENERTY COURT UNIT#1Ottawa</td>\n",
       "      <td>K2L3B1</td>\n",
       "      <td>1234760</td>\n",
       "      <td>LOVELY First level unit has been updated from ...</td>\n",
       "      <td>Single Family</td>\n",
       "      <td>Apartment</td>\n",
       "      <td>4</td>\n",
       "      <td>Katimavik</td>\n",
       "      <td>...</td>\n",
       "      <td>NotListed</td>\n",
       "      <td>NotListed</td>\n",
       "      <td>NotListed</td>\n",
       "      <td>NotListed</td>\n",
       "      <td>NotListed</td>\n",
       "      <td>Residential</td>\n",
       "      <td>NotListed</td>\n",
       "      <td>NotListed</td>\n",
       "      <td>NotListed</td>\n",
       "      <td>ottaw</td>\n",
       "    </tr>\n",
       "    <tr>\n",
       "      <th>621</th>\n",
       "      <td>https://www.realtor.ca/real-estate/23171128/26...</td>\n",
       "      <td>279500</td>\n",
       "      <td>266 LORRY GREENBERG DRIVE UNIT#5Ottawa</td>\n",
       "      <td>K1T3J9</td>\n",
       "      <td>1240217</td>\n",
       "      <td>Sun filled southeast facing ground floor end/c...</td>\n",
       "      <td>Single Family</td>\n",
       "      <td>Apartment</td>\n",
       "      <td>4</td>\n",
       "      <td>Greenboro East</td>\n",
       "      <td>...</td>\n",
       "      <td>NotListed</td>\n",
       "      <td>NotListed</td>\n",
       "      <td>NotListed</td>\n",
       "      <td>NotListed</td>\n",
       "      <td>NotListed</td>\n",
       "      <td>residential</td>\n",
       "      <td>NotListed</td>\n",
       "      <td>NotListed</td>\n",
       "      <td>NotListed</td>\n",
       "      <td>ottaw</td>\n",
       "    </tr>\n",
       "    <tr>\n",
       "      <th>637</th>\n",
       "      <td>https://www.realtor.ca/real-estate/23162128/94...</td>\n",
       "      <td>359000</td>\n",
       "      <td>947 CUMMINGS AVENUEOttawa</td>\n",
       "      <td>K1J7R9</td>\n",
       "      <td>1230017</td>\n",
       "      <td>Completely refreshed unit: all you need to do ...</td>\n",
       "      <td>Single Family</td>\n",
       "      <td>House</td>\n",
       "      <td>4</td>\n",
       "      <td>Cyrville</td>\n",
       "      <td>...</td>\n",
       "      <td>NotListed</td>\n",
       "      <td>NotListed</td>\n",
       "      <td>NotListed</td>\n",
       "      <td>NotListed</td>\n",
       "      <td>NotListed</td>\n",
       "      <td>Res</td>\n",
       "      <td>NotListed</td>\n",
       "      <td>NotListed</td>\n",
       "      <td>NotListed</td>\n",
       "      <td>ottaw</td>\n",
       "    </tr>\n",
       "    <tr>\n",
       "      <th>85</th>\n",
       "      <td>https://www.realtor.ca/real-estate/23185720/20...</td>\n",
       "      <td>449000</td>\n",
       "      <td>202 ST PATRICK STREET UNIT#26Ottawa</td>\n",
       "      <td>K1N5K3</td>\n",
       "      <td>1241338</td>\n",
       "      <td>Location! Location! Rarely offered, super cool...</td>\n",
       "      <td>Single Family</td>\n",
       "      <td>Apartment</td>\n",
       "      <td>4</td>\n",
       "      <td>North-West Byward Market</td>\n",
       "      <td>...</td>\n",
       "      <td>NotListed</td>\n",
       "      <td>NotListed</td>\n",
       "      <td>NotListed</td>\n",
       "      <td>NotListed</td>\n",
       "      <td>NotListed</td>\n",
       "      <td>MD2 S72</td>\n",
       "      <td>NotListed</td>\n",
       "      <td>NotListed</td>\n",
       "      <td>NotListed</td>\n",
       "      <td>ottaw</td>\n",
       "    </tr>\n",
       "  </tbody>\n",
       "</table>\n",
       "<p>8 rows × 58 columns</p>\n",
       "</div>"
      ],
      "text/plain": [
       "                                                   url   price  \\\n",
       "157  https://www.realtor.ca/real-estate/23161519/12...  399900   \n",
       "323  https://www.realtor.ca/real-estate/23057841/27...  200000   \n",
       "325  https://www.realtor.ca/real-estate/23178071/65...  219900   \n",
       "383  https://www.realtor.ca/real-estate/23141850/14...  440000   \n",
       "465  https://www.realtor.ca/real-estate/23029983/52...  234900   \n",
       "621  https://www.realtor.ca/real-estate/23171128/26...  279500   \n",
       "637  https://www.realtor.ca/real-estate/23162128/94...  359000   \n",
       "85   https://www.realtor.ca/real-estate/23185720/20...  449000   \n",
       "\n",
       "                                    address  postal      MLS  \\\n",
       "157         1201 OHIO STREET UNIT#203Ottawa  K1H0A1  1240161   \n",
       "323       270 BEECHWOOD AVENUE UNIT#2Ottawa  K1L8A6  1233598   \n",
       "325      6532 BILBERRY DRIVE UNIT#312Ottawa  K1C4N9  1239946   \n",
       "383        141 POTTS PRIVATE UNIT#308Ottawa  K4A0X9  1239500   \n",
       "465          520 FENERTY COURT UNIT#1Ottawa  K2L3B1  1234760   \n",
       "621  266 LORRY GREENBERG DRIVE UNIT#5Ottawa  K1T3J9  1240217   \n",
       "637               947 CUMMINGS AVENUEOttawa  K1J7R9  1230017   \n",
       "85      202 ST PATRICK STREET UNIT#26Ottawa  K1N5K3  1241338   \n",
       "\n",
       "                                           description   propertyType  \\\n",
       "157  Spacious 1 bed + den / 1 bath unit with in-uni...  Single Family   \n",
       "323  Welcome to Rockcliffe Terrace. A rare opportun...  Single Family   \n",
       "325  Nicely updated 1 bedroom condo with balcony in...  Single Family   \n",
       "383  Indoor Parking, Elevators. Cardel's Apartmentl...  Single Family   \n",
       "465  LOVELY First level unit has been updated from ...  Single Family   \n",
       "621  Sun filled southeast facing ground floor end/c...  Single Family   \n",
       "637  Completely refreshed unit: all you need to do ...  Single Family   \n",
       "85   Location! Location! Rarely offered, super cool...  Single Family   \n",
       "\n",
       "    buildingType storeys          neighborhoodName  ...   roadType       view  \\\n",
       "157    Apartment       4           Billings Bridge  ...  NotListed  NotListed   \n",
       "323    Apartment       4                    Vanier  ...  NotListed  NotListed   \n",
       "325    Apartment       4              Orleans Wood  ...  NotListed  NotListed   \n",
       "383    Apartment       4              Notting Hill  ...  NotListed  NotListed   \n",
       "465    Apartment       4                 Katimavik  ...  NotListed  NotListed   \n",
       "621    Apartment       4            Greenboro East  ...  NotListed  NotListed   \n",
       "637        House       4                  Cyrville  ...  NotListed  NotListed   \n",
       "85     Apartment       4  North-West Byward Market  ...  NotListed  NotListed   \n",
       "\n",
       "    presentUse landscapeFeatures     access  zoningDescription surfaceWater  \\\n",
       "157  NotListed         NotListed  NotListed                RES    NotListed   \n",
       "323  NotListed         NotListed  NotListed        Residential    NotListed   \n",
       "325  NotListed         NotListed  NotListed        Residential    NotListed   \n",
       "383  NotListed         NotListed  NotListed  Residential Condo    NotListed   \n",
       "465  NotListed         NotListed  NotListed        Residential    NotListed   \n",
       "621  NotListed         NotListed  NotListed        residential    NotListed   \n",
       "637  NotListed         NotListed  NotListed                Res    NotListed   \n",
       "85   NotListed         NotListed  NotListed            MD2 S72    NotListed   \n",
       "\n",
       "    waterfrontFeatures waterfront   city  \n",
       "157          NotListed  NotListed  ottaw  \n",
       "323          NotListed  NotListed  ottaw  \n",
       "325          NotListed  NotListed  ottaw  \n",
       "383          NotListed  NotListed  ottaw  \n",
       "465          NotListed  NotListed  ottaw  \n",
       "621          NotListed  NotListed  ottaw  \n",
       "637          NotListed  NotListed  ottaw  \n",
       "85           NotListed  NotListed  ottaw  \n",
       "\n",
       "[8 rows x 58 columns]"
      ]
     },
     "execution_count": 7,
     "metadata": {},
     "output_type": "execute_result"
    }
   ],
   "source": [
    "df_ori[df_ori[\"storeys\"]==\"4\"]"
   ]
  },
  {
   "cell_type": "code",
   "execution_count": 8,
   "metadata": {},
   "outputs": [],
   "source": [
    "df_all_data=df_all_data.reset_index()"
   ]
  },
  {
   "cell_type": "code",
   "execution_count": 9,
   "metadata": {},
   "outputs": [],
   "source": [
    "df_all_data.loc[(df_all_data.city == 'toron'),'city']='Toronto'\n",
    "df_all_data.loc[(df_all_data.city == 'missi'),'city']='Mississauga'\n",
    "df_all_data.loc[(df_all_data.city == 'ottaw'),'city']='Ottawa'\n",
    "df_all_data.loc[(df_all_data.city == 'bramp'),'city']='Brampton'\n",
    "df_all_data.loc[(df_all_data.city == 'hamil'),'city']='Hamilton'"
   ]
  },
  {
   "cell_type": "code",
   "execution_count": 10,
   "metadata": {},
   "outputs": [
    {
     "data": {
      "text/html": [
       "<div>\n",
       "<style scoped>\n",
       "    .dataframe tbody tr th:only-of-type {\n",
       "        vertical-align: middle;\n",
       "    }\n",
       "\n",
       "    .dataframe tbody tr th {\n",
       "        vertical-align: top;\n",
       "    }\n",
       "\n",
       "    .dataframe thead th {\n",
       "        text-align: right;\n",
       "    }\n",
       "</style>\n",
       "<table border=\"1\" class=\"dataframe\">\n",
       "  <thead>\n",
       "    <tr style=\"text-align: right;\">\n",
       "      <th></th>\n",
       "      <th>index</th>\n",
       "      <th>url</th>\n",
       "      <th>price</th>\n",
       "      <th>address</th>\n",
       "      <th>postal</th>\n",
       "      <th>MLS</th>\n",
       "      <th>description</th>\n",
       "      <th>propertyType</th>\n",
       "      <th>buildingType</th>\n",
       "      <th>storeys</th>\n",
       "      <th>...</th>\n",
       "      <th>roadType</th>\n",
       "      <th>view</th>\n",
       "      <th>presentUse</th>\n",
       "      <th>landscapeFeatures</th>\n",
       "      <th>access</th>\n",
       "      <th>zoningDescription</th>\n",
       "      <th>surfaceWater</th>\n",
       "      <th>waterfrontFeatures</th>\n",
       "      <th>waterfront</th>\n",
       "      <th>city</th>\n",
       "    </tr>\n",
       "  </thead>\n",
       "  <tbody>\n",
       "    <tr>\n",
       "      <th>3382</th>\n",
       "      <td>508</td>\n",
       "      <td>https://www.realtor.ca/real-estate/23209704/90...</td>\n",
       "      <td>499900</td>\n",
       "      <td>#904 -2900 BATTLEFORD RDMississauga</td>\n",
       "      <td>L5N2V9</td>\n",
       "      <td>W5236717</td>\n",
       "      <td>Modern And Bright  2 Beds 1 Bath Condo For Sal...</td>\n",
       "      <td>Single Family</td>\n",
       "      <td>Apartment</td>\n",
       "      <td>NotListed</td>\n",
       "      <td>...</td>\n",
       "      <td>NotListed</td>\n",
       "      <td>NotListed</td>\n",
       "      <td>NotListed</td>\n",
       "      <td>NotListed</td>\n",
       "      <td>NotListed</td>\n",
       "      <td>NotListed</td>\n",
       "      <td>NotListed</td>\n",
       "      <td>NotListed</td>\n",
       "      <td>NotListed</td>\n",
       "      <td>Mississauga</td>\n",
       "    </tr>\n",
       "  </tbody>\n",
       "</table>\n",
       "<p>1 rows × 59 columns</p>\n",
       "</div>"
      ],
      "text/plain": [
       "      index                                                url   price  \\\n",
       "3382    508  https://www.realtor.ca/real-estate/23209704/90...  499900   \n",
       "\n",
       "                                  address  postal       MLS  \\\n",
       "3382  #904 -2900 BATTLEFORD RDMississauga  L5N2V9  W5236717   \n",
       "\n",
       "                                            description   propertyType  \\\n",
       "3382  Modern And Bright  2 Beds 1 Bath Condo For Sal...  Single Family   \n",
       "\n",
       "     buildingType    storeys  ...   roadType       view presentUse  \\\n",
       "3382    Apartment  NotListed  ...  NotListed  NotListed  NotListed   \n",
       "\n",
       "     landscapeFeatures     access zoningDescription surfaceWater  \\\n",
       "3382         NotListed  NotListed         NotListed    NotListed   \n",
       "\n",
       "     waterfrontFeatures waterfront         city  \n",
       "3382          NotListed  NotListed  Mississauga  \n",
       "\n",
       "[1 rows x 59 columns]"
      ]
     },
     "execution_count": 10,
     "metadata": {},
     "output_type": "execute_result"
    }
   ],
   "source": [
    "df_all_data[df_all_data[\"MLS\"]==\"W5236717\"]"
   ]
  },
  {
   "cell_type": "markdown",
   "metadata": {},
   "source": [
    "## url"
   ]
  },
  {
   "cell_type": "code",
   "execution_count": null,
   "metadata": {
    "scrolled": true
   },
   "outputs": [],
   "source": [
    "#df_all_data[df_all_data['url'].duplicated(keep=False) == True].sort_values(\"url\")\n"
   ]
  },
  {
   "cell_type": "code",
   "execution_count": null,
   "metadata": {},
   "outputs": [],
   "source": [
    "df_all_data=df_all_data.drop_duplicates(subset=['url'])\n",
    "len(df_all_data)"
   ]
  },
  {
   "cell_type": "code",
   "execution_count": null,
   "metadata": {},
   "outputs": [],
   "source": [
    "list(df_all_data.columns)"
   ]
  },
  {
   "cell_type": "markdown",
   "metadata": {},
   "source": [
    "## Price"
   ]
  },
  {
   "cell_type": "code",
   "execution_count": null,
   "metadata": {
    "scrolled": true
   },
   "outputs": [],
   "source": [
    "#\n",
    "#pd.set_option('display.max_colwidth', None)\n",
    "#pd.set_option('display.max_rows', 500)\n",
    "\n",
    "#df_all_data[df_all_data['price']==\"NotListed\"]\n",
    "\n"
   ]
  },
  {
   "cell_type": "code",
   "execution_count": null,
   "metadata": {},
   "outputs": [],
   "source": [
    "df_all_data=df_all_data[df_all_data['price']!=\"NotListed\"]"
   ]
  },
  {
   "cell_type": "code",
   "execution_count": null,
   "metadata": {},
   "outputs": [],
   "source": [
    "len(df_all_data)"
   ]
  },
  {
   "cell_type": "code",
   "execution_count": null,
   "metadata": {
    "scrolled": true
   },
   "outputs": [],
   "source": [
    "dictionary_notlisted={}\n",
    "column_list=list(df_all_data.columns)\n",
    "for column in column_list:\n",
    "    num_missing=len(df_all_data[df_all_data[column]==\"NotListed\"])\n",
    "    dictionary_notlisted[column]=num_missing"
   ]
  },
  {
   "cell_type": "code",
   "execution_count": null,
   "metadata": {
    "scrolled": true
   },
   "outputs": [],
   "source": [
    "dictionary_notlisted"
   ]
  },
  {
   "cell_type": "code",
   "execution_count": null,
   "metadata": {
    "scrolled": true
   },
   "outputs": [],
   "source": [
    "df_all_data[\"price\"]=df_all_data[\"price\"].astype(float)\n"
   ]
  },
  {
   "cell_type": "code",
   "execution_count": null,
   "metadata": {},
   "outputs": [],
   "source": [
    "#df_all_data[df_all_data[\"price\"]<80000]"
   ]
  },
  {
   "cell_type": "code",
   "execution_count": null,
   "metadata": {},
   "outputs": [],
   "source": [
    "df_all_data=df_all_data[df_all_data[\"price\"]>=80000]"
   ]
  },
  {
   "cell_type": "code",
   "execution_count": null,
   "metadata": {
    "scrolled": false
   },
   "outputs": [],
   "source": [
    "len(df_all_data)"
   ]
  },
  {
   "cell_type": "markdown",
   "metadata": {},
   "source": [
    "## Address"
   ]
  },
  {
   "cell_type": "code",
   "execution_count": null,
   "metadata": {},
   "outputs": [],
   "source": [
    "pd.set_option(\"display.max_rows\", 12, \"display.max_columns\", None) \n",
    "pd.set_option('display.max_colwidth', None) #description full display\n"
   ]
  },
  {
   "cell_type": "code",
   "execution_count": null,
   "metadata": {},
   "outputs": [],
   "source": [
    "df_all_data[df_all_data[\"address\"]==\"NotListed\"]"
   ]
  },
  {
   "cell_type": "code",
   "execution_count": null,
   "metadata": {},
   "outputs": [],
   "source": [
    "#df_all_data[df_all_data['MLS'].duplicated(keep=False) == True].sort_values(\"MLS\")\n"
   ]
  },
  {
   "cell_type": "code",
   "execution_count": null,
   "metadata": {
    "scrolled": true
   },
   "outputs": [],
   "source": [
    "df_all_data=df_all_data.drop_duplicates(subset=['MLS'])\n",
    "len(df_all_data)"
   ]
  },
  {
   "cell_type": "code",
   "execution_count": null,
   "metadata": {
    "scrolled": true
   },
   "outputs": [],
   "source": [
    "#df_all_data[df_all_data[\"description\"]==\"NotListed\"]"
   ]
  },
  {
   "cell_type": "code",
   "execution_count": null,
   "metadata": {},
   "outputs": [],
   "source": [
    "#df_all_data.propertyType.unique()"
   ]
  },
  {
   "cell_type": "code",
   "execution_count": null,
   "metadata": {},
   "outputs": [],
   "source": [
    "len(df_all_data[df_all_data[\"propertyType\"]==\"Vacant Land\"])"
   ]
  },
  {
   "cell_type": "code",
   "execution_count": null,
   "metadata": {},
   "outputs": [],
   "source": [
    "#df_all_data.buildingType.unique()"
   ]
  },
  {
   "cell_type": "code",
   "execution_count": null,
   "metadata": {},
   "outputs": [],
   "source": [
    "#df_all_data[\"buildingType\"].value_counts()"
   ]
  },
  {
   "cell_type": "code",
   "execution_count": null,
   "metadata": {
    "scrolled": true
   },
   "outputs": [],
   "source": [
    "#df_all_data[\"storeys\"].value_counts()"
   ]
  },
  {
   "cell_type": "code",
   "execution_count": null,
   "metadata": {},
   "outputs": [],
   "source": [
    "pd.set_option('display.max_columns', None)\n"
   ]
  },
  {
   "cell_type": "code",
   "execution_count": null,
   "metadata": {},
   "outputs": [],
   "source": [
    "dictionary_notlisted={}\n",
    "column_list=list(df_all_data.columns)\n",
    "for column in column_list:\n",
    "    num_missing=len(df_all_data[df_all_data[column]==\"NotListed\"])\n",
    "    dictionary_notlisted[column]=num_missing"
   ]
  },
  {
   "cell_type": "code",
   "execution_count": null,
   "metadata": {
    "scrolled": false
   },
   "outputs": [],
   "source": [
    "dictionary_notlisted"
   ]
  },
  {
   "cell_type": "code",
   "execution_count": null,
   "metadata": {},
   "outputs": [],
   "source": [
    "columns_missing9kp=['flooring','FixturesIncluded','architectureStyle','structures','fireProtection','fireplace','utilityCommunications', 'utilityType', 'maintenanceFeesInclude','fencing','roadType','view','presentUse','landscapeFeatures','access','surfaceWater','waterfrontFeatures', 'waterfront']\n",
    "df_all_data = df_all_data.drop(columns_missing9kp, axis=1)\n",
    "#df_all_data.columns"
   ]
  },
  {
   "cell_type": "code",
   "execution_count": null,
   "metadata": {},
   "outputs": [],
   "source": [
    "#df_all_data[df_all_data[\"buildingFeatures\"]!=\"NotListed\"]"
   ]
  },
  {
   "cell_type": "code",
   "execution_count": null,
   "metadata": {},
   "outputs": [],
   "source": [
    "#df_all_data[\"buildingFeatures\"].value_counts()"
   ]
  },
  {
   "cell_type": "code",
   "execution_count": null,
   "metadata": {},
   "outputs": [],
   "source": [
    "#df_all_data[df_all_data[\"style\"]!=\"NotListed\"]"
   ]
  },
  {
   "cell_type": "code",
   "execution_count": null,
   "metadata": {
    "scrolled": true
   },
   "outputs": [],
   "source": [
    "#df_all_data[\"style\"].value_counts()"
   ]
  },
  {
   "cell_type": "code",
   "execution_count": null,
   "metadata": {},
   "outputs": [],
   "source": [
    "#df_all_data[\"buildingAmenities\"].value_counts()"
   ]
  },
  {
   "cell_type": "code",
   "execution_count": null,
   "metadata": {},
   "outputs": [],
   "source": [
    "columns_missing5kp=['neighborhoodName', 'builtIn','appliancesIncluded','foundationType','sewer','water','communityFeatures','frontage', 'landDepth','zoningDescription']\n",
    "df_all_data = df_all_data.drop(columns_missing5kp, axis=1)\n",
    "#df_all_data.columns"
   ]
  },
  {
   "cell_type": "code",
   "execution_count": null,
   "metadata": {},
   "outputs": [],
   "source": [
    "dictionary_notlisted={}\n",
    "column_list=list(df_all_data.columns)\n",
    "for column in column_list:\n",
    "    num_missing=len(df_all_data[df_all_data[column]==\"NotListed\"])\n",
    "    dictionary_notlisted[column]=num_missing"
   ]
  },
  {
   "cell_type": "code",
   "execution_count": null,
   "metadata": {},
   "outputs": [],
   "source": [
    "dictionary_notlisted"
   ]
  },
  {
   "cell_type": "code",
   "execution_count": null,
   "metadata": {},
   "outputs": [],
   "source": [
    "columns_to_remove=['index', 'url', 'propertyTaxes']\n",
    "df_all_data = df_all_data.drop(columns_to_remove, axis=1)\n",
    "#df_all_data.columns"
   ]
  },
  {
   "cell_type": "code",
   "execution_count": null,
   "metadata": {},
   "outputs": [],
   "source": [
    "dictionary_notlisted={}\n",
    "column_list=list(df_all_data.columns)\n",
    "for column in column_list:\n",
    "    num_missing=len(df_all_data[df_all_data[column]==\"NotListed\"])\n",
    "    dictionary_notlisted[column]=num_missing\n",
    "#dictionary_notlisted"
   ]
  },
  {
   "cell_type": "code",
   "execution_count": null,
   "metadata": {},
   "outputs": [],
   "source": [
    "#df_all_data[df_all_data[\"communityName\"]!=\"NotListed\"]"
   ]
  },
  {
   "cell_type": "code",
   "execution_count": null,
   "metadata": {},
   "outputs": [],
   "source": [
    "#df_all_data[df_all_data[\"title\"]!=\"NotListed\"]"
   ]
  },
  {
   "cell_type": "code",
   "execution_count": null,
   "metadata": {
    "scrolled": true
   },
   "outputs": [],
   "source": [
    "#df_all_data[\"title\"].value_counts()"
   ]
  },
  {
   "cell_type": "code",
   "execution_count": null,
   "metadata": {
    "scrolled": true
   },
   "outputs": [],
   "source": [
    "#df_all_data[\"bedroomAboveGrade\"].value_counts()"
   ]
  },
  {
   "cell_type": "code",
   "execution_count": null,
   "metadata": {},
   "outputs": [],
   "source": [
    "#df_all_data[\"style\"].value_counts()"
   ]
  },
  {
   "cell_type": "code",
   "execution_count": null,
   "metadata": {},
   "outputs": [],
   "source": [
    "#df_all_data[df_all_data[\"landSize\"]!=\"NotListed\"]"
   ]
  },
  {
   "cell_type": "code",
   "execution_count": null,
   "metadata": {},
   "outputs": [],
   "source": [
    "#df_all_data[df_all_data[\"parkingType\"]!=\"NotListed\"]"
   ]
  },
  {
   "cell_type": "code",
   "execution_count": null,
   "metadata": {},
   "outputs": [],
   "source": [
    "#df_all_data[\"parkingType\"].value_counts()"
   ]
  },
  {
   "cell_type": "code",
   "execution_count": null,
   "metadata": {
    "scrolled": true
   },
   "outputs": [],
   "source": [
    "#df_all_data[\"basementType\"].value_counts()"
   ]
  },
  {
   "cell_type": "code",
   "execution_count": null,
   "metadata": {
    "scrolled": true
   },
   "outputs": [],
   "source": [
    "#df_all_data[\"cooling\"].value_counts()"
   ]
  },
  {
   "cell_type": "code",
   "execution_count": null,
   "metadata": {
    "scrolled": true
   },
   "outputs": [],
   "source": [
    "#df_all_data[\"heatingType\"].value_counts()"
   ]
  },
  {
   "cell_type": "code",
   "execution_count": null,
   "metadata": {},
   "outputs": [],
   "source": [
    "#df_all_data[\"exteriorFinish\"].value_counts()"
   ]
  },
  {
   "cell_type": "code",
   "execution_count": null,
   "metadata": {},
   "outputs": [],
   "source": [
    "#df_all_data[\"amenitiesNearby\"].value_counts()"
   ]
  },
  {
   "cell_type": "code",
   "execution_count": null,
   "metadata": {
    "scrolled": true
   },
   "outputs": [],
   "source": [
    "#df_all_data[\"totalParkingSpaces\"].value_counts()\n"
   ]
  },
  {
   "cell_type": "code",
   "execution_count": null,
   "metadata": {},
   "outputs": [],
   "source": [
    "#df_all_data[\"maintenanceFees\"].value_counts()"
   ]
  },
  {
   "cell_type": "code",
   "execution_count": null,
   "metadata": {
    "scrolled": true
   },
   "outputs": [],
   "source": [
    "#df_all_data[\"maintenanceManagementCompany\"].value_counts()"
   ]
  },
  {
   "cell_type": "code",
   "execution_count": null,
   "metadata": {},
   "outputs": [],
   "source": [
    "#df_all_data[\"city\"].value_counts()"
   ]
  },
  {
   "cell_type": "markdown",
   "metadata": {},
   "source": [
    "## Statistics for Column \"Price\" \n",
    "## For all listings  "
   ]
  },
  {
   "cell_type": "markdown",
   "metadata": {},
   "source": [
    "Set the display option for describe()"
   ]
  },
  {
   "cell_type": "code",
   "execution_count": null,
   "metadata": {},
   "outputs": [],
   "source": [
    "pd.set_option('float_format', '{:.2f}'.format)"
   ]
  },
  {
   "cell_type": "code",
   "execution_count": null,
   "metadata": {
    "scrolled": true
   },
   "outputs": [],
   "source": [
    "df_all_data[\"price\"].describe()"
   ]
  },
  {
   "cell_type": "markdown",
   "metadata": {},
   "source": [
    "Average price for all listings"
   ]
  },
  {
   "cell_type": "code",
   "execution_count": null,
   "metadata": {},
   "outputs": [],
   "source": [
    "df_all_data[\"price\"].mean()"
   ]
  },
  {
   "cell_type": "markdown",
   "metadata": {},
   "source": [
    "Median price for all listings  "
   ]
  },
  {
   "cell_type": "code",
   "execution_count": null,
   "metadata": {},
   "outputs": [],
   "source": [
    "df_all_data[\"price\"].median()"
   ]
  },
  {
   "cell_type": "markdown",
   "metadata": {},
   "source": [
    "Mode price for all listings"
   ]
  },
  {
   "cell_type": "code",
   "execution_count": null,
   "metadata": {
    "scrolled": true
   },
   "outputs": [],
   "source": [
    "df_all_data[\"price\"].mode()\n"
   ]
  },
  {
   "cell_type": "code",
   "execution_count": null,
   "metadata": {},
   "outputs": [],
   "source": [
    "df_all_data[\"price\"]=df_all_data[\"price\"].astype(int)"
   ]
  },
  {
   "cell_type": "markdown",
   "metadata": {},
   "source": [
    "## For Toronto"
   ]
  },
  {
   "cell_type": "code",
   "execution_count": null,
   "metadata": {},
   "outputs": [],
   "source": [
    "df_toronto=df_all_data[df_all_data[\"city\"]==\"Toronto\"]\n",
    "len(df_toronto)"
   ]
  },
  {
   "cell_type": "code",
   "execution_count": null,
   "metadata": {},
   "outputs": [],
   "source": [
    "df_toronto[\"price\"].describe()"
   ]
  },
  {
   "cell_type": "code",
   "execution_count": null,
   "metadata": {},
   "outputs": [],
   "source": [
    "df_toronto[\"price\"].mean()"
   ]
  },
  {
   "cell_type": "code",
   "execution_count": null,
   "metadata": {},
   "outputs": [],
   "source": [
    "df_toronto[\"price\"].median()"
   ]
  },
  {
   "cell_type": "code",
   "execution_count": null,
   "metadata": {},
   "outputs": [],
   "source": [
    "df_toronto[\"price\"].mode()"
   ]
  },
  {
   "cell_type": "markdown",
   "metadata": {},
   "source": [
    "## For Ottawa"
   ]
  },
  {
   "cell_type": "code",
   "execution_count": null,
   "metadata": {},
   "outputs": [],
   "source": [
    "df_ottawa=df_all_data[df_all_data[\"city\"]==\"Ottawa\"]\n",
    "len(df_ottawa)"
   ]
  },
  {
   "cell_type": "code",
   "execution_count": null,
   "metadata": {
    "scrolled": false
   },
   "outputs": [],
   "source": [
    "df_ottawa[\"price\"].describe()"
   ]
  },
  {
   "cell_type": "code",
   "execution_count": null,
   "metadata": {},
   "outputs": [],
   "source": [
    "df_ottawa[\"price\"].mean()"
   ]
  },
  {
   "cell_type": "code",
   "execution_count": null,
   "metadata": {
    "scrolled": true
   },
   "outputs": [],
   "source": [
    "df_ottawa[\"price\"].median()"
   ]
  },
  {
   "cell_type": "code",
   "execution_count": null,
   "metadata": {},
   "outputs": [],
   "source": [
    "df_ottawa[\"price\"].mode()"
   ]
  },
  {
   "cell_type": "markdown",
   "metadata": {},
   "source": [
    "## For Hamilton"
   ]
  },
  {
   "cell_type": "code",
   "execution_count": null,
   "metadata": {
    "scrolled": true
   },
   "outputs": [],
   "source": [
    "df_hamilton=df_all_data[df_all_data[\"city\"]==\"Hamilton\"]\n",
    "len(df_hamilton)"
   ]
  },
  {
   "cell_type": "code",
   "execution_count": null,
   "metadata": {
    "scrolled": false
   },
   "outputs": [],
   "source": [
    "df_hamilton[\"price\"].describe()"
   ]
  },
  {
   "cell_type": "code",
   "execution_count": null,
   "metadata": {},
   "outputs": [],
   "source": [
    "df_hamilton[\"price\"].mean()"
   ]
  },
  {
   "cell_type": "code",
   "execution_count": null,
   "metadata": {},
   "outputs": [],
   "source": [
    "df_hamilton[\"price\"].median()"
   ]
  },
  {
   "cell_type": "code",
   "execution_count": null,
   "metadata": {},
   "outputs": [],
   "source": [
    "df_hamilton[\"price\"].mode()"
   ]
  },
  {
   "cell_type": "markdown",
   "metadata": {},
   "source": [
    "## For Mississauga"
   ]
  },
  {
   "cell_type": "code",
   "execution_count": null,
   "metadata": {
    "scrolled": true
   },
   "outputs": [],
   "source": [
    "df_missi=df_all_data[df_all_data[\"city\"]==\"Mississauga\"]\n",
    "len(df_missi)"
   ]
  },
  {
   "cell_type": "code",
   "execution_count": null,
   "metadata": {
    "scrolled": false
   },
   "outputs": [],
   "source": [
    "df_missi[\"price\"].describe()"
   ]
  },
  {
   "cell_type": "code",
   "execution_count": null,
   "metadata": {},
   "outputs": [],
   "source": [
    "df_missi[\"price\"].mean()"
   ]
  },
  {
   "cell_type": "code",
   "execution_count": null,
   "metadata": {},
   "outputs": [],
   "source": [
    "df_missi[\"price\"].median()"
   ]
  },
  {
   "cell_type": "code",
   "execution_count": null,
   "metadata": {},
   "outputs": [],
   "source": [
    "df_missi[\"price\"].mode()"
   ]
  },
  {
   "cell_type": "markdown",
   "metadata": {},
   "source": [
    "## For Brampton"
   ]
  },
  {
   "cell_type": "code",
   "execution_count": null,
   "metadata": {
    "scrolled": true
   },
   "outputs": [],
   "source": [
    "df_brampton=df_all_data[df_all_data[\"city\"]==\"Brampton\"]\n",
    "len(df_brampton)"
   ]
  },
  {
   "cell_type": "code",
   "execution_count": null,
   "metadata": {
    "scrolled": false
   },
   "outputs": [],
   "source": [
    "df_brampton[\"price\"].describe()"
   ]
  },
  {
   "cell_type": "code",
   "execution_count": null,
   "metadata": {},
   "outputs": [],
   "source": [
    "df_brampton[\"price\"].mean()"
   ]
  },
  {
   "cell_type": "code",
   "execution_count": null,
   "metadata": {},
   "outputs": [],
   "source": [
    "df_brampton[\"price\"].median()"
   ]
  },
  {
   "cell_type": "code",
   "execution_count": null,
   "metadata": {},
   "outputs": [],
   "source": [
    "df_brampton[\"price\"].median()"
   ]
  },
  {
   "cell_type": "markdown",
   "metadata": {},
   "source": [
    "## Visualization: Show the distribution for house lower than 2 milion $  "
   ]
  },
  {
   "cell_type": "code",
   "execution_count": null,
   "metadata": {},
   "outputs": [],
   "source": [
    "price_lowerthan=2000000\n",
    "num_bins=40"
   ]
  },
  {
   "cell_type": "code",
   "execution_count": null,
   "metadata": {},
   "outputs": [],
   "source": [
    "import seaborn as sns\n",
    "\n",
    "sns.set(style='whitegrid', palette=\"deep\", font_scale=1.1, rc={\"figure.figsize\": [20, 8]})\n",
    "sns.distplot(\n",
    "    df_all_data[df_all_data['price']<=price_lowerthan]['price'], norm_hist=False, kde=True, bins=num_bins, hist_kws={\"alpha\": 1}).set(xlabel='price', ylabel='count',xlim=(80000,price_lowerthan+100000));"
   ]
  },
  {
   "cell_type": "markdown",
   "metadata": {},
   "source": [
    "## Toronto  "
   ]
  },
  {
   "cell_type": "code",
   "execution_count": null,
   "metadata": {
    "scrolled": false
   },
   "outputs": [],
   "source": [
    "import seaborn as sns\n",
    "\n",
    "sns.set(style='whitegrid', palette=\"deep\", font_scale=1.1, rc={\"figure.figsize\": [20, 8]})\n",
    "sns.distplot(\n",
    "    df_toronto[df_toronto['price']<=price_lowerthan]['price'], norm_hist=False, kde=True, bins=num_bins, hist_kws={\"alpha\": 1}\n",
    ").set(xlabel='price', ylabel='count',xlim=(80000,price_lowerthan+100000));"
   ]
  },
  {
   "cell_type": "markdown",
   "metadata": {},
   "source": [
    "## Ottawa"
   ]
  },
  {
   "cell_type": "code",
   "execution_count": null,
   "metadata": {},
   "outputs": [],
   "source": [
    "import seaborn as sns\n",
    "\n",
    "sns.set(style='whitegrid', palette=\"deep\", font_scale=1.1, rc={\"figure.figsize\": [20, 8]})\n",
    "sns.distplot(\n",
    "    df_ottawa[df_ottawa['price']<=price_lowerthan]['price'], norm_hist=False, kde=True, bins=num_bins, hist_kws={\"alpha\": 1}\n",
    ").set(xlabel='price', ylabel='count',xlim=(80000,price_lowerthan+100000));"
   ]
  },
  {
   "cell_type": "markdown",
   "metadata": {},
   "source": [
    "## Hamilton"
   ]
  },
  {
   "cell_type": "code",
   "execution_count": null,
   "metadata": {},
   "outputs": [],
   "source": [
    "import seaborn as sns\n",
    "\n",
    "sns.set(style='whitegrid', palette=\"deep\", font_scale=1.1, rc={\"figure.figsize\": [20, 8]})\n",
    "sns.distplot(\n",
    "    df_hamilton[df_hamilton['price']<=price_lowerthan]['price'], norm_hist=False, kde=True, bins=num_bins, hist_kws={\"alpha\": 1}\n",
    ").set(xlabel='price', ylabel='count',xlim=(80000,price_lowerthan+100000));"
   ]
  },
  {
   "cell_type": "markdown",
   "metadata": {},
   "source": [
    "## Mississauga"
   ]
  },
  {
   "cell_type": "code",
   "execution_count": null,
   "metadata": {},
   "outputs": [],
   "source": [
    "import seaborn as sns\n",
    "\n",
    "sns.set(style='whitegrid', palette=\"deep\", font_scale=1.1, rc={\"figure.figsize\": [20, 8]})\n",
    "sns.distplot(\n",
    "    df_missi[df_missi['price']<=price_lowerthan]['price'], norm_hist=False, kde=True, bins=num_bins, hist_kws={\"alpha\": 1}\n",
    ").set(xlabel='price', ylabel='count',xlim=(80000,price_lowerthan+100000));"
   ]
  },
  {
   "cell_type": "markdown",
   "metadata": {},
   "source": [
    "## Brampton"
   ]
  },
  {
   "cell_type": "code",
   "execution_count": null,
   "metadata": {},
   "outputs": [],
   "source": [
    "import seaborn as sns\n",
    "\n",
    "sns.set(style='whitegrid', palette=\"deep\", font_scale=1.1, rc={\"figure.figsize\": [20, 8]})\n",
    "sns.distplot(\n",
    "    df_brampton[df_brampton['price']<=price_lowerthan]['price'], norm_hist=False, kde=True, bins=num_bins, hist_kws={\"alpha\": 1}\n",
    ").set(xlabel='price', ylabel='count',xlim=(80000,price_lowerthan+100000));"
   ]
  },
  {
   "cell_type": "code",
   "execution_count": null,
   "metadata": {},
   "outputs": [],
   "source": [
    "sns.color_palette(\"tab10\")\n"
   ]
  },
  {
   "cell_type": "markdown",
   "metadata": {},
   "source": [
    "## for all listings"
   ]
  },
  {
   "cell_type": "markdown",
   "metadata": {},
   "source": [
    "## Check the distribution for BedroomAboveGrade"
   ]
  },
  {
   "cell_type": "code",
   "execution_count": null,
   "metadata": {},
   "outputs": [],
   "source": [
    "sns.displot(df_all_data[df_all_data[\"price\"]<=1000000], x=\"price\", hue=\"bedroomAboveGrade\", multiple=\"stack\",bins=20,\n",
    "            height=10, aspect=2, palette='colorblind')"
   ]
  },
  {
   "cell_type": "markdown",
   "metadata": {},
   "source": [
    "## check bathroomTotal"
   ]
  },
  {
   "cell_type": "code",
   "execution_count": null,
   "metadata": {},
   "outputs": [],
   "source": [
    "sns.displot(df_all_data[df_all_data[\"price\"]<=1000000], x=\"price\", hue=\"bathroomTotal\", multiple=\"stack\",bins=20,\n",
    "            height=10, aspect=2, palette='colorblind')"
   ]
  },
  {
   "cell_type": "markdown",
   "metadata": {},
   "source": [
    "## Reorder the dataframe"
   ]
  },
  {
   "cell_type": "code",
   "execution_count": null,
   "metadata": {},
   "outputs": [],
   "source": [
    "cols = df_all_data.columns.tolist()"
   ]
  },
  {
   "cell_type": "code",
   "execution_count": null,
   "metadata": {},
   "outputs": [],
   "source": [
    "cols"
   ]
  },
  {
   "cell_type": "code",
   "execution_count": null,
   "metadata": {},
   "outputs": [],
   "source": [
    "cols= ['MLS', #ID of the listing\n",
    " 'price',\n",
    " 'city',\n",
    " 'communityName', #name of the community, could be used when the address is not available\n",
    " 'address',\n",
    " 'postal', #postal code\n",
    " 'description',\n",
    " 'propertyType', #identify Vacant Land for sale\n",
    " 'buildingType', #identify types of building\n",
    " 'title', #identify ownership of the building\n",
    " 'bedroomAboveGrade', #the number of bedrooms on the ground\n",
    " 'bedroomBelowGrade', #the number of bedrooms in the basement\n",
    " 'bathroomTotal', #the number of bathrooms that have bath and toilet\n",
    " 'bathroomPartial', #the number of bathrooms that only have toilet\n",
    " 'parkingType', #garage/basement?\n",
    " 'totalParkingSpaces', #the number of parking spaces\n",
    " 'landSize',\n",
    " 'storeys', #number of storeys\n",
    " 'basementType',\n",
    " 'style', #detached, or attached, or stacked... does not apply to condo\n",
    " 'buildingAmenities', #only condo has this?\n",
    " 'maintenanceFees', #only condo has this?\n",
    " 'maintenanceManagementCompany', #only condo has this?\n",
    " 'cooling',\n",
    " 'heatingType',\n",
    " 'exteriorFinish',\n",
    " 'buildingFeatures', #Park/reserve, Country residential, parkland...\n",
    " 'amenitiesNearby'\n",
    "]"
   ]
  },
  {
   "cell_type": "code",
   "execution_count": null,
   "metadata": {},
   "outputs": [],
   "source": [
    "df_all_data = df_all_data[cols]"
   ]
  },
  {
   "cell_type": "markdown",
   "metadata": {},
   "source": [
    "## Clean \"buildingType\""
   ]
  },
  {
   "cell_type": "code",
   "execution_count": null,
   "metadata": {},
   "outputs": [],
   "source": [
    "#df_all_data[\"buildingType\"].value_counts()"
   ]
  },
  {
   "cell_type": "code",
   "execution_count": null,
   "metadata": {},
   "outputs": [],
   "source": [
    "df1=df_all_data[df_all_data[\"buildingType\"]==\"NotListed\"]"
   ]
  },
  {
   "cell_type": "code",
   "execution_count": null,
   "metadata": {},
   "outputs": [],
   "source": [
    "#show full content in description boxes\n",
    "pd.set_option(\"display.max_colwidth\", None)"
   ]
  },
  {
   "cell_type": "markdown",
   "metadata": {},
   "source": [
    "## add a new column 'typeBuildng' to combine and replace \"propertyType\" and \"buildingType\"\n"
   ]
  },
  {
   "cell_type": "code",
   "execution_count": null,
   "metadata": {
    "scrolled": false
   },
   "outputs": [],
   "source": [
    "## add a new column 'typeBuildng' to combine and replace \"propertyType\" and \"buildingType\"\n",
    "df_all_data['typeBuilding']=df_all_data['buildingType']\n",
    "\n",
    "df_all_data['typeBuilding'] = df_all_data.apply(lambda x: 'Vacant Land' if x['propertyType'] == 'Vacant Land'  else x['typeBuilding'],axis=1)\n"
   ]
  },
  {
   "cell_type": "code",
   "execution_count": null,
   "metadata": {
    "scrolled": true
   },
   "outputs": [],
   "source": [
    "#df_all_data[df_all_data['typeBuilding']==\"NotListed\"]"
   ]
  },
  {
   "cell_type": "code",
   "execution_count": null,
   "metadata": {
    "scrolled": true
   },
   "outputs": [],
   "source": [
    "#df_all_data[df_all_data['typeBuilding']==\"NotListed\"][\"description\"].str.contains('semi-detached', case=False)"
   ]
  },
  {
   "cell_type": "code",
   "execution_count": null,
   "metadata": {
    "scrolled": true
   },
   "outputs": [],
   "source": [
    "df_all_data.loc[(df_all_data['description'].str.contains('semi-detached', case=False))& (df_all_data['typeBuilding']==\"NotListed\"), 'typeBuilding'] = 'Duplex'\n"
   ]
  },
  {
   "cell_type": "code",
   "execution_count": null,
   "metadata": {},
   "outputs": [],
   "source": [
    "df_all_data.loc[(df_all_data['description'].str.contains('townhome', case=False))& (df_all_data['typeBuilding']==\"NotListed\"), 'typeBuilding'] = 'Row / Townhouse'\n"
   ]
  },
  {
   "cell_type": "code",
   "execution_count": null,
   "metadata": {},
   "outputs": [],
   "source": [
    "df_all_data.loc[(df_all_data['description'].str.contains('condo', case=False))& (df_all_data['typeBuilding']==\"NotListed\"), 'typeBuilding'] = 'Apartment'\n",
    "df_all_data.loc[(df_all_data['description'].str.contains('loft', case=False))& (df_all_data['typeBuilding']==\"NotListed\"), 'typeBuilding'] = 'Apartment'\n",
    "df_all_data.loc[(df_all_data['description'].str.contains(' den ', case=False))& (df_all_data['typeBuilding']==\"NotListed\"), 'typeBuilding'] = 'Apartment'\n",
    "df_all_data.loc[(df_all_data['description'].str.contains('unit', case=False))& (df_all_data['typeBuilding']==\"NotListed\"), 'typeBuilding'] = 'Apartment'\n",
    "df_all_data.loc[(df_all_data['description'].str.contains('penthouse', case=False))& (df_all_data['typeBuilding']==\"NotListed\"), 'typeBuilding'] = 'Apartment'"
   ]
  },
  {
   "cell_type": "code",
   "execution_count": null,
   "metadata": {},
   "outputs": [],
   "source": [
    "df_all_data.loc[df_all_data[\"MLS\"]==\"W5202453\", 'typeBuilding']=\"Apartment\""
   ]
  },
  {
   "cell_type": "code",
   "execution_count": null,
   "metadata": {},
   "outputs": [],
   "source": [
    "df_all_data.loc[(df_all_data['title'].str.contains('Freehold', case=False))& (df_all_data['typeBuilding']==\"NotListed\"), 'typeBuilding'] = 'House'"
   ]
  },
  {
   "cell_type": "code",
   "execution_count": null,
   "metadata": {},
   "outputs": [],
   "source": [
    "#df_all_data[df_all_data['MLS']==\"40115415\"]"
   ]
  },
  {
   "cell_type": "code",
   "execution_count": null,
   "metadata": {},
   "outputs": [],
   "source": [
    "#df_all_data['typeBuilding'].value_counts()"
   ]
  },
  {
   "cell_type": "markdown",
   "metadata": {},
   "source": [
    "## check the Other building type"
   ]
  },
  {
   "cell_type": "code",
   "execution_count": null,
   "metadata": {
    "scrolled": true
   },
   "outputs": [],
   "source": [
    "#df_all_data[df_all_data['typeBuilding']==\"Other\"]"
   ]
  },
  {
   "cell_type": "code",
   "execution_count": null,
   "metadata": {},
   "outputs": [],
   "source": [
    "df_all_data.loc[(df_all_data['description'].str.contains('townhouse', case=False))& (df_all_data['typeBuilding']==\"Other\"), 'typeBuilding'] = 'Row / Townhouse'\n"
   ]
  },
  {
   "cell_type": "code",
   "execution_count": null,
   "metadata": {},
   "outputs": [],
   "source": [
    "#df_all_data[df_all_data['typeBuilding']==\"Other\"][\"description\"].str.contains(' lot!', case=False)"
   ]
  },
  {
   "cell_type": "code",
   "execution_count": null,
   "metadata": {},
   "outputs": [],
   "source": [
    "df_all_data.loc[(df_all_data['description'].str.contains('detached', case=False))& (df_all_data['typeBuilding']==\"Other\"), 'typeBuilding'] = 'House'"
   ]
  },
  {
   "cell_type": "code",
   "execution_count": null,
   "metadata": {},
   "outputs": [],
   "source": [
    "df_all_data.loc[(df_all_data['description'].str.contains(' lot!', case=False))& (df_all_data['typeBuilding']==\"Other\"), 'typeBuilding'] = 'Vacant Land'"
   ]
  },
  {
   "cell_type": "markdown",
   "metadata": {},
   "source": [
    "## Identify Commercial Residential Mix used building"
   ]
  },
  {
   "cell_type": "code",
   "execution_count": null,
   "metadata": {},
   "outputs": [],
   "source": [
    "df_all_data.loc[(df_all_data['description'].str.contains(' Mixed Use', case=False))& (df_all_data['typeBuilding']==\"Other\"), 'typeBuilding'] = 'Mixed'\n",
    "df_all_data.loc[(df_all_data['description'].str.contains('Retail Store Currently Leased', case=False))& (df_all_data['typeBuilding']==\"Other\"), 'typeBuilding'] = 'Mixed'"
   ]
  },
  {
   "cell_type": "markdown",
   "metadata": {},
   "source": [
    "## typeBuilding is Modular"
   ]
  },
  {
   "cell_type": "code",
   "execution_count": null,
   "metadata": {
    "scrolled": true
   },
   "outputs": [],
   "source": [
    "#df_all_data[df_all_data['typeBuilding']==\"Modular\"]"
   ]
  },
  {
   "cell_type": "markdown",
   "metadata": {},
   "source": [
    "## typeBuilding is Manufactured Home"
   ]
  },
  {
   "cell_type": "code",
   "execution_count": null,
   "metadata": {
    "scrolled": true
   },
   "outputs": [],
   "source": [
    "#df_all_data[df_all_data['typeBuilding']==\"Manufactured Home\"]"
   ]
  },
  {
   "cell_type": "markdown",
   "metadata": {},
   "source": [
    "## typeBuilding is Mobile Home"
   ]
  },
  {
   "cell_type": "code",
   "execution_count": null,
   "metadata": {},
   "outputs": [],
   "source": [
    "#df_all_data[df_all_data['typeBuilding']==\"Mobile Home\"]"
   ]
  },
  {
   "cell_type": "markdown",
   "metadata": {},
   "source": [
    "## typeBuilding is Manufactured Home/Mobile"
   ]
  },
  {
   "cell_type": "code",
   "execution_count": null,
   "metadata": {},
   "outputs": [],
   "source": [
    "#df_all_data[df_all_data['typeBuilding']==\"Manufactured Home/Mobile\"]"
   ]
  },
  {
   "cell_type": "markdown",
   "metadata": {},
   "source": [
    "## Combine Manufactured home, mobile home, and manufacturedhome/mobile together as \"Manufactured/mobile\""
   ]
  },
  {
   "cell_type": "code",
   "execution_count": null,
   "metadata": {},
   "outputs": [],
   "source": [
    "df_all_data.loc[df_all_data['typeBuilding']==\"Manufactured Home\", 'typeBuilding'] = 'Manufactured/mobile'"
   ]
  },
  {
   "cell_type": "code",
   "execution_count": null,
   "metadata": {},
   "outputs": [],
   "source": [
    "df_all_data.loc[df_all_data['typeBuilding']==\"Mobile Home\", 'typeBuilding'] = 'Manufactured/mobile'"
   ]
  },
  {
   "cell_type": "code",
   "execution_count": null,
   "metadata": {},
   "outputs": [],
   "source": [
    "df_all_data.loc[df_all_data['typeBuilding']==\"Manufactured Home/Mobile\", 'typeBuilding'] = 'Manufactured/mobile'"
   ]
  },
  {
   "cell_type": "code",
   "execution_count": null,
   "metadata": {},
   "outputs": [],
   "source": [
    "df_all_data['typeBuilding'].value_counts()"
   ]
  },
  {
   "cell_type": "code",
   "execution_count": null,
   "metadata": {},
   "outputs": [],
   "source": [
    "#Remove propertyType and buildingType and reorder the dataframe\n",
    "df_all_data = df_all_data.drop([\"propertyType\", \"buildingType\"], axis=1)\n",
    "\n",
    "cols = df_all_data.columns.tolist()\n",
    "#cols"
   ]
  },
  {
   "cell_type": "code",
   "execution_count": null,
   "metadata": {},
   "outputs": [],
   "source": [
    "cols=['MLS',\n",
    " 'price',\n",
    " 'city',\n",
    " 'communityName',\n",
    " 'address',\n",
    " 'postal',\n",
    " 'description',\n",
    " 'typeBuilding',\n",
    " 'title',\n",
    " 'bedroomAboveGrade',\n",
    " 'bedroomBelowGrade',\n",
    " 'bathroomTotal',\n",
    " 'bathroomPartial',\n",
    " 'parkingType',\n",
    " 'totalParkingSpaces',\n",
    " 'landSize',\n",
    " 'storeys',\n",
    " 'basementType',\n",
    " 'style',\n",
    " 'buildingAmenities',\n",
    " 'maintenanceFees',\n",
    " 'maintenanceManagementCompany',\n",
    " 'cooling',\n",
    " 'heatingType',\n",
    " 'exteriorFinish',\n",
    " 'buildingFeatures',\n",
    " 'amenitiesNearby']"
   ]
  },
  {
   "cell_type": "code",
   "execution_count": null,
   "metadata": {},
   "outputs": [],
   "source": [
    "df_all_data = df_all_data[cols]"
   ]
  },
  {
   "cell_type": "markdown",
   "metadata": {},
   "source": [
    "## clean \"title\""
   ]
  },
  {
   "cell_type": "code",
   "execution_count": null,
   "metadata": {
    "scrolled": true
   },
   "outputs": [],
   "source": [
    "df_all_data.title.value_counts()"
   ]
  },
  {
   "cell_type": "markdown",
   "metadata": {},
   "source": [
    "## change unknown to NotListed"
   ]
  },
  {
   "cell_type": "code",
   "execution_count": null,
   "metadata": {},
   "outputs": [],
   "source": [
    "df_all_data.loc[df_all_data['title']==\"Unknown\", 'title'] = 'NotListed'"
   ]
  },
  {
   "cell_type": "code",
   "execution_count": null,
   "metadata": {},
   "outputs": [],
   "source": [
    "df_all_data.loc[df_all_data['title']==\"Other, See Remarks\", 'title'] = 'NotListed'"
   ]
  },
  {
   "cell_type": "code",
   "execution_count": null,
   "metadata": {},
   "outputs": [],
   "source": [
    "#df_all_data[df_all_data[\"title\"]==\"NotListed\"].typeBuilding.value_counts()"
   ]
  },
  {
   "cell_type": "markdown",
   "metadata": {},
   "source": [
    "## For Vacant Land, assume that the title is freehold"
   ]
  },
  {
   "cell_type": "code",
   "execution_count": null,
   "metadata": {
    "scrolled": true
   },
   "outputs": [],
   "source": [
    "df_all_data[df_all_data[\"typeBuilding\"]==\"Vacant Land\"].title.value_counts()"
   ]
  },
  {
   "cell_type": "code",
   "execution_count": null,
   "metadata": {},
   "outputs": [],
   "source": [
    "df_all_data.loc[(df_all_data['title']==\"NotListed\")&(df_all_data['typeBuilding']==\"Vacant Land\"), 'title'] = 'Freehold'"
   ]
  },
  {
   "cell_type": "markdown",
   "metadata": {},
   "source": [
    "## Duplex is usually freehold, assume unknown Duplex to be freehold"
   ]
  },
  {
   "cell_type": "code",
   "execution_count": null,
   "metadata": {},
   "outputs": [],
   "source": [
    "#df_all_data[df_all_data[\"typeBuilding\"]==\"Duplex\"]"
   ]
  },
  {
   "cell_type": "code",
   "execution_count": null,
   "metadata": {},
   "outputs": [],
   "source": [
    "df_all_data[df_all_data[\"typeBuilding\"]==\"Duplex\"].title.value_counts()"
   ]
  },
  {
   "cell_type": "code",
   "execution_count": null,
   "metadata": {},
   "outputs": [],
   "source": [
    "df_all_data.loc[(df_all_data['title']==\"NotListed\")&(df_all_data['typeBuilding']==\"Duplex\"), 'title'] = 'Freehold'"
   ]
  },
  {
   "cell_type": "markdown",
   "metadata": {},
   "source": [
    "## check Triplex; assume triplex is freehold"
   ]
  },
  {
   "cell_type": "code",
   "execution_count": null,
   "metadata": {
    "scrolled": true
   },
   "outputs": [],
   "source": [
    "#df_all_data[df_all_data[\"typeBuilding\"]==\"Triplex\"]"
   ]
  },
  {
   "cell_type": "code",
   "execution_count": null,
   "metadata": {},
   "outputs": [],
   "source": [
    "df_all_data.loc[(df_all_data['title']==\"NotListed\")&(df_all_data['typeBuilding']==\"Triplex\"), 'title'] = 'Freehold'"
   ]
  },
  {
   "cell_type": "markdown",
   "metadata": {},
   "source": [
    "## Check Fourplex; assume Fourplex to be Freehold"
   ]
  },
  {
   "cell_type": "code",
   "execution_count": null,
   "metadata": {
    "scrolled": true
   },
   "outputs": [],
   "source": [
    "#df_all_data[df_all_data[\"typeBuilding\"]==\"Fourplex\"]"
   ]
  },
  {
   "cell_type": "code",
   "execution_count": null,
   "metadata": {},
   "outputs": [],
   "source": [
    "df_all_data.loc[(df_all_data['title']==\"NotListed\")&(df_all_data['typeBuilding']==\"Fourplex\"), 'title'] = 'Freehold'"
   ]
  },
  {
   "cell_type": "markdown",
   "metadata": {},
   "source": [
    "## check condominium, co-own,  co-op"
   ]
  },
  {
   "cell_type": "code",
   "execution_count": null,
   "metadata": {},
   "outputs": [],
   "source": [
    "df_all_data.loc[df_all_data['title']==\"Condominium/Strata\", 'title'] = 'Condominium'"
   ]
  },
  {
   "cell_type": "code",
   "execution_count": null,
   "metadata": {
    "scrolled": true
   },
   "outputs": [],
   "source": [
    "df_all_data[\"title\"].value_counts()"
   ]
  },
  {
   "cell_type": "code",
   "execution_count": null,
   "metadata": {},
   "outputs": [],
   "source": [
    "df_all_data.loc[df_all_data['title']==\"Undivided Co-ownership\", 'title'] = 'Co-ownership'"
   ]
  },
  {
   "cell_type": "code",
   "execution_count": null,
   "metadata": {},
   "outputs": [],
   "source": [
    "df_all_data.loc[df_all_data['title']==\"Shares in Co-operative\", 'title'] = 'Co-operative'"
   ]
  },
  {
   "cell_type": "code",
   "execution_count": null,
   "metadata": {},
   "outputs": [],
   "source": [
    "df_all_data.loc[df_all_data['title']==\"Cooperative\", 'title'] = 'Co-operative'"
   ]
  },
  {
   "cell_type": "markdown",
   "metadata": {},
   "source": [
    "## Check leasehold"
   ]
  },
  {
   "cell_type": "code",
   "execution_count": null,
   "metadata": {
    "scrolled": true
   },
   "outputs": [],
   "source": [
    "#df_all_data[df_all_data[\"title\"]==\"Leasehold\"]"
   ]
  },
  {
   "cell_type": "code",
   "execution_count": null,
   "metadata": {},
   "outputs": [],
   "source": [
    "df_all_data.loc[df_all_data['title']==\"Leasehold Condo/Strata\", 'title'] = 'Leasehold'\n"
   ]
  },
  {
   "cell_type": "markdown",
   "metadata": {},
   "source": [
    "## Check NotListed"
   ]
  },
  {
   "cell_type": "code",
   "execution_count": null,
   "metadata": {
    "scrolled": true
   },
   "outputs": [],
   "source": [
    "#df_all_data[df_all_data[\"title\"]==\"NotListed\"]"
   ]
  },
  {
   "cell_type": "markdown",
   "metadata": {},
   "source": [
    "## Check Column bedroomAoveGrade"
   ]
  },
  {
   "cell_type": "code",
   "execution_count": null,
   "metadata": {},
   "outputs": [],
   "source": [
    "df_all_data[\"bedroomAboveGrade\"].value_counts()"
   ]
  },
  {
   "cell_type": "code",
   "execution_count": null,
   "metadata": {},
   "outputs": [],
   "source": [
    "df_all_data[df_all_data[\"bedroomAboveGrade\"]==\"NotListed\"].typeBuilding.value_counts()"
   ]
  },
  {
   "cell_type": "markdown",
   "metadata": {},
   "source": [
    "## Vacant Land should have 0 bedroom"
   ]
  },
  {
   "cell_type": "code",
   "execution_count": null,
   "metadata": {},
   "outputs": [],
   "source": [
    "df_all_data.loc[df_all_data['typeBuilding']==\"Vacant Land\", 'bedroomAboveGrade'] = '0'\n"
   ]
  },
  {
   "cell_type": "code",
   "execution_count": null,
   "metadata": {
    "scrolled": true
   },
   "outputs": [],
   "source": [
    "#df_all_data[df_all_data[\"bedroomAboveGrade\"]==\"NotListed\"]"
   ]
  },
  {
   "cell_type": "markdown",
   "metadata": {},
   "source": [
    "## Check bedroom below grade"
   ]
  },
  {
   "cell_type": "code",
   "execution_count": null,
   "metadata": {
    "scrolled": true
   },
   "outputs": [],
   "source": [
    "df_all_data[\"bedroomBelowGrade\"].value_counts()"
   ]
  },
  {
   "cell_type": "code",
   "execution_count": null,
   "metadata": {},
   "outputs": [],
   "source": [
    "df_all_data[df_all_data[\"bedroomBelowGrade\"]==\"NotListed\"].typeBuilding.value_counts()"
   ]
  },
  {
   "cell_type": "markdown",
   "metadata": {},
   "source": [
    "## Assume that for all buildings who have unlisted bedroom below grade, there is no bedroom in the basement"
   ]
  },
  {
   "cell_type": "code",
   "execution_count": null,
   "metadata": {},
   "outputs": [],
   "source": [
    "df_all_data.loc[df_all_data[\"bedroomBelowGrade\"]==\"NotListed\", 'bedroomBelowGrade'] = '0'"
   ]
  },
  {
   "cell_type": "markdown",
   "metadata": {},
   "source": [
    "## Check bathroomTotal"
   ]
  },
  {
   "cell_type": "code",
   "execution_count": null,
   "metadata": {},
   "outputs": [],
   "source": [
    "df_all_data[\"bathroomTotal\"].value_counts()"
   ]
  },
  {
   "cell_type": "markdown",
   "metadata": {},
   "source": [
    "there are two 2s and two 1s, change string \"2\" to int 2. the same for other numbers."
   ]
  },
  {
   "cell_type": "code",
   "execution_count": null,
   "metadata": {},
   "outputs": [],
   "source": [
    "df_all_data.loc[df_all_data['bathroomTotal']==\"6\", 'bathroomTotal'] = 6\n",
    "df_all_data.loc[df_all_data['bathroomTotal']==\"5\", 'bathroomTotal'] = 5\n",
    "df_all_data.loc[df_all_data['bathroomTotal']==\"4\", 'bathroomTotal'] = 4\n",
    "df_all_data.loc[df_all_data['bathroomTotal']==\"3\", 'bathroomTotal'] = 3\n",
    "df_all_data.loc[df_all_data['bathroomTotal']==\"2\", 'bathroomTotal'] = 2\n",
    "df_all_data.loc[df_all_data['bathroomTotal']==\"1\", 'bathroomTotal'] = 1\n",
    "df_all_data.loc[df_all_data['bathroomTotal']==\"0\", 'bathroomTotal'] = 0"
   ]
  },
  {
   "cell_type": "markdown",
   "metadata": {},
   "source": [
    "## NotListed bathroomTotal"
   ]
  },
  {
   "cell_type": "code",
   "execution_count": null,
   "metadata": {},
   "outputs": [],
   "source": [
    "df_all_data[df_all_data[\"bathroomTotal\"]==\"NotListed\"].typeBuilding.value_counts()"
   ]
  },
  {
   "cell_type": "markdown",
   "metadata": {},
   "source": [
    "## Vacant Land does not have bathroom"
   ]
  },
  {
   "cell_type": "code",
   "execution_count": null,
   "metadata": {},
   "outputs": [],
   "source": [
    "df_all_data.loc[df_all_data['typeBuilding']==\"Vacant Land\", 'bathroomTotal'] = 0\n"
   ]
  },
  {
   "cell_type": "markdown",
   "metadata": {},
   "source": [
    "## Check bathroomPartial, the bathroom that only have toilet"
   ]
  },
  {
   "cell_type": "code",
   "execution_count": null,
   "metadata": {},
   "outputs": [],
   "source": [
    "df_all_data[\"bathroomPartial\"].value_counts()"
   ]
  },
  {
   "cell_type": "markdown",
   "metadata": {},
   "source": [
    "## NotListed bathroomPartial"
   ]
  },
  {
   "cell_type": "code",
   "execution_count": null,
   "metadata": {},
   "outputs": [],
   "source": [
    "df_all_data[df_all_data[\"bathroomPartial\"]==\"NotListed\"].typeBuilding.value_counts()"
   ]
  },
  {
   "cell_type": "markdown",
   "metadata": {},
   "source": [
    "## assume if not specified, there is no partial bathroom"
   ]
  },
  {
   "cell_type": "code",
   "execution_count": null,
   "metadata": {},
   "outputs": [],
   "source": [
    "df_all_data.loc[df_all_data['bathroomPartial']==\"NotListed\", 'bathroomPartial'] = \"0\""
   ]
  },
  {
   "cell_type": "code",
   "execution_count": null,
   "metadata": {},
   "outputs": [],
   "source": [
    "## change string 0 to integer 0 \n",
    "df_all_data.loc[df_all_data['bathroomPartial']==\"0\", 'bathroomPartial'] = 0"
   ]
  },
  {
   "cell_type": "code",
   "execution_count": null,
   "metadata": {},
   "outputs": [],
   "source": [
    "len(df_all_data.columns)"
   ]
  },
  {
   "cell_type": "markdown",
   "metadata": {},
   "source": [
    "## Output Data, and then go to Part 2 code "
   ]
  },
  {
   "cell_type": "code",
   "execution_count": null,
   "metadata": {},
   "outputs": [],
   "source": [
    "df_all_data.to_csv(output_folder+\"/\"+\"all_after_preprocessing\"+'.csv', index=False)"
   ]
  }
 ],
 "metadata": {
  "kernelspec": {
   "display_name": "Python 3",
   "language": "python",
   "name": "python3"
  },
  "language_info": {
   "codemirror_mode": {
    "name": "ipython",
    "version": 3
   },
   "file_extension": ".py",
   "mimetype": "text/x-python",
   "name": "python",
   "nbconvert_exporter": "python",
   "pygments_lexer": "ipython3",
   "version": "3.8.8"
  }
 },
 "nbformat": 4,
 "nbformat_minor": 4
}
